{
 "cells": [
  {
   "cell_type": "markdown",
   "metadata": {},
   "source": [
    "# Automated ML\n",
    "\n",
    "TODO: Import Dependencies. In the cell below, import all the dependencies that you will need to complete the project."
   ]
  },
  {
   "cell_type": "code",
   "execution_count": 1,
   "metadata": {
    "gather": {
     "logged": 1610552122620
    },
    "jupyter": {
     "outputs_hidden": false,
     "source_hidden": false
    },
    "nteract": {
     "transient": {
      "deleting": false
     }
    }
   },
   "outputs": [],
   "source": [
    "import logging\n",
    "\n",
    "from matplotlib import pyplot as plt\n",
    "import pandas as pd\n",
    "import os\n",
    "\n",
    "import azureml.core\n",
    "from azureml.core.experiment import Experiment\n",
    "from azureml.core.workspace import Workspace\n",
    "from azureml.automl.core.featurization import FeaturizationConfig\n",
    "from azureml.core.dataset import Dataset\n",
    "from azureml.train.automl import AutoMLConfig\n",
    "from azureml.interpret import ExplanationClient"
   ]
  },
  {
   "cell_type": "markdown",
   "metadata": {},
   "source": [
    "## Dataset\n",
    "\n",
    "### Overview\n",
    "TODO: In this markdown cell, give an overview of the dataset you are using. Also mention the task you will be performing.\n",
    "\n",
    "\n",
    "TODO: Get data. In the cell below, write code to access the data you will be using in this project. Remember that the dataset needs to be external."
   ]
  },
  {
   "cell_type": "code",
   "execution_count": 2,
   "metadata": {
    "gather": {
     "logged": 1610552170487
    },
    "jupyter": {
     "outputs_hidden": false,
     "source_hidden": false
    },
    "nteract": {
     "transient": {
      "deleting": false
     }
    }
   },
   "outputs": [
    {
     "name": "stdout",
     "output_type": "stream",
     "text": [
      "Performing interactive authentication. Please follow the instructions on the terminal.\n",
      "To sign in, use a web browser to open the page https://microsoft.com/devicelogin and enter the code F4Z9SL7WC to authenticate.\n",
      "You have logged in. Now let us find all the subscriptions to which you have access...\n",
      "Interactive authentication successfully completed.\n",
      "Workspace name: quick-starts-ws-134567\n",
      "Azure region: southcentralus\n",
      "Subscription id: 9a7511b8-150f-4a58-8528-3e7d50216c31\n",
      "Resource group: aml-quickstarts-134567\n"
     ]
    }
   ],
   "source": [
    "ws = Workspace.from_config()\n",
    "print('Workspace name: ' + ws.name, \n",
    "      'Azure region: ' + ws.location, \n",
    "      'Subscription id: ' + ws.subscription_id, \n",
    "      'Resource group: ' + ws.resource_group, sep = '\\n')\n",
    "# choose a name for experiment\n",
    "experiment_name = 'capstone-automl'\n",
    "project_folder = './capstone-project3'\n",
    "\n",
    "experiment=Experiment(ws, experiment_name)"
   ]
  },
  {
   "cell_type": "markdown",
   "metadata": {},
   "source": [
    "## Create or Attach existing AmlCompute"
   ]
  },
  {
   "cell_type": "code",
   "execution_count": 3,
   "metadata": {
    "gather": {
     "logged": 1610552180147
    }
   },
   "outputs": [
    {
     "name": "stdout",
     "output_type": "stream",
     "text": [
      "Found existing cluster, use it.\n",
      "Succeeded\n",
      "AmlCompute wait for completion finished\n",
      "\n",
      "Minimum number of nodes requested have been provisioned\n"
     ]
    }
   ],
   "source": [
    "from azureml.core.compute import ComputeTarget, AmlCompute\n",
    "from azureml.core.compute_target import ComputeTargetException\n",
    "\n",
    "# Choose a name for your CPU cluster\n",
    "cpu_cluster_name = \"aml-compute\"\n",
    "\n",
    "# Verify that cluster does not exist already\n",
    "try:\n",
    "    compute_target = ComputeTarget(workspace=ws, name=cpu_cluster_name)\n",
    "    print('Found existing cluster, use it.')\n",
    "except ComputeTargetException:\n",
    "    compute_config = AmlCompute.provisioning_configuration(vm_size='STANDARD_D2_V2',\n",
    "                                                           max_nodes=6)\n",
    "    compute_target = ComputeTarget.create(ws, cpu_cluster_name, compute_config)\n",
    "\n",
    "compute_target.wait_for_completion(show_output=True)"
   ]
  },
  {
   "cell_type": "markdown",
   "metadata": {},
   "source": [
    "## Data"
   ]
  },
  {
   "cell_type": "code",
   "execution_count": 4,
   "metadata": {
    "gather": {
     "logged": 1610552194778
    }
   },
   "outputs": [
    {
     "data": {
      "text/html": [
       "<div>\n",
       "<style scoped>\n",
       "    .dataframe tbody tr th:only-of-type {\n",
       "        vertical-align: middle;\n",
       "    }\n",
       "\n",
       "    .dataframe tbody tr th {\n",
       "        vertical-align: top;\n",
       "    }\n",
       "\n",
       "    .dataframe thead th {\n",
       "        text-align: right;\n",
       "    }\n",
       "</style>\n",
       "<table border=\"1\" class=\"dataframe\">\n",
       "  <thead>\n",
       "    <tr style=\"text-align: right;\">\n",
       "      <th></th>\n",
       "      <th>sl_no</th>\n",
       "      <th>ssc_p</th>\n",
       "      <th>hsc_p</th>\n",
       "      <th>degree_p</th>\n",
       "      <th>etest_p</th>\n",
       "      <th>mba_p</th>\n",
       "      <th>salary</th>\n",
       "    </tr>\n",
       "  </thead>\n",
       "  <tbody>\n",
       "    <tr>\n",
       "      <th>count</th>\n",
       "      <td>215.000000</td>\n",
       "      <td>215.000000</td>\n",
       "      <td>215.000000</td>\n",
       "      <td>215.000000</td>\n",
       "      <td>215.000000</td>\n",
       "      <td>215.000000</td>\n",
       "      <td>148.000000</td>\n",
       "    </tr>\n",
       "    <tr>\n",
       "      <th>mean</th>\n",
       "      <td>108.000000</td>\n",
       "      <td>67.303395</td>\n",
       "      <td>66.333163</td>\n",
       "      <td>66.370186</td>\n",
       "      <td>72.100558</td>\n",
       "      <td>62.278186</td>\n",
       "      <td>288655.405405</td>\n",
       "    </tr>\n",
       "    <tr>\n",
       "      <th>std</th>\n",
       "      <td>62.209324</td>\n",
       "      <td>10.827205</td>\n",
       "      <td>10.897509</td>\n",
       "      <td>7.358743</td>\n",
       "      <td>13.275956</td>\n",
       "      <td>5.833385</td>\n",
       "      <td>93457.452420</td>\n",
       "    </tr>\n",
       "    <tr>\n",
       "      <th>min</th>\n",
       "      <td>1.000000</td>\n",
       "      <td>40.890000</td>\n",
       "      <td>37.000000</td>\n",
       "      <td>50.000000</td>\n",
       "      <td>50.000000</td>\n",
       "      <td>51.210000</td>\n",
       "      <td>200000.000000</td>\n",
       "    </tr>\n",
       "    <tr>\n",
       "      <th>25%</th>\n",
       "      <td>54.500000</td>\n",
       "      <td>60.600000</td>\n",
       "      <td>60.900000</td>\n",
       "      <td>61.000000</td>\n",
       "      <td>60.000000</td>\n",
       "      <td>57.945000</td>\n",
       "      <td>240000.000000</td>\n",
       "    </tr>\n",
       "    <tr>\n",
       "      <th>50%</th>\n",
       "      <td>108.000000</td>\n",
       "      <td>67.000000</td>\n",
       "      <td>65.000000</td>\n",
       "      <td>66.000000</td>\n",
       "      <td>71.000000</td>\n",
       "      <td>62.000000</td>\n",
       "      <td>265000.000000</td>\n",
       "    </tr>\n",
       "    <tr>\n",
       "      <th>75%</th>\n",
       "      <td>161.500000</td>\n",
       "      <td>75.700000</td>\n",
       "      <td>73.000000</td>\n",
       "      <td>72.000000</td>\n",
       "      <td>83.500000</td>\n",
       "      <td>66.255000</td>\n",
       "      <td>300000.000000</td>\n",
       "    </tr>\n",
       "    <tr>\n",
       "      <th>max</th>\n",
       "      <td>215.000000</td>\n",
       "      <td>89.400000</td>\n",
       "      <td>97.700000</td>\n",
       "      <td>91.000000</td>\n",
       "      <td>98.000000</td>\n",
       "      <td>77.890000</td>\n",
       "      <td>940000.000000</td>\n",
       "    </tr>\n",
       "  </tbody>\n",
       "</table>\n",
       "</div>"
      ],
      "text/plain": [
       "            sl_no       ssc_p       hsc_p    degree_p     etest_p       mba_p  \\\n",
       "count  215.000000  215.000000  215.000000  215.000000  215.000000  215.000000   \n",
       "mean   108.000000   67.303395   66.333163   66.370186   72.100558   62.278186   \n",
       "std     62.209324   10.827205   10.897509    7.358743   13.275956    5.833385   \n",
       "min      1.000000   40.890000   37.000000   50.000000   50.000000   51.210000   \n",
       "25%     54.500000   60.600000   60.900000   61.000000   60.000000   57.945000   \n",
       "50%    108.000000   67.000000   65.000000   66.000000   71.000000   62.000000   \n",
       "75%    161.500000   75.700000   73.000000   72.000000   83.500000   66.255000   \n",
       "max    215.000000   89.400000   97.700000   91.000000   98.000000   77.890000   \n",
       "\n",
       "              salary  \n",
       "count     148.000000  \n",
       "mean   288655.405405  \n",
       "std     93457.452420  \n",
       "min    200000.000000  \n",
       "25%    240000.000000  \n",
       "50%    265000.000000  \n",
       "75%    300000.000000  \n",
       "max    940000.000000  "
      ]
     },
     "execution_count": 4,
     "metadata": {},
     "output_type": "execute_result"
    }
   ],
   "source": [
    "from azureml.data.dataset_factory import TabularDatasetFactory\n",
    "# Try to load the dataset from the Workspace. Otherwise, create it from the file\n",
    "# NOTE: update the key to match the dataset name\n",
    "found = False\n",
    "key = \"Placement Dataset\"\n",
    "description_text = \"MBA placement dataset for Capstone Project\"\n",
    "\n",
    "if key in ws.datasets.keys(): \n",
    "        found = True\n",
    "        dataset = ws.datasets[key] \n",
    "\n",
    "if not found:\n",
    "        # Create AML Dataset and register it into Workspace\n",
    "        example_data = 'https://raw.githubusercontent.com/webpagearshi/capstone-project/master/starter_file/placement_data_mba.csv'\n",
    "        ds = TabularDatasetFactory.from_delimited_files(path = example_data)        \n",
    "        #Register Dataset in Workspace\n",
    "        ds = ds.register(workspace=ws,\n",
    "                                   name=key,\n",
    "                                   description=description_text)\n",
    "\n",
    "\n",
    "df = ds.to_pandas_dataframe()\n",
    "df.describe()"
   ]
  },
  {
   "cell_type": "code",
   "execution_count": 5,
   "metadata": {
    "gather": {
     "logged": 1610552204872
    }
   },
   "outputs": [],
   "source": [
    "from train import clean_data\n",
    "import pandas as pd\n",
    "# Use the clean_data function to clean your data.\n",
    "x, y = clean_data(ds)"
   ]
  },
  {
   "cell_type": "code",
   "execution_count": 6,
   "metadata": {
    "gather": {
     "logged": 1610552209719
    }
   },
   "outputs": [],
   "source": [
    "from sklearn.model_selection import train_test_split\n",
    "#create train test split\n",
    "train_x, test_x, train_y, test_y = train_test_split(x,y, test_size=0.2, random_state=223)\n",
    "#join the train_x and train_y to create train dataset\n",
    "train_df=pd.concat([train_x,train_y], axis=1)"
   ]
  },
  {
   "cell_type": "code",
   "execution_count": 7,
   "metadata": {
    "gather": {
     "logged": 1610552216984
    }
   },
   "outputs": [
    {
     "name": "stdout",
     "output_type": "stream",
     "text": [
      "Uploading an estimated of 1 files\n",
      "Uploading ./data/train_data.csv\n",
      "Uploaded ./data/train_data.csv, 1 files out of an estimated total of 1\n",
      "Uploaded 1 files\n"
     ]
    }
   ],
   "source": [
    "if not os.path.isdir('data'):\n",
    "    os.mkdir('data')\n",
    "    \n",
    "# Save the train data to a csv to be uploaded to the datastore\n",
    "pd.DataFrame(train_df).to_csv(\"data/train_data.csv\", index=False)\n",
    "\n",
    "ds = ws.get_default_datastore()\n",
    "ds.upload(src_dir='./data', target_path='mba_placement', overwrite=True, show_progress=True)\n",
    "\n",
    " \n",
    "\n",
    "# Upload the training data as a tabular dataset for access during training on remote compute\n",
    "train_data = TabularDatasetFactory.from_delimited_files(path=ds.path('mba_placement/train_data.csv'))\n",
    "label = \"status\""
   ]
  },
  {
   "cell_type": "markdown",
   "metadata": {},
   "source": [
    "## AutoML Configuration\n",
    "\n",
    "TODO: Explain why you chose the automl settings and cofiguration you used below."
   ]
  },
  {
   "cell_type": "code",
   "execution_count": 8,
   "metadata": {
    "gather": {
     "logged": 1610552224596
    },
    "jupyter": {
     "outputs_hidden": false,
     "source_hidden": false
    },
    "nteract": {
     "transient": {
      "deleting": false
     }
    }
   },
   "outputs": [],
   "source": [
    "# TODO: Put your automl settings here\n",
    "automl_settings = {\n",
    "    \"experiment_timeout_hours\" : 0.3,\n",
    "    \"enable_early_stopping\" : True,\n",
    "    \"iteration_timeout_minutes\": 5,\n",
    "    \"max_concurrent_iterations\": 4,\n",
    "    \"primary_metric\": 'accuracy',\n",
    "    \"featurization\": 'auto',\n",
    "    \"verbosity\": logging.INFO,\n",
    "}\n",
    "\n",
    "# TODO: Put your automl config here\n",
    "automl_config = AutoMLConfig(compute_target=compute_target,\n",
    "                             task = \"classification\",\n",
    "                             training_data=train_data,\n",
    "                             label_column_name=label,   \n",
    "                             path = project_folder,\n",
    "                             debug_log = \"automl_errors.log\",\n",
    "                             **automl_settings\n",
    ")"
   ]
  },
  {
   "cell_type": "code",
   "execution_count": 9,
   "metadata": {
    "gather": {
     "logged": 1610552239327
    },
    "jupyter": {
     "outputs_hidden": false,
     "source_hidden": false
    },
    "nteract": {
     "transient": {
      "deleting": false
     }
    }
   },
   "outputs": [
    {
     "name": "stdout",
     "output_type": "stream",
     "text": [
      "Running on remote.\n"
     ]
    }
   ],
   "source": [
    "# TODO: Submit your experiment\n",
    "remote_run = experiment.submit(automl_config)"
   ]
  },
  {
   "cell_type": "markdown",
   "metadata": {},
   "source": [
    "## Run Details\n",
    "\n",
    "OPTIONAL: Write about the different models trained and their performance. Why do you think some models did better than others?\n",
    "\n",
    "TODO: In the cell below, use the `RunDetails` widget to show the different experiments."
   ]
  },
  {
   "cell_type": "code",
   "execution_count": 10,
   "metadata": {
    "gather": {
     "logged": 1610552313813
    },
    "jupyter": {
     "outputs_hidden": false,
     "source_hidden": false
    },
    "nteract": {
     "transient": {
      "deleting": false
     }
    }
   },
   "outputs": [
    {
     "data": {
      "application/vnd.jupyter.widget-view+json": {
       "model_id": "866cd63cc5264bbca8a89cb2338ad578",
       "version_major": 2,
       "version_minor": 0
      },
      "text/plain": [
       "_AutoMLWidget(widget_settings={'childWidgetDisplay': 'popup', 'send_telemetry': False, 'log_level': 'INFO', 's…"
      ]
     },
     "metadata": {},
     "output_type": "display_data"
    },
    {
     "data": {
      "application/aml.mini.widget.v1": "{\"status\": \"Completed\", \"workbench_run_details_uri\": \"https://ml.azure.com/experiments/capstone-automl/runs/AutoML_522d47ff-8e2d-46e9-8575-50192f611489?wsid=/subscriptions/9a7511b8-150f-4a58-8528-3e7d50216c31/resourcegroups/aml-quickstarts-134567/workspaces/quick-starts-ws-134567\", \"run_id\": \"AutoML_522d47ff-8e2d-46e9-8575-50192f611489\", \"run_properties\": {\"run_id\": \"AutoML_522d47ff-8e2d-46e9-8575-50192f611489\", \"created_utc\": \"2021-01-13T15:37:15.296534Z\", \"properties\": {\"num_iterations\": \"1000\", \"training_type\": \"TrainFull\", \"acquisition_function\": \"EI\", \"primary_metric\": \"accuracy\", \"train_split\": \"0\", \"acquisition_parameter\": \"0\", \"num_cross_validation\": null, \"target\": \"aml-compute\", \"AMLSettingsJsonString\": \"{\\\"path\\\":null,\\\"name\\\":\\\"capstone-automl\\\",\\\"subscription_id\\\":\\\"9a7511b8-150f-4a58-8528-3e7d50216c31\\\",\\\"resource_group\\\":\\\"aml-quickstarts-134567\\\",\\\"workspace_name\\\":\\\"quick-starts-ws-134567\\\",\\\"region\\\":\\\"southcentralus\\\",\\\"compute_target\\\":\\\"aml-compute\\\",\\\"spark_service\\\":null,\\\"azure_service\\\":\\\"remote\\\",\\\"many_models\\\":false,\\\"pipeline_fetch_max_batch_size\\\":1,\\\"iterations\\\":1000,\\\"primary_metric\\\":\\\"accuracy\\\",\\\"task_type\\\":\\\"classification\\\",\\\"data_script\\\":null,\\\"validation_size\\\":0.0,\\\"n_cross_validations\\\":null,\\\"y_min\\\":null,\\\"y_max\\\":null,\\\"num_classes\\\":null,\\\"featurization\\\":\\\"auto\\\",\\\"_ignore_package_version_incompatibilities\\\":false,\\\"is_timeseries\\\":false,\\\"max_cores_per_iteration\\\":1,\\\"max_concurrent_iterations\\\":4,\\\"iteration_timeout_minutes\\\":5,\\\"mem_in_mb\\\":null,\\\"enforce_time_on_windows\\\":false,\\\"experiment_timeout_minutes\\\":18,\\\"experiment_exit_score\\\":null,\\\"whitelist_models\\\":null,\\\"blacklist_algos\\\":[\\\"TensorFlowLinearClassifier\\\",\\\"TensorFlowDNN\\\"],\\\"supported_models\\\":[\\\"MultinomialNaiveBayes\\\",\\\"BernoulliNaiveBayes\\\",\\\"ExtremeRandomTrees\\\",\\\"XGBoostClassifier\\\",\\\"KNN\\\",\\\"SVM\\\",\\\"LinearSVM\\\",\\\"LogisticRegression\\\",\\\"RandomForest\\\",\\\"LightGBM\\\",\\\"TensorFlowDNN\\\",\\\"GradientBoosting\\\",\\\"DecisionTree\\\",\\\"TensorFlowLinearClassifier\\\",\\\"AveragedPerceptronClassifier\\\",\\\"SGD\\\"],\\\"auto_blacklist\\\":true,\\\"blacklist_samples_reached\\\":false,\\\"exclude_nan_labels\\\":true,\\\"verbosity\\\":20,\\\"_debug_log\\\":\\\"azureml_automl.log\\\",\\\"show_warnings\\\":false,\\\"model_explainability\\\":true,\\\"service_url\\\":null,\\\"sdk_url\\\":null,\\\"sdk_packages\\\":null,\\\"enable_onnx_compatible_models\\\":false,\\\"enable_split_onnx_featurizer_estimator_models\\\":false,\\\"vm_type\\\":\\\"STANDARD_DS3_V2\\\",\\\"telemetry_verbosity\\\":20,\\\"send_telemetry\\\":true,\\\"enable_dnn\\\":false,\\\"scenario\\\":\\\"SDK-1.13.0\\\",\\\"environment_label\\\":null,\\\"force_text_dnn\\\":false,\\\"enable_feature_sweeping\\\":true,\\\"enable_early_stopping\\\":true,\\\"early_stopping_n_iters\\\":10,\\\"metrics\\\":null,\\\"enable_ensembling\\\":true,\\\"enable_stack_ensembling\\\":true,\\\"ensemble_iterations\\\":15,\\\"enable_tf\\\":false,\\\"enable_subsampling\\\":null,\\\"subsample_seed\\\":null,\\\"enable_nimbusml\\\":false,\\\"enable_streaming\\\":false,\\\"force_streaming\\\":false,\\\"track_child_runs\\\":true,\\\"allowed_private_models\\\":[],\\\"label_column_name\\\":\\\"status\\\",\\\"weight_column_name\\\":null,\\\"cv_split_column_names\\\":null,\\\"enable_local_managed\\\":false,\\\"_local_managed_run_id\\\":null,\\\"cost_mode\\\":1,\\\"lag_length\\\":0,\\\"metric_operation\\\":\\\"maximize\\\",\\\"preprocess\\\":true}\", \"DataPrepJsonString\": \"{\\\\\\\"training_data\\\\\\\": \\\\\\\"{\\\\\\\\\\\\\\\"blocks\\\\\\\\\\\\\\\": [{\\\\\\\\\\\\\\\"id\\\\\\\\\\\\\\\": \\\\\\\\\\\\\\\"3fcf9ad6-8515-4601-af67-3d942cdad63b\\\\\\\\\\\\\\\", \\\\\\\\\\\\\\\"type\\\\\\\\\\\\\\\": \\\\\\\\\\\\\\\"Microsoft.DPrep.GetDatastoreFilesBlock\\\\\\\\\\\\\\\", \\\\\\\\\\\\\\\"arguments\\\\\\\\\\\\\\\": {\\\\\\\\\\\\\\\"datastores\\\\\\\\\\\\\\\": [{\\\\\\\\\\\\\\\"datastoreName\\\\\\\\\\\\\\\": \\\\\\\\\\\\\\\"workspaceblobstore\\\\\\\\\\\\\\\", \\\\\\\\\\\\\\\"path\\\\\\\\\\\\\\\": \\\\\\\\\\\\\\\"mba_placement/train_data.csv\\\\\\\\\\\\\\\", \\\\\\\\\\\\\\\"resourceGroup\\\\\\\\\\\\\\\": \\\\\\\\\\\\\\\"aml-quickstarts-134567\\\\\\\\\\\\\\\", \\\\\\\\\\\\\\\"subscription\\\\\\\\\\\\\\\": \\\\\\\\\\\\\\\"9a7511b8-150f-4a58-8528-3e7d50216c31\\\\\\\\\\\\\\\", \\\\\\\\\\\\\\\"workspaceName\\\\\\\\\\\\\\\": \\\\\\\\\\\\\\\"quick-starts-ws-134567\\\\\\\\\\\\\\\"}]}, \\\\\\\\\\\\\\\"localData\\\\\\\\\\\\\\\": {}, \\\\\\\\\\\\\\\"isEnabled\\\\\\\\\\\\\\\": true, \\\\\\\\\\\\\\\"name\\\\\\\\\\\\\\\": null, \\\\\\\\\\\\\\\"annotation\\\\\\\\\\\\\\\": null}, {\\\\\\\\\\\\\\\"id\\\\\\\\\\\\\\\": \\\\\\\\\\\\\\\"b749e369-2ef8-4901-9fc2-522f39d61b29\\\\\\\\\\\\\\\", \\\\\\\\\\\\\\\"type\\\\\\\\\\\\\\\": \\\\\\\\\\\\\\\"Microsoft.DPrep.ParseDelimitedBlock\\\\\\\\\\\\\\\", \\\\\\\\\\\\\\\"arguments\\\\\\\\\\\\\\\": {\\\\\\\\\\\\\\\"columnHeadersMode\\\\\\\\\\\\\\\": 3, \\\\\\\\\\\\\\\"fileEncoding\\\\\\\\\\\\\\\": 0, \\\\\\\\\\\\\\\"handleQuotedLineBreaks\\\\\\\\\\\\\\\": false, \\\\\\\\\\\\\\\"preview\\\\\\\\\\\\\\\": false, \\\\\\\\\\\\\\\"separator\\\\\\\\\\\\\\\": \\\\\\\\\\\\\\\",\\\\\\\\\\\\\\\", \\\\\\\\\\\\\\\"skipRows\\\\\\\\\\\\\\\": 0, \\\\\\\\\\\\\\\"skipRowsMode\\\\\\\\\\\\\\\": 0}, \\\\\\\\\\\\\\\"localData\\\\\\\\\\\\\\\": {}, \\\\\\\\\\\\\\\"isEnabled\\\\\\\\\\\\\\\": true, \\\\\\\\\\\\\\\"name\\\\\\\\\\\\\\\": null, \\\\\\\\\\\\\\\"annotation\\\\\\\\\\\\\\\": null}, {\\\\\\\\\\\\\\\"id\\\\\\\\\\\\\\\": \\\\\\\\\\\\\\\"c99305fb-fc24-482c-a323-b03f1932d6b7\\\\\\\\\\\\\\\", \\\\\\\\\\\\\\\"type\\\\\\\\\\\\\\\": \\\\\\\\\\\\\\\"Microsoft.DPrep.DropColumnsBlock\\\\\\\\\\\\\\\", \\\\\\\\\\\\\\\"arguments\\\\\\\\\\\\\\\": {\\\\\\\\\\\\\\\"columns\\\\\\\\\\\\\\\": {\\\\\\\\\\\\\\\"type\\\\\\\\\\\\\\\": 0, \\\\\\\\\\\\\\\"details\\\\\\\\\\\\\\\": {\\\\\\\\\\\\\\\"selectedColumns\\\\\\\\\\\\\\\": [\\\\\\\\\\\\\\\"Path\\\\\\\\\\\\\\\"]}}}, \\\\\\\\\\\\\\\"localData\\\\\\\\\\\\\\\": {}, \\\\\\\\\\\\\\\"isEnabled\\\\\\\\\\\\\\\": true, \\\\\\\\\\\\\\\"name\\\\\\\\\\\\\\\": null, \\\\\\\\\\\\\\\"annotation\\\\\\\\\\\\\\\": null}, {\\\\\\\\\\\\\\\"id\\\\\\\\\\\\\\\": \\\\\\\\\\\\\\\"79c08343-796f-43e3-8326-7b39fd9cb1f2\\\\\\\\\\\\\\\", \\\\\\\\\\\\\\\"type\\\\\\\\\\\\\\\": \\\\\\\\\\\\\\\"Microsoft.DPrep.SetColumnTypesBlock\\\\\\\\\\\\\\\", \\\\\\\\\\\\\\\"arguments\\\\\\\\\\\\\\\": {\\\\\\\\\\\\\\\"columnConversion\\\\\\\\\\\\\\\": [{\\\\\\\\\\\\\\\"column\\\\\\\\\\\\\\\": {\\\\\\\\\\\\\\\"type\\\\\\\\\\\\\\\": 2, \\\\\\\\\\\\\\\"details\\\\\\\\\\\\\\\": {\\\\\\\\\\\\\\\"selectedColumn\\\\\\\\\\\\\\\": \\\\\\\\\\\\\\\"gender\\\\\\\\\\\\\\\"}}, \\\\\\\\\\\\\\\"typeProperty\\\\\\\\\\\\\\\": 2}, {\\\\\\\\\\\\\\\"column\\\\\\\\\\\\\\\": {\\\\\\\\\\\\\\\"type\\\\\\\\\\\\\\\": 2, \\\\\\\\\\\\\\\"details\\\\\\\\\\\\\\\": {\\\\\\\\\\\\\\\"selectedColumn\\\\\\\\\\\\\\\": \\\\\\\\\\\\\\\"ssc_p\\\\\\\\\\\\\\\"}}, \\\\\\\\\\\\\\\"typeProperty\\\\\\\\\\\\\\\": 3}, {\\\\\\\\\\\\\\\"column\\\\\\\\\\\\\\\": {\\\\\\\\\\\\\\\"type\\\\\\\\\\\\\\\": 2, \\\\\\\\\\\\\\\"details\\\\\\\\\\\\\\\": {\\\\\\\\\\\\\\\"selectedColumn\\\\\\\\\\\\\\\": \\\\\\\\\\\\\\\"hsc_p\\\\\\\\\\\\\\\"}}, \\\\\\\\\\\\\\\"typeProperty\\\\\\\\\\\\\\\": 3}, {\\\\\\\\\\\\\\\"column\\\\\\\\\\\\\\\": {\\\\\\\\\\\\\\\"type\\\\\\\\\\\\\\\": 2, \\\\\\\\\\\\\\\"details\\\\\\\\\\\\\\\": {\\\\\\\\\\\\\\\"selectedColumn\\\\\\\\\\\\\\\": \\\\\\\\\\\\\\\"degree_p\\\\\\\\\\\\\\\"}}, \\\\\\\\\\\\\\\"typeProperty\\\\\\\\\\\\\\\": 3}, {\\\\\\\\\\\\\\\"column\\\\\\\\\\\\\\\": {\\\\\\\\\\\\\\\"type\\\\\\\\\\\\\\\": 2, \\\\\\\\\\\\\\\"details\\\\\\\\\\\\\\\": {\\\\\\\\\\\\\\\"selectedColumn\\\\\\\\\\\\\\\": \\\\\\\\\\\\\\\"workex\\\\\\\\\\\\\\\"}}, \\\\\\\\\\\\\\\"typeProperty\\\\\\\\\\\\\\\": 2}, {\\\\\\\\\\\\\\\"column\\\\\\\\\\\\\\\": {\\\\\\\\\\\\\\\"type\\\\\\\\\\\\\\\": 2, \\\\\\\\\\\\\\\"details\\\\\\\\\\\\\\\": {\\\\\\\\\\\\\\\"selectedColumn\\\\\\\\\\\\\\\": \\\\\\\\\\\\\\\"etest_p\\\\\\\\\\\\\\\"}}, \\\\\\\\\\\\\\\"typeProperty\\\\\\\\\\\\\\\": 3}, {\\\\\\\\\\\\\\\"column\\\\\\\\\\\\\\\": {\\\\\\\\\\\\\\\"type\\\\\\\\\\\\\\\": 2, \\\\\\\\\\\\\\\"details\\\\\\\\\\\\\\\": {\\\\\\\\\\\\\\\"selectedColumn\\\\\\\\\\\\\\\": \\\\\\\\\\\\\\\"specialisation\\\\\\\\\\\\\\\"}}, \\\\\\\\\\\\\\\"typeProperty\\\\\\\\\\\\\\\": 2}, {\\\\\\\\\\\\\\\"column\\\\\\\\\\\\\\\": {\\\\\\\\\\\\\\\"type\\\\\\\\\\\\\\\": 2, \\\\\\\\\\\\\\\"details\\\\\\\\\\\\\\\": {\\\\\\\\\\\\\\\"selectedColumn\\\\\\\\\\\\\\\": \\\\\\\\\\\\\\\"mba_p\\\\\\\\\\\\\\\"}}, \\\\\\\\\\\\\\\"typeProperty\\\\\\\\\\\\\\\": 3}, {\\\\\\\\\\\\\\\"column\\\\\\\\\\\\\\\": {\\\\\\\\\\\\\\\"type\\\\\\\\\\\\\\\": 2, \\\\\\\\\\\\\\\"details\\\\\\\\\\\\\\\": {\\\\\\\\\\\\\\\"selectedColumn\\\\\\\\\\\\\\\": \\\\\\\\\\\\\\\"hsc_stream_Arts\\\\\\\\\\\\\\\"}}, \\\\\\\\\\\\\\\"typeProperty\\\\\\\\\\\\\\\": 2}, {\\\\\\\\\\\\\\\"column\\\\\\\\\\\\\\\": {\\\\\\\\\\\\\\\"type\\\\\\\\\\\\\\\": 2, \\\\\\\\\\\\\\\"details\\\\\\\\\\\\\\\": {\\\\\\\\\\\\\\\"selectedColumn\\\\\\\\\\\\\\\": \\\\\\\\\\\\\\\"hsc_stream_Commerce\\\\\\\\\\\\\\\"}}, \\\\\\\\\\\\\\\"typeProperty\\\\\\\\\\\\\\\": 2}, {\\\\\\\\\\\\\\\"column\\\\\\\\\\\\\\\": {\\\\\\\\\\\\\\\"type\\\\\\\\\\\\\\\": 2, \\\\\\\\\\\\\\\"details\\\\\\\\\\\\\\\": {\\\\\\\\\\\\\\\"selectedColumn\\\\\\\\\\\\\\\": \\\\\\\\\\\\\\\"hsc_stream_Science\\\\\\\\\\\\\\\"}}, \\\\\\\\\\\\\\\"typeProperty\\\\\\\\\\\\\\\": 2}, {\\\\\\\\\\\\\\\"column\\\\\\\\\\\\\\\": {\\\\\\\\\\\\\\\"type\\\\\\\\\\\\\\\": 2, \\\\\\\\\\\\\\\"details\\\\\\\\\\\\\\\": {\\\\\\\\\\\\\\\"selectedColumn\\\\\\\\\\\\\\\": \\\\\\\\\\\\\\\"degree_Comm&Mgmt\\\\\\\\\\\\\\\"}}, \\\\\\\\\\\\\\\"typeProperty\\\\\\\\\\\\\\\": 2}, {\\\\\\\\\\\\\\\"column\\\\\\\\\\\\\\\": {\\\\\\\\\\\\\\\"type\\\\\\\\\\\\\\\": 2, \\\\\\\\\\\\\\\"details\\\\\\\\\\\\\\\": {\\\\\\\\\\\\\\\"selectedColumn\\\\\\\\\\\\\\\": \\\\\\\\\\\\\\\"degree_Others\\\\\\\\\\\\\\\"}}, \\\\\\\\\\\\\\\"typeProperty\\\\\\\\\\\\\\\": 2}, {\\\\\\\\\\\\\\\"column\\\\\\\\\\\\\\\": {\\\\\\\\\\\\\\\"type\\\\\\\\\\\\\\\": 2, \\\\\\\\\\\\\\\"details\\\\\\\\\\\\\\\": {\\\\\\\\\\\\\\\"selectedColumn\\\\\\\\\\\\\\\": \\\\\\\\\\\\\\\"degree_Sci&Tech\\\\\\\\\\\\\\\"}}, \\\\\\\\\\\\\\\"typeProperty\\\\\\\\\\\\\\\": 2}, {\\\\\\\\\\\\\\\"column\\\\\\\\\\\\\\\": {\\\\\\\\\\\\\\\"type\\\\\\\\\\\\\\\": 2, \\\\\\\\\\\\\\\"details\\\\\\\\\\\\\\\": {\\\\\\\\\\\\\\\"selectedColumn\\\\\\\\\\\\\\\": \\\\\\\\\\\\\\\"status\\\\\\\\\\\\\\\"}}, \\\\\\\\\\\\\\\"typeProperty\\\\\\\\\\\\\\\": 2}]}, \\\\\\\\\\\\\\\"localData\\\\\\\\\\\\\\\": {}, \\\\\\\\\\\\\\\"isEnabled\\\\\\\\\\\\\\\": true, \\\\\\\\\\\\\\\"name\\\\\\\\\\\\\\\": null, \\\\\\\\\\\\\\\"annotation\\\\\\\\\\\\\\\": null}], \\\\\\\\\\\\\\\"inspectors\\\\\\\\\\\\\\\": [], \\\\\\\\\\\\\\\"meta\\\\\\\\\\\\\\\": {\\\\\\\\\\\\\\\"savedDatasetId\\\\\\\\\\\\\\\": \\\\\\\\\\\\\\\"9ef04a92-51ad-44a6-956b-0d70546c45b3\\\\\\\\\\\\\\\", \\\\\\\\\\\\\\\"datasetType\\\\\\\\\\\\\\\": \\\\\\\\\\\\\\\"tabular\\\\\\\\\\\\\\\", \\\\\\\\\\\\\\\"subscriptionId\\\\\\\\\\\\\\\": \\\\\\\\\\\\\\\"9a7511b8-150f-4a58-8528-3e7d50216c31\\\\\\\\\\\\\\\", \\\\\\\\\\\\\\\"workspaceId\\\\\\\\\\\\\\\": \\\\\\\\\\\\\\\"974c616d-20f1-496f-9615-454b29d94fd3\\\\\\\\\\\\\\\", \\\\\\\\\\\\\\\"workspaceLocation\\\\\\\\\\\\\\\": \\\\\\\\\\\\\\\"southcentralus\\\\\\\\\\\\\\\"}}\\\\\\\", \\\\\\\"activities\\\\\\\": 0}\", \"EnableSubsampling\": null, \"runTemplate\": \"AutoML\", \"azureml.runsource\": \"automl\", \"display_task_type\": \"classification\", \"dependencies_versions\": \"{\\\"azureml-widgets\\\": \\\"1.19.0\\\", \\\"azureml-train\\\": \\\"1.19.0\\\", \\\"azureml-train-restclients-hyperdrive\\\": \\\"1.19.0\\\", \\\"azureml-train-core\\\": \\\"1.19.0\\\", \\\"azureml-train-automl\\\": \\\"1.19.0\\\", \\\"azureml-train-automl-runtime\\\": \\\"1.19.0\\\", \\\"azureml-train-automl-client\\\": \\\"1.19.0\\\", \\\"azureml-tensorboard\\\": \\\"1.19.0\\\", \\\"azureml-telemetry\\\": \\\"1.19.0\\\", \\\"azureml-sdk\\\": \\\"1.19.0\\\", \\\"azureml-samples\\\": \\\"0+unknown\\\", \\\"azureml-pipeline\\\": \\\"1.19.0\\\", \\\"azureml-pipeline-steps\\\": \\\"1.19.0\\\", \\\"azureml-pipeline-core\\\": \\\"1.19.0\\\", \\\"azureml-opendatasets\\\": \\\"1.19.0\\\", \\\"azureml-model-management-sdk\\\": \\\"1.0.1b6.post1\\\", \\\"azureml-mlflow\\\": \\\"1.19.0\\\", \\\"azureml-interpret\\\": \\\"1.19.0\\\", \\\"azureml-explain-model\\\": \\\"1.19.0\\\", \\\"azureml-defaults\\\": \\\"1.19.0\\\", \\\"azureml-dataset-runtime\\\": \\\"1.19.0\\\", \\\"azureml-dataprep\\\": \\\"2.6.1\\\", \\\"azureml-dataprep-rslex\\\": \\\"1.4.0\\\", \\\"azureml-dataprep-native\\\": \\\"26.0.0\\\", \\\"azureml-datadrift\\\": \\\"1.19.0\\\", \\\"azureml-core\\\": \\\"1.19.0\\\", \\\"azureml-contrib-services\\\": \\\"1.19.0\\\", \\\"azureml-contrib-server\\\": \\\"1.19.0\\\", \\\"azureml-contrib-reinforcementlearning\\\": \\\"1.19.0\\\", \\\"azureml-contrib-pipeline-steps\\\": \\\"1.19.0\\\", \\\"azureml-contrib-notebook\\\": \\\"1.19.0\\\", \\\"azureml-contrib-interpret\\\": \\\"1.19.0\\\", \\\"azureml-contrib-gbdt\\\": \\\"1.19.0\\\", \\\"azureml-contrib-fairness\\\": \\\"1.19.0\\\", \\\"azureml-contrib-dataset\\\": \\\"1.19.0\\\", \\\"azureml-cli-common\\\": \\\"1.19.0\\\", \\\"azureml-automl-runtime\\\": \\\"1.19.0\\\", \\\"azureml-automl-core\\\": \\\"1.19.0\\\", \\\"azureml-accel-models\\\": \\\"1.19.0\\\"}\", \"_aml_system_scenario_identification\": \"Remote.Parent\", \"ClientType\": \"SDK\", \"environment_cpu_name\": \"AzureML-AutoML\", \"environment_cpu_label\": \"prod\", \"environment_gpu_name\": \"AzureML-AutoML-GPU\", \"environment_gpu_label\": \"prod\", \"root_attribution\": \"automl\", \"attribution\": \"AutoML\", \"Orchestrator\": \"AutoML\", \"CancelUri\": \"https://southcentralus.experiments.azureml.net/jasmine/v1.0/subscriptions/9a7511b8-150f-4a58-8528-3e7d50216c31/resourceGroups/aml-quickstarts-134567/providers/Microsoft.MachineLearningServices/workspaces/quick-starts-ws-134567/experimentids/e5407835-40b6-4182-b0cf-e384fbb001a5/cancel/AutoML_522d47ff-8e2d-46e9-8575-50192f611489\", \"ClientSdkVersion\": \"1.19.0\", \"snapshotId\": \"00000000-0000-0000-0000-000000000000\", \"SetupRunId\": \"AutoML_522d47ff-8e2d-46e9-8575-50192f611489_setup\", \"SetupRunContainerId\": \"dcid.AutoML_522d47ff-8e2d-46e9-8575-50192f611489_setup\", \"FeaturizationRunJsonPath\": \"featurizer_container.json\", \"FeaturizationRunId\": \"AutoML_522d47ff-8e2d-46e9-8575-50192f611489_featurize\", \"ProblemInfoJsonString\": \"{\\\"dataset_num_categorical\\\": 0, \\\"is_sparse\\\": false, \\\"subsampling\\\": false, \\\"dataset_classes\\\": 2, \\\"dataset_features\\\": 13, \\\"dataset_samples\\\": 172, \\\"single_frequency_class_detected\\\": false}\", \"ModelExplainRunId\": \"AutoML_522d47ff-8e2d-46e9-8575-50192f611489_ModelExplain\"}, \"tags\": {\"model_explain_run\": \"best_run\", \"_aml_system_azureml.automlComponent\": \"AutoML\", \"pipeline_id\": \"\", \"score\": \"\", \"predicted_cost\": \"\", \"fit_time\": \"\", \"training_percent\": \"\", \"iteration\": \"\", \"run_preprocessor\": \"\", \"run_algorithm\": \"\", \"dynamic_whitelisting_iterations\": \"<25>;<30>;<35>;\", \"automl_best_child_run_id\": \"AutoML_522d47ff-8e2d-46e9-8575-50192f611489_36\", \"model_explain_best_run_child_id\": \"AutoML_522d47ff-8e2d-46e9-8575-50192f611489_36\"}, \"end_time_utc\": \"2021-01-13T16:03:07.714058Z\", \"status\": \"Completed\", \"log_files\": {}, \"log_groups\": [], \"run_duration\": \"0:25:52\"}, \"child_runs\": [{\"run_id\": \"AutoML_522d47ff-8e2d-46e9-8575-50192f611489_1\", \"run_number\": 5, \"metric\": null, \"status\": \"Completed\", \"run_type\": \"azureml.scriptrun\", \"training_percent\": \"100\", \"start_time\": \"2021-01-13T15:47:11.275851Z\", \"end_time\": \"2021-01-13T15:49:44.184878Z\", \"created_time\": \"2021-01-13T15:44:50.933032Z\", \"created_time_dt\": \"2021-01-13T15:44:50.933032Z\", \"duration\": \"0:04:53\", \"iteration\": \"1\", \"goal\": \"accuracy_max\", \"run_name\": \"MaxAbsScaler, XGBoostClassifier\", \"run_properties\": \"copy=True\", \"primary_metric\": 0.82581699, \"best_metric\": 0.84901961}, {\"run_id\": \"AutoML_522d47ff-8e2d-46e9-8575-50192f611489_0\", \"run_number\": 6, \"metric\": null, \"status\": \"Completed\", \"run_type\": \"azureml.scriptrun\", \"training_percent\": \"100\", \"start_time\": \"2021-01-13T15:46:17.877318Z\", \"end_time\": \"2021-01-13T15:47:46.174133Z\", \"created_time\": \"2021-01-13T15:44:50.935683Z\", \"created_time_dt\": \"2021-01-13T15:44:50.935683Z\", \"duration\": \"0:02:55\", \"iteration\": \"0\", \"goal\": \"accuracy_max\", \"run_name\": \"MaxAbsScaler, LightGBM\", \"run_properties\": \"copy=True\", \"primary_metric\": 0.84901961, \"best_metric\": 0.84901961}, {\"run_id\": \"AutoML_522d47ff-8e2d-46e9-8575-50192f611489_2\", \"run_number\": 7, \"metric\": null, \"status\": \"Completed\", \"run_type\": \"azureml.scriptrun\", \"training_percent\": \"100\", \"start_time\": \"2021-01-13T15:47:14.560312Z\", \"end_time\": \"2021-01-13T15:49:41.976737Z\", \"created_time\": \"2021-01-13T15:44:50.949817Z\", \"created_time_dt\": \"2021-01-13T15:44:50.949817Z\", \"duration\": \"0:04:51\", \"iteration\": \"2\", \"goal\": \"accuracy_max\", \"run_name\": \"MinMaxScaler, RandomForest\", \"run_properties\": \"copy=True, feature_range=(0, 1\", \"primary_metric\": 0.81993464, \"best_metric\": 0.84901961}, {\"run_id\": \"AutoML_522d47ff-8e2d-46e9-8575-50192f611489_3\", \"run_number\": 8, \"metric\": null, \"status\": \"Completed\", \"run_type\": \"azureml.scriptrun\", \"training_percent\": \"100\", \"start_time\": \"2021-01-13T15:45:01.96247Z\", \"end_time\": \"2021-01-13T15:46:17.21624Z\", \"created_time\": \"2021-01-13T15:44:50.996664Z\", \"created_time_dt\": \"2021-01-13T15:44:50.996664Z\", \"duration\": \"0:01:26\", \"iteration\": \"3\", \"goal\": \"accuracy_max\", \"run_name\": \"MinMaxScaler, RandomForest\", \"run_properties\": \"copy=True, feature_range=(0, 1\", \"primary_metric\": 0.83169935, \"best_metric\": 0.84901961}, {\"run_id\": \"AutoML_522d47ff-8e2d-46e9-8575-50192f611489_4\", \"run_number\": 9, \"metric\": null, \"status\": \"Completed\", \"run_type\": \"azureml.scriptrun\", \"training_percent\": \"100\", \"start_time\": \"2021-01-13T15:47:12.468429Z\", \"end_time\": \"2021-01-13T15:50:08.130235Z\", \"created_time\": \"2021-01-13T15:46:20.77179Z\", \"created_time_dt\": \"2021-01-13T15:46:20.77179Z\", \"duration\": \"0:03:47\", \"iteration\": \"4\", \"goal\": \"accuracy_max\", \"run_name\": \"MinMaxScaler, RandomForest\", \"run_properties\": \"copy=True, feature_range=(0, 1\", \"primary_metric\": 0.84869281, \"best_metric\": 0.84901961}, {\"run_id\": \"AutoML_522d47ff-8e2d-46e9-8575-50192f611489_5\", \"run_number\": 10, \"metric\": null, \"status\": \"Completed\", \"run_type\": \"azureml.scriptrun\", \"training_percent\": \"100\", \"start_time\": \"2021-01-13T15:48:02.152778Z\", \"end_time\": \"2021-01-13T15:49:17.524855Z\", \"created_time\": \"2021-01-13T15:47:49.06551Z\", \"created_time_dt\": \"2021-01-13T15:47:49.06551Z\", \"duration\": \"0:01:28\", \"iteration\": \"5\", \"goal\": \"accuracy_max\", \"run_name\": \"SparseNormalizer, XGBoostClassifier\", \"run_properties\": \"<azureml.automl.runtime.shared.model_wrappers.SparseNormalizer object at 0x7f5e7552e978\", \"primary_metric\": 0.84313725, \"best_metric\": 0.84901961}, {\"run_id\": \"AutoML_522d47ff-8e2d-46e9-8575-50192f611489_6\", \"run_number\": 11, \"metric\": null, \"status\": \"Completed\", \"run_type\": \"azureml.scriptrun\", \"training_percent\": \"100\", \"start_time\": \"2021-01-13T15:49:34.672858Z\", \"end_time\": \"2021-01-13T15:50:39.137113Z\", \"created_time\": \"2021-01-13T15:49:20.861257Z\", \"created_time_dt\": \"2021-01-13T15:49:20.861257Z\", \"duration\": \"0:01:18\", \"iteration\": \"6\", \"goal\": \"accuracy_max\", \"run_name\": \"MinMaxScaler, SVM\", \"run_properties\": \"copy=True, feature_range=(0, 1\", \"primary_metric\": 0.79052288, \"best_metric\": 0.84901961}, {\"run_id\": \"AutoML_522d47ff-8e2d-46e9-8575-50192f611489_7\", \"run_number\": 12, \"metric\": null, \"status\": \"Completed\", \"run_type\": \"azureml.scriptrun\", \"training_percent\": \"100\", \"start_time\": \"2021-01-13T15:49:57.335127Z\", \"end_time\": \"2021-01-13T15:51:11.007085Z\", \"created_time\": \"2021-01-13T15:49:44.705003Z\", \"created_time_dt\": \"2021-01-13T15:49:44.705003Z\", \"duration\": \"0:01:26\", \"iteration\": \"7\", \"goal\": \"accuracy_max\", \"run_name\": \"MinMaxScaler, LogisticRegression\", \"run_properties\": \"copy=True, feature_range=(0, 1\", \"primary_metric\": 0.85490196, \"best_metric\": 0.85490196}, {\"run_id\": \"AutoML_522d47ff-8e2d-46e9-8575-50192f611489_8\", \"run_number\": 13, \"metric\": null, \"status\": \"Completed\", \"run_type\": \"azureml.scriptrun\", \"training_percent\": \"100\", \"start_time\": \"2021-01-13T15:50:12.380596Z\", \"end_time\": \"2021-01-13T15:51:28.487941Z\", \"created_time\": \"2021-01-13T15:49:49.51884Z\", \"created_time_dt\": \"2021-01-13T15:49:49.51884Z\", \"duration\": \"0:01:38\", \"iteration\": \"8\", \"goal\": \"accuracy_max\", \"run_name\": \"MinMaxScaler, LogisticRegression\", \"run_properties\": \"copy=True, feature_range=(0, 1\", \"primary_metric\": 0.84313725, \"best_metric\": 0.85490196}, {\"run_id\": \"AutoML_522d47ff-8e2d-46e9-8575-50192f611489_9\", \"run_number\": 14, \"metric\": null, \"status\": \"Completed\", \"run_type\": \"azureml.scriptrun\", \"training_percent\": \"100\", \"start_time\": \"2021-01-13T15:50:23.971773Z\", \"end_time\": \"2021-01-13T15:51:38.325746Z\", \"created_time\": \"2021-01-13T15:50:10.287584Z\", \"created_time_dt\": \"2021-01-13T15:50:10.287584Z\", \"duration\": \"0:01:28\", \"iteration\": \"9\", \"goal\": \"accuracy_max\", \"run_name\": \"RobustScaler, SVM\", \"run_properties\": \"copy=True, quantile_range=[10, 90], with_centering=True,\\n             with_scaling=True\", \"primary_metric\": 0.80816993, \"best_metric\": 0.85490196}, {\"run_id\": \"AutoML_522d47ff-8e2d-46e9-8575-50192f611489_10\", \"run_number\": 15, \"metric\": null, \"status\": \"Completed\", \"run_type\": \"azureml.scriptrun\", \"training_percent\": \"100\", \"start_time\": \"2021-01-13T15:50:53.856028Z\", \"end_time\": \"2021-01-13T15:52:00.978715Z\", \"created_time\": \"2021-01-13T15:50:41.802058Z\", \"created_time_dt\": \"2021-01-13T15:50:41.802058Z\", \"duration\": \"0:01:19\", \"iteration\": \"10\", \"goal\": \"accuracy_max\", \"run_name\": \"StandardScalerWrapper, LightGBM\", \"run_properties\": \"<azureml.automl.runtime.shared.model_wrappers.StandardScalerWrapper object at 0x7fb2661ef320\", \"primary_metric\": 0.84901961, \"best_metric\": 0.85490196}, {\"run_id\": \"AutoML_522d47ff-8e2d-46e9-8575-50192f611489_11\", \"run_number\": 16, \"metric\": null, \"status\": \"Completed\", \"run_type\": \"azureml.scriptrun\", \"training_percent\": \"100\", \"start_time\": \"2021-01-13T15:51:25.561414Z\", \"end_time\": \"2021-01-13T15:52:36.518907Z\", \"created_time\": \"2021-01-13T15:51:13.296798Z\", \"created_time_dt\": \"2021-01-13T15:51:13.296798Z\", \"duration\": \"0:01:23\", \"iteration\": \"11\", \"goal\": \"accuracy_max\", \"run_name\": \"SparseNormalizer, LightGBM\", \"run_properties\": \"<azureml.automl.runtime.shared.model_wrappers.SparseNormalizer object at 0x7f3e9809ac18\", \"primary_metric\": 0.84281046, \"best_metric\": 0.85490196}, {\"run_id\": \"AutoML_522d47ff-8e2d-46e9-8575-50192f611489_12\", \"run_number\": 17, \"metric\": null, \"status\": \"Completed\", \"run_type\": \"azureml.scriptrun\", \"training_percent\": \"100\", \"start_time\": \"2021-01-13T15:51:43.094194Z\", \"end_time\": \"2021-01-13T15:53:00.20238Z\", \"created_time\": \"2021-01-13T15:51:30.705762Z\", \"created_time_dt\": \"2021-01-13T15:51:30.705762Z\", \"duration\": \"0:01:29\", \"iteration\": \"12\", \"goal\": \"accuracy_max\", \"run_name\": \"StandardScalerWrapper, LightGBM\", \"run_properties\": \"<azureml.automl.runtime.shared.model_wrappers.StandardScalerWrapper object at 0x7fcf2115e630\", \"primary_metric\": 0.84281046, \"best_metric\": 0.85490196}, {\"run_id\": \"AutoML_522d47ff-8e2d-46e9-8575-50192f611489_13\", \"run_number\": 18, \"metric\": null, \"status\": \"Completed\", \"run_type\": \"azureml.scriptrun\", \"training_percent\": \"100\", \"start_time\": \"2021-01-13T15:51:53.377268Z\", \"end_time\": \"2021-01-13T15:53:03.651102Z\", \"created_time\": \"2021-01-13T15:51:41.043416Z\", \"created_time_dt\": \"2021-01-13T15:51:41.043416Z\", \"duration\": \"0:01:22\", \"iteration\": \"13\", \"goal\": \"accuracy_max\", \"run_name\": \"StandardScalerWrapper, LightGBM\", \"run_properties\": \"<azureml.automl.runtime.shared.model_wrappers.StandardScalerWrapper object at 0x7f2a86b28978\", \"primary_metric\": 0.8248366, \"best_metric\": 0.85490196}, {\"run_id\": \"AutoML_522d47ff-8e2d-46e9-8575-50192f611489_14\", \"run_number\": 19, \"metric\": null, \"status\": \"Completed\", \"run_type\": \"azureml.scriptrun\", \"training_percent\": \"100\", \"start_time\": \"2021-01-13T15:52:13.758568Z\", \"end_time\": \"2021-01-13T15:53:29.059876Z\", \"created_time\": \"2021-01-13T15:52:03.180988Z\", \"created_time_dt\": \"2021-01-13T15:52:03.180988Z\", \"duration\": \"0:01:25\", \"iteration\": \"14\", \"goal\": \"accuracy_max\", \"run_name\": \"MinMaxScaler, LightGBM\", \"run_properties\": \"copy=True, feature_range=(0, 1\", \"primary_metric\": 0.8369281, \"best_metric\": 0.85490196}, {\"run_id\": \"AutoML_522d47ff-8e2d-46e9-8575-50192f611489_15\", \"run_number\": 20, \"metric\": null, \"status\": \"Completed\", \"run_type\": \"azureml.scriptrun\", \"training_percent\": \"100\", \"start_time\": \"2021-01-13T15:52:49.959328Z\", \"end_time\": \"2021-01-13T15:54:08.555203Z\", \"created_time\": \"2021-01-13T15:52:39.129955Z\", \"created_time_dt\": \"2021-01-13T15:52:39.129955Z\", \"duration\": \"0:01:29\", \"iteration\": \"15\", \"goal\": \"accuracy_max\", \"run_name\": \"RobustScaler, ExtremeRandomTrees\", \"run_properties\": \"copy=True, quantile_range=[25, 75], with_centering=True,\\n             with_scaling=False\", \"primary_metric\": 0.86045752, \"best_metric\": 0.86045752}, {\"run_id\": \"AutoML_522d47ff-8e2d-46e9-8575-50192f611489_16\", \"run_number\": 21, \"metric\": null, \"status\": \"Completed\", \"run_type\": \"azureml.scriptrun\", \"training_percent\": \"100\", \"start_time\": \"2021-01-13T15:53:14.849701Z\", \"end_time\": \"2021-01-13T15:54:27.136249Z\", \"created_time\": \"2021-01-13T15:53:02.722419Z\", \"created_time_dt\": \"2021-01-13T15:53:02.722419Z\", \"duration\": \"0:01:24\", \"iteration\": \"16\", \"goal\": \"accuracy_max\", \"run_name\": \"StandardScalerWrapper, LightGBM\", \"run_properties\": \"<azureml.automl.runtime.shared.model_wrappers.StandardScalerWrapper object at 0x7ff32c01f668\", \"primary_metric\": 0.87156863, \"best_metric\": 0.87156863}, {\"run_id\": \"AutoML_522d47ff-8e2d-46e9-8575-50192f611489_17\", \"run_number\": 22, \"metric\": null, \"status\": \"Completed\", \"run_type\": \"azureml.scriptrun\", \"training_percent\": \"100\", \"start_time\": \"2021-01-13T15:53:21.563255Z\", \"end_time\": \"2021-01-13T15:54:25.454838Z\", \"created_time\": \"2021-01-13T15:53:08.523085Z\", \"created_time_dt\": \"2021-01-13T15:53:08.523085Z\", \"duration\": \"0:01:16\", \"iteration\": \"17\", \"goal\": \"accuracy_max\", \"run_name\": \"SparseNormalizer, XGBoostClassifier\", \"run_properties\": \"<azureml.automl.runtime.shared.model_wrappers.SparseNormalizer object at 0x7ff46df0c2e8\", \"primary_metric\": 0.84281046, \"best_metric\": 0.87156863}, {\"run_id\": \"AutoML_522d47ff-8e2d-46e9-8575-50192f611489_18\", \"run_number\": 23, \"metric\": null, \"status\": \"Completed\", \"run_type\": \"azureml.scriptrun\", \"training_percent\": \"100\", \"start_time\": \"2021-01-13T15:53:42.399924Z\", \"end_time\": \"2021-01-13T15:54:54.234951Z\", \"created_time\": \"2021-01-13T15:53:31.844899Z\", \"created_time_dt\": \"2021-01-13T15:53:31.844899Z\", \"duration\": \"0:01:22\", \"iteration\": \"18\", \"goal\": \"accuracy_max\", \"run_name\": \"StandardScalerWrapper, LightGBM\", \"run_properties\": \"<azureml.automl.runtime.shared.model_wrappers.StandardScalerWrapper object at 0x7f5ba8d25908\", \"primary_metric\": 0.83104575, \"best_metric\": 0.87156863}, {\"run_id\": \"AutoML_522d47ff-8e2d-46e9-8575-50192f611489_19\", \"run_number\": 24, \"metric\": null, \"status\": \"Completed\", \"run_type\": \"azureml.scriptrun\", \"training_percent\": \"100\", \"start_time\": \"2021-01-13T15:54:22.487793Z\", \"end_time\": \"2021-01-13T15:55:51.248101Z\", \"created_time\": \"2021-01-13T15:54:11.699215Z\", \"created_time_dt\": \"2021-01-13T15:54:11.699215Z\", \"duration\": \"0:01:39\", \"iteration\": \"19\", \"goal\": \"accuracy_max\", \"run_name\": \"MaxAbsScaler, LightGBM\", \"run_properties\": \"copy=True\", \"primary_metric\": 0.77908497, \"best_metric\": 0.87156863}, {\"run_id\": \"AutoML_522d47ff-8e2d-46e9-8575-50192f611489_20\", \"run_number\": 25, \"metric\": null, \"status\": \"Completed\", \"run_type\": \"azureml.scriptrun\", \"training_percent\": \"100\", \"start_time\": \"2021-01-13T15:54:41.021478Z\", \"end_time\": \"2021-01-13T15:56:04.868548Z\", \"created_time\": \"2021-01-13T15:54:28.340844Z\", \"created_time_dt\": \"2021-01-13T15:54:28.340844Z\", \"duration\": \"0:01:36\", \"iteration\": \"20\", \"goal\": \"accuracy_max\", \"run_name\": \"MinMaxScaler, LightGBM\", \"run_properties\": \"copy=True, feature_range=(0, 1\", \"primary_metric\": 0.8369281, \"best_metric\": 0.87156863}, {\"run_id\": \"AutoML_522d47ff-8e2d-46e9-8575-50192f611489_21\", \"run_number\": 26, \"metric\": null, \"status\": \"Completed\", \"run_type\": \"azureml.scriptrun\", \"training_percent\": \"100\", \"start_time\": \"2021-01-13T15:54:48.105908Z\", \"end_time\": \"2021-01-13T15:55:55.789072Z\", \"created_time\": \"2021-01-13T15:54:37.418847Z\", \"created_time_dt\": \"2021-01-13T15:54:37.418847Z\", \"duration\": \"0:01:18\", \"iteration\": \"21\", \"goal\": \"accuracy_max\", \"run_name\": \"StandardScalerWrapper, RandomForest\", \"run_properties\": \"<azureml.automl.runtime.shared.model_wrappers.StandardScalerWrapper object at 0x7f3b0051fa20\", \"primary_metric\": 0.85424837, \"best_metric\": 0.87156863}, {\"run_id\": \"AutoML_522d47ff-8e2d-46e9-8575-50192f611489_22\", \"run_number\": 27, \"metric\": null, \"status\": \"Completed\", \"run_type\": \"azureml.scriptrun\", \"training_percent\": \"100\", \"start_time\": \"2021-01-13T15:55:10.388968Z\", \"end_time\": \"2021-01-13T15:56:29.033554Z\", \"created_time\": \"2021-01-13T15:54:59.741102Z\", \"created_time_dt\": \"2021-01-13T15:54:59.741102Z\", \"duration\": \"0:01:29\", \"iteration\": \"22\", \"goal\": \"accuracy_max\", \"run_name\": \"StandardScalerWrapper, RandomForest\", \"run_properties\": \"<azureml.automl.runtime.shared.model_wrappers.StandardScalerWrapper object at 0x7f5d0516cfd0\", \"primary_metric\": 0.8372549, \"best_metric\": 0.87156863}, {\"run_id\": \"AutoML_522d47ff-8e2d-46e9-8575-50192f611489_23\", \"run_number\": 28, \"metric\": null, \"status\": \"Completed\", \"run_type\": \"azureml.scriptrun\", \"training_percent\": \"100\", \"start_time\": \"2021-01-13T15:56:05.944336Z\", \"end_time\": \"2021-01-13T15:57:22.868149Z\", \"created_time\": \"2021-01-13T15:55:54.470393Z\", \"created_time_dt\": \"2021-01-13T15:55:54.470393Z\", \"duration\": \"0:01:28\", \"iteration\": \"23\", \"goal\": \"accuracy_max\", \"run_name\": \"MaxAbsScaler, GradientBoosting\", \"run_properties\": \"copy=True\", \"primary_metric\": 0.85457516, \"best_metric\": 0.87156863}, {\"run_id\": \"AutoML_522d47ff-8e2d-46e9-8575-50192f611489_24\", \"run_number\": 29, \"metric\": null, \"status\": \"Completed\", \"run_type\": \"azureml.scriptrun\", \"training_percent\": \"100\", \"start_time\": \"2021-01-13T15:56:11.023975Z\", \"end_time\": \"2021-01-13T15:57:13.645012Z\", \"created_time\": \"2021-01-13T15:55:59.566783Z\", \"created_time_dt\": \"2021-01-13T15:55:59.566783Z\", \"duration\": \"0:01:14\", \"iteration\": \"24\", \"goal\": \"accuracy_max\", \"run_name\": \"RobustScaler, LightGBM\", \"run_properties\": \"copy=True, quantile_range=[25, 75], with_centering=True,\\n             with_scaling=False\", \"primary_metric\": 0.85457516, \"best_metric\": 0.87156863}, {\"run_id\": \"AutoML_522d47ff-8e2d-46e9-8575-50192f611489_25\", \"run_number\": 30, \"metric\": null, \"status\": \"Completed\", \"run_type\": \"azureml.scriptrun\", \"training_percent\": \"100\", \"start_time\": \"2021-01-13T15:56:19.744683Z\", \"end_time\": \"2021-01-13T15:57:36.348874Z\", \"created_time\": \"2021-01-13T15:56:08.770892Z\", \"created_time_dt\": \"2021-01-13T15:56:08.770892Z\", \"duration\": \"0:01:27\", \"iteration\": \"25\", \"goal\": \"accuracy_max\", \"run_name\": \"MinMaxScaler, LightGBM\", \"run_properties\": \"copy=True, feature_range=(0, 1\", \"primary_metric\": 0.8372549, \"best_metric\": 0.87156863}, {\"run_id\": \"AutoML_522d47ff-8e2d-46e9-8575-50192f611489_26\", \"run_number\": 31, \"metric\": null, \"status\": \"Completed\", \"run_type\": \"azureml.scriptrun\", \"training_percent\": \"100\", \"start_time\": \"2021-01-13T15:56:45.026604Z\", \"end_time\": \"2021-01-13T15:57:58.894227Z\", \"created_time\": \"2021-01-13T15:56:32.36182Z\", \"created_time_dt\": \"2021-01-13T15:56:32.36182Z\", \"duration\": \"0:01:26\", \"iteration\": \"26\", \"goal\": \"accuracy_max\", \"run_name\": \"RobustScaler, GradientBoosting\", \"run_properties\": \"copy=True, quantile_range=[25, 75], with_centering=True,\\n             with_scaling=False\", \"primary_metric\": 0.83137255, \"best_metric\": 0.87156863}, {\"run_id\": \"AutoML_522d47ff-8e2d-46e9-8575-50192f611489_27\", \"run_number\": 32, \"metric\": null, \"status\": \"Completed\", \"run_type\": \"azureml.scriptrun\", \"training_percent\": \"100\", \"start_time\": \"2021-01-13T15:57:32.115319Z\", \"end_time\": \"2021-01-13T15:58:41.232854Z\", \"created_time\": \"2021-01-13T15:57:15.882819Z\", \"created_time_dt\": \"2021-01-13T15:57:15.882819Z\", \"duration\": \"0:01:25\", \"iteration\": \"27\", \"goal\": \"accuracy_max\", \"run_name\": \"MaxAbsScaler, LightGBM\", \"run_properties\": \"copy=True\", \"primary_metric\": 0.83137255, \"best_metric\": 0.87156863}, {\"run_id\": \"AutoML_522d47ff-8e2d-46e9-8575-50192f611489_28\", \"run_number\": 33, \"metric\": null, \"status\": \"Completed\", \"run_type\": \"azureml.scriptrun\", \"training_percent\": \"100\", \"start_time\": \"2021-01-13T15:57:38.174621Z\", \"end_time\": \"2021-01-13T15:58:43.558631Z\", \"created_time\": \"2021-01-13T15:57:24.838108Z\", \"created_time_dt\": \"2021-01-13T15:57:24.838108Z\", \"duration\": \"0:01:18\", \"iteration\": \"28\", \"goal\": \"accuracy_max\", \"run_name\": \"SparseNormalizer, XGBoostClassifier\", \"run_properties\": \"<azureml.automl.runtime.shared.model_wrappers.SparseNormalizer object at 0x7f65b4cd8d30\", \"primary_metric\": 0.79607843, \"best_metric\": 0.87156863}, {\"run_id\": \"AutoML_522d47ff-8e2d-46e9-8575-50192f611489_29\", \"run_number\": 34, \"metric\": null, \"status\": \"Completed\", \"run_type\": \"azureml.scriptrun\", \"training_percent\": \"100\", \"start_time\": \"2021-01-13T15:57:49.709411Z\", \"end_time\": \"2021-01-13T15:59:04.870619Z\", \"created_time\": \"2021-01-13T15:57:38.608645Z\", \"created_time_dt\": \"2021-01-13T15:57:38.608645Z\", \"duration\": \"0:01:26\", \"iteration\": \"29\", \"goal\": \"accuracy_max\", \"run_name\": \"MaxAbsScaler, ExtremeRandomTrees\", \"run_properties\": \"copy=True\", \"primary_metric\": 0.85424837, \"best_metric\": 0.87156863}, {\"run_id\": \"AutoML_522d47ff-8e2d-46e9-8575-50192f611489_30\", \"run_number\": 35, \"metric\": null, \"status\": \"Completed\", \"run_type\": \"azureml.scriptrun\", \"training_percent\": \"100\", \"start_time\": \"2021-01-13T15:58:15.604479Z\", \"end_time\": \"2021-01-13T15:59:21.188644Z\", \"created_time\": \"2021-01-13T15:58:04.86373Z\", \"created_time_dt\": \"2021-01-13T15:58:04.86373Z\", \"duration\": \"0:01:16\", \"iteration\": \"30\", \"goal\": \"accuracy_max\", \"run_name\": \"StandardScalerWrapper, LightGBM\", \"run_properties\": \"<azureml.automl.runtime.shared.model_wrappers.StandardScalerWrapper object at 0x7f8f94b13358\", \"primary_metric\": 0.85457516, \"best_metric\": 0.87156863}, {\"run_id\": \"AutoML_522d47ff-8e2d-46e9-8575-50192f611489_31\", \"run_number\": 36, \"metric\": null, \"status\": \"Completed\", \"run_type\": \"azureml.scriptrun\", \"training_percent\": \"100\", \"start_time\": \"2021-01-13T15:58:55.305358Z\", \"end_time\": \"2021-01-13T16:00:15.19517Z\", \"created_time\": \"2021-01-13T15:58:43.622766Z\", \"created_time_dt\": \"2021-01-13T15:58:43.622766Z\", \"duration\": \"0:01:31\", \"iteration\": \"31\", \"goal\": \"accuracy_max\", \"run_name\": \"SparseNormalizer, ExtremeRandomTrees\", \"run_properties\": \"<azureml.automl.runtime.shared.model_wrappers.SparseNormalizer object at 0x7fdd1c437470\", \"primary_metric\": 0.83235294, \"best_metric\": 0.87156863}, {\"run_id\": \"AutoML_522d47ff-8e2d-46e9-8575-50192f611489_32\", \"run_number\": 37, \"metric\": null, \"status\": \"Completed\", \"run_type\": \"azureml.scriptrun\", \"training_percent\": \"100\", \"start_time\": \"2021-01-13T15:59:02.043629Z\", \"end_time\": \"2021-01-13T16:00:16.674505Z\", \"created_time\": \"2021-01-13T15:58:48.278333Z\", \"created_time_dt\": \"2021-01-13T15:58:48.278333Z\", \"duration\": \"0:01:28\", \"iteration\": \"32\", \"goal\": \"accuracy_max\", \"run_name\": \"MinMaxScaler, LightGBM\", \"run_properties\": \"copy=True, feature_range=(0, 1\", \"primary_metric\": 0.86045752, \"best_metric\": 0.87156863}, {\"run_id\": \"AutoML_522d47ff-8e2d-46e9-8575-50192f611489_33\", \"run_number\": 38, \"metric\": null, \"status\": \"Canceled\", \"run_type\": \"azureml.scriptrun\", \"training_percent\": \"100\", \"start_time\": \"2021-01-13T15:59:21.428954Z\", \"end_time\": \"2021-01-13T16:00:29.708423Z\", \"created_time\": \"2021-01-13T15:59:07.523568Z\", \"created_time_dt\": \"2021-01-13T15:59:07.523568Z\", \"duration\": \"0:01:22\", \"iteration\": \"33\", \"goal\": \"accuracy_max\", \"run_name\": \"SparseNormalizer, XGBoostClassifier\", \"run_properties\": \"<azureml.automl.runtime.shared.model_wrappers.SparseNormalizer object at 0x7f8dc4db0a20\", \"primary_metric\": 0.79607843, \"best_metric\": 0.87156863}, {\"run_id\": \"AutoML_522d47ff-8e2d-46e9-8575-50192f611489_34\", \"run_number\": 39, \"metric\": null, \"status\": \"Canceled\", \"run_type\": \"azureml.scriptrun\", \"training_percent\": \"100\", \"start_time\": \"2021-01-13T15:59:35.328605Z\", \"end_time\": \"2021-01-13T16:00:28.723064Z\", \"created_time\": \"2021-01-13T15:59:23.664016Z\", \"created_time_dt\": \"2021-01-13T15:59:23.664016Z\", \"duration\": \"0:01:05\", \"iteration\": \"34\", \"goal\": \"accuracy_max\", \"run_name\": \"StandardScalerWrapper, XGBoostClassifier\", \"run_properties\": \"<azureml.automl.runtime.shared.model_wrappers.StandardScalerWrapper object at 0x7f06a55a4978\", \"primary_metric\": 0.86013072, \"best_metric\": 0.87156863}, {\"run_id\": \"AutoML_522d47ff-8e2d-46e9-8575-50192f611489_35\", \"run_number\": 40, \"metric\": null, \"status\": \"Canceled\", \"run_type\": \"azureml.scriptrun\", \"training_percent\": \"100\", \"start_time\": \"2021-01-13T16:00:18.620934Z\", \"end_time\": \"2021-01-13T16:00:35.253136Z\", \"created_time\": \"2021-01-13T16:00:18.620934Z\", \"created_time_dt\": \"2021-01-13T16:00:18.620934Z\", \"duration\": \"0:00:16\", \"iteration\": \"35\", \"goal\": null, \"run_name\": \"Canceled\", \"run_properties\": null}, {\"run_id\": \"AutoML_522d47ff-8e2d-46e9-8575-50192f611489_37\", \"run_number\": 41, \"metric\": null, \"status\": \"Completed\", \"run_type\": \"azureml.scriptrun\", \"training_percent\": \"100\", \"start_time\": \"2021-01-13T16:00:50.610782Z\", \"end_time\": \"2021-01-13T16:02:56.889859Z\", \"created_time\": \"2021-01-13T16:00:36.726007Z\", \"created_time_dt\": \"2021-01-13T16:00:36.726007Z\", \"duration\": \"0:02:20\", \"iteration\": \"37\", \"goal\": \"accuracy_max\", \"run_name\": \"StackEnsemble\", \"run_properties\": \"base_learners=[('16',\\n                                        Pipeline(memory=None,\\n                                                 steps=[('standardscalerwrapper',\\n                                                         <azureml.automl.runtime.shared.model_wrappers.StandardScalerWrapper object at 0x7fa08be87128>\", \"primary_metric\": 0.86633987, \"best_metric\": 0.87810458}, {\"run_id\": \"AutoML_522d47ff-8e2d-46e9-8575-50192f611489_36\", \"run_number\": 42, \"metric\": null, \"status\": \"Completed\", \"run_type\": \"azureml.scriptrun\", \"training_percent\": \"100\", \"start_time\": \"2021-01-13T16:00:48.123453Z\", \"end_time\": \"2021-01-13T16:02:44.15132Z\", \"created_time\": \"2021-01-13T16:00:36.731168Z\", \"created_time_dt\": \"2021-01-13T16:00:36.731168Z\", \"duration\": \"0:02:07\", \"iteration\": \"36\", \"goal\": \"accuracy_max\", \"run_name\": \"VotingEnsemble\", \"run_properties\": \"classification_labels=None,\\n                              estimators=[('16',\\n                                           Pipeline(memory=None,\\n                                                    steps=[('standardscalerwrapper',\\n                                                            <azureml.automl.runtime.shared.model_wrappers.StandardScalerWrapper object at 0x7fbd4821e6a0>\", \"primary_metric\": 0.87810458, \"best_metric\": 0.87810458}], \"children_metrics\": {\"categories\": [0], \"series\": {\"norm_macro_recall\": [{\"categories\": [\"0\", \"1\", \"2\", \"3\", \"4\", \"5\", \"6\", \"7\", \"8\", \"9\", \"10\", \"11\", \"12\", \"13\", \"14\", \"15\", \"16\", \"17\", \"18\", \"19\", \"20\", \"21\", \"22\", \"23\", \"24\", \"25\", \"26\", \"27\", \"28\", \"29\", \"30\", \"31\", \"32\", \"33\", \"34\", \"36\", \"37\"], \"mode\": \"markers\", \"name\": \"norm_macro_recall\", \"stepped\": false, \"type\": \"scatter\", \"data\": [0.5901551226551227, 0.5314646464646465, 0.5107070707070707, 0.5002308802308801, 0.5420923520923521, 0.5431313131313131, 0.46162337662337655, 0.6047979797979799, 0.5639646464646464, 0.468488455988456, 0.5482070707070706, 0.5439646464646465, 0.5241161616161616, 0.43619047619047624, 0.5496681096681098, 0.5732070707070707, 0.5831313131313131, 0.5227777777777779, 0.5263347763347763, 0.3078571428571429, 0.5223304473304473, 0.5593217893217892, 0.5327741702741703, 0.5586832611832612, 0.5807070707070707, 0.4705122655122655, 0.5524494949494949, 0.5341919191919191, 0.4124206349206349, 0.6520490620490621, 0.5457070707070707, 0.5797907647907647, 0.6097979797979798, 0.4370923520923521, 0.5602741702741703, 0.6264646464646464, 0.6097979797979798]}, {\"categories\": [\"0\", \"1\", \"2\", \"3\", \"4\", \"5\", \"6\", \"7\", \"8\", \"9\", \"10\", \"11\", \"12\", \"13\", \"14\", \"15\", \"16\", \"17\", \"18\", \"19\", \"20\", \"21\", \"22\", \"23\", \"24\", \"25\", \"26\", \"27\", \"28\", \"29\", \"30\", \"31\", \"32\", \"33\", \"34\", \"36\", \"37\"], \"mode\": \"lines\", \"name\": \"norm_macro_recall_max\", \"stepped\": true, \"type\": \"scatter\", \"data\": [0.5901551226551227, 0.5901551226551227, 0.5901551226551227, 0.5901551226551227, 0.5901551226551227, 0.5901551226551227, 0.5901551226551227, 0.6047979797979799, 0.6047979797979799, 0.6047979797979799, 0.6047979797979799, 0.6047979797979799, 0.6047979797979799, 0.6047979797979799, 0.6047979797979799, 0.6047979797979799, 0.6047979797979799, 0.6047979797979799, 0.6047979797979799, 0.6047979797979799, 0.6047979797979799, 0.6047979797979799, 0.6047979797979799, 0.6047979797979799, 0.6047979797979799, 0.6047979797979799, 0.6047979797979799, 0.6047979797979799, 0.6047979797979799, 0.6520490620490621, 0.6520490620490621, 0.6520490620490621, 0.6520490620490621, 0.6520490620490621, 0.6520490620490621, 0.6520490620490621, 0.6520490620490621]}], \"precision_score_weighted\": [{\"categories\": [\"0\", \"1\", \"2\", \"3\", \"4\", \"5\", \"6\", \"7\", \"8\", \"9\", \"10\", \"11\", \"12\", \"13\", \"14\", \"15\", \"16\", \"17\", \"18\", \"19\", \"20\", \"21\", \"22\", \"23\", \"24\", \"25\", \"26\", \"27\", \"28\", \"29\", \"30\", \"31\", \"32\", \"33\", \"34\", \"36\", \"37\"], \"mode\": \"markers\", \"name\": \"precision_score_weighted\", \"stepped\": false, \"type\": \"scatter\", \"data\": [0.8662597125097126, 0.8329974682180564, 0.8206981254040077, 0.8427268728004023, 0.8489583374142198, 0.8448679343532286, 0.7990917905623788, 0.8737546685340805, 0.8615118133500488, 0.8077106689606689, 0.8585225150666327, 0.8423171844495375, 0.8560437519996343, 0.846243894993895, 0.8440166614431319, 0.868396693176105, 0.8789291998850823, 0.8469964267758385, 0.8310554777466541, 0.7531473049249866, 0.8493467942732649, 0.8608228291316525, 0.8383662987339457, 0.8565301773390008, 0.8639940370087429, 0.8608134920634921, 0.8419443383413971, 0.8389916537710654, 0.7974040257128494, 0.8738071650571652, 0.8646796259296259, 0.8481839402427637, 0.8740818413612532, 0.7943955146161029, 0.8648740393593334, 0.8850049868432223, 0.8766016254986843]}, {\"categories\": [\"0\", \"1\", \"2\", \"3\", \"4\", \"5\", \"6\", \"7\", \"8\", \"9\", \"10\", \"11\", \"12\", \"13\", \"14\", \"15\", \"16\", \"17\", \"18\", \"19\", \"20\", \"21\", \"22\", \"23\", \"24\", \"25\", \"26\", \"27\", \"28\", \"29\", \"30\", \"31\", \"32\", \"33\", \"34\", \"36\", \"37\"], \"mode\": \"lines\", \"name\": \"precision_score_weighted_max\", \"stepped\": true, \"type\": \"scatter\", \"data\": [0.8662597125097126, 0.8662597125097126, 0.8662597125097126, 0.8662597125097126, 0.8662597125097126, 0.8662597125097126, 0.8662597125097126, 0.8737546685340805, 0.8737546685340805, 0.8737546685340805, 0.8737546685340805, 0.8737546685340805, 0.8737546685340805, 0.8737546685340805, 0.8737546685340805, 0.8737546685340805, 0.8789291998850823, 0.8789291998850823, 0.8789291998850823, 0.8789291998850823, 0.8789291998850823, 0.8789291998850823, 0.8789291998850823, 0.8789291998850823, 0.8789291998850823, 0.8789291998850823, 0.8789291998850823, 0.8789291998850823, 0.8789291998850823, 0.8789291998850823, 0.8789291998850823, 0.8789291998850823, 0.8789291998850823, 0.8789291998850823, 0.8789291998850823, 0.8850049868432223, 0.8850049868432223]}], \"AUC_weighted\": [{\"categories\": [\"0\", \"1\", \"2\", \"3\", \"4\", \"5\", \"6\", \"7\", \"8\", \"9\", \"10\", \"11\", \"12\", \"13\", \"14\", \"15\", \"16\", \"17\", \"18\", \"19\", \"20\", \"21\", \"22\", \"23\", \"24\", \"25\", \"26\", \"27\", \"28\", \"29\", \"30\", \"31\", \"32\", \"33\", \"34\", \"36\", \"37\"], \"mode\": \"markers\", \"name\": \"AUC_weighted\", \"stepped\": false, \"type\": \"scatter\", \"data\": [0.9027922077922079, 0.9109595959595961, 0.8630627705627705, 0.8962770562770561, 0.9040223665223663, 0.8929256854256854, 0.8108369408369409, 0.9220238095238095, 0.9237770562770564, 0.8364935064935064, 0.9247799422799424, 0.8886147186147186, 0.8872943722943724, 0.9037193362193363, 0.87863455988456, 0.9187085137085138, 0.9141792929292929, 0.8932287157287158, 0.8755104617604618, 0.8890223665223665, 0.8990584415584417, 0.8926749639249639, 0.870901875901876, 0.9135389610389609, 0.9197077922077923, 0.9122871572871574, 0.9076911976911977, 0.9102128427128428, 0.9154906204906206, 0.918373015873016, 0.9032575757575758, 0.8845851370851371, 0.9028571428571428, 0.8275216450216452, 0.9052200577200578, 0.9343722943722943, 0.9298881673881676]}, {\"categories\": [\"0\", \"1\", \"2\", \"3\", \"4\", \"5\", \"6\", \"7\", \"8\", \"9\", \"10\", \"11\", \"12\", \"13\", \"14\", \"15\", \"16\", \"17\", \"18\", \"19\", \"20\", \"21\", \"22\", \"23\", \"24\", \"25\", \"26\", \"27\", \"28\", \"29\", \"30\", \"31\", \"32\", \"33\", \"34\", \"36\", \"37\"], \"mode\": \"lines\", \"name\": \"AUC_weighted_max\", \"stepped\": true, \"type\": \"scatter\", \"data\": [0.9027922077922079, 0.9109595959595961, 0.9109595959595961, 0.9109595959595961, 0.9109595959595961, 0.9109595959595961, 0.9109595959595961, 0.9220238095238095, 0.9237770562770564, 0.9237770562770564, 0.9247799422799424, 0.9247799422799424, 0.9247799422799424, 0.9247799422799424, 0.9247799422799424, 0.9247799422799424, 0.9247799422799424, 0.9247799422799424, 0.9247799422799424, 0.9247799422799424, 0.9247799422799424, 0.9247799422799424, 0.9247799422799424, 0.9247799422799424, 0.9247799422799424, 0.9247799422799424, 0.9247799422799424, 0.9247799422799424, 0.9247799422799424, 0.9247799422799424, 0.9247799422799424, 0.9247799422799424, 0.9247799422799424, 0.9247799422799424, 0.9247799422799424, 0.9343722943722943, 0.9343722943722943]}], \"precision_score_macro\": [{\"categories\": [\"0\", \"1\", \"2\", \"3\", \"4\", \"5\", \"6\", \"7\", \"8\", \"9\", \"10\", \"11\", \"12\", \"13\", \"14\", \"15\", \"16\", \"17\", \"18\", \"19\", \"20\", \"21\", \"22\", \"23\", \"24\", \"25\", \"26\", \"27\", \"28\", \"29\", \"30\", \"31\", \"32\", \"33\", \"34\", \"36\", \"37\"], \"mode\": \"markers\", \"name\": \"precision_score_macro\", \"stepped\": false, \"type\": \"scatter\", \"data\": [0.8429285298035298, 0.7899577505827506, 0.7884398934398934, 0.8353469447219448, 0.824808941058941, 0.8288725857475857, 0.7649542124542126, 0.8529202047952047, 0.8451904345654345, 0.7742787767787768, 0.852162629037629, 0.8226596320346321, 0.8526538045288046, 0.8380815018315019, 0.8193937312687313, 0.8644178737928738, 0.8785246003996005, 0.8352831196581196, 0.8050459956709956, 0.710646681749623, 0.8411607142857143, 0.8468487762237762, 0.8120585664335664, 0.8339198301698302, 0.8490890359640358, 0.8717938311688312, 0.817362012987013, 0.8171601315351316, 0.7710279304029305, 0.8285243228993229, 0.8630908674658674, 0.8013275613275613, 0.8544382700632701, 0.7564972527472527, 0.8501912670662671, 0.8767080835830836, 0.8624223692973694]}, {\"categories\": [\"0\", \"1\", \"2\", \"3\", \"4\", \"5\", \"6\", \"7\", \"8\", \"9\", \"10\", \"11\", \"12\", \"13\", \"14\", \"15\", \"16\", \"17\", \"18\", \"19\", \"20\", \"21\", \"22\", \"23\", \"24\", \"25\", \"26\", \"27\", \"28\", \"29\", \"30\", \"31\", \"32\", \"33\", \"34\", \"36\", \"37\"], \"mode\": \"lines\", \"name\": \"precision_score_macro_max\", \"stepped\": true, \"type\": \"scatter\", \"data\": [0.8429285298035298, 0.8429285298035298, 0.8429285298035298, 0.8429285298035298, 0.8429285298035298, 0.8429285298035298, 0.8429285298035298, 0.8529202047952047, 0.8529202047952047, 0.8529202047952047, 0.8529202047952047, 0.8529202047952047, 0.8529202047952047, 0.8529202047952047, 0.8529202047952047, 0.8644178737928738, 0.8785246003996005, 0.8785246003996005, 0.8785246003996005, 0.8785246003996005, 0.8785246003996005, 0.8785246003996005, 0.8785246003996005, 0.8785246003996005, 0.8785246003996005, 0.8785246003996005, 0.8785246003996005, 0.8785246003996005, 0.8785246003996005, 0.8785246003996005, 0.8785246003996005, 0.8785246003996005, 0.8785246003996005, 0.8785246003996005, 0.8785246003996005, 0.8785246003996005, 0.8785246003996005]}], \"AUC_micro\": [{\"categories\": [\"0\", \"1\", \"2\", \"3\", \"4\", \"5\", \"6\", \"7\", \"8\", \"9\", \"10\", \"11\", \"12\", \"13\", \"14\", \"15\", \"16\", \"17\", \"18\", \"19\", \"20\", \"21\", \"22\", \"23\", \"24\", \"25\", \"26\", \"27\", \"28\", \"29\", \"30\", \"31\", \"32\", \"33\", \"34\", \"36\", \"37\"], \"mode\": \"markers\", \"name\": \"AUC_micro\", \"stepped\": false, \"type\": \"scatter\", \"data\": [0.9206758084497416, 0.9234813533256441, 0.8988861121790764, 0.914681319150754, 0.9339559571105129, 0.9115767439873552, 0.8573807082745952, 0.9283907898671451, 0.9277735059165279, 0.8756450510487419, 0.9331517792302106, 0.9102108163526849, 0.9051144858814986, 0.8968473663975395, 0.8972670767653467, 0.9284943825024563, 0.9264652484087316, 0.9153733606732454, 0.901204664872485, 0.8789098210090136, 0.9157001580588663, 0.9179268657354009, 0.9036182664787049, 0.9271572899312229, 0.9313095390661712, 0.911529753513606, 0.9176919133666537, 0.9180849246016489, 0.9212461019266094, 0.9207035755478662, 0.91460656157888, 0.9054028365158701, 0.9162619078132342, 0.8776474860096544, 0.9223503780597205, 0.9418396770472895, 0.9344514930155068]}, {\"categories\": [\"0\", \"1\", \"2\", \"3\", \"4\", \"5\", \"6\", \"7\", \"8\", \"9\", \"10\", \"11\", \"12\", \"13\", \"14\", \"15\", \"16\", \"17\", \"18\", \"19\", \"20\", \"21\", \"22\", \"23\", \"24\", \"25\", \"26\", \"27\", \"28\", \"29\", \"30\", \"31\", \"32\", \"33\", \"34\", \"36\", \"37\"], \"mode\": \"lines\", \"name\": \"AUC_micro_max\", \"stepped\": true, \"type\": \"scatter\", \"data\": [0.9206758084497416, 0.9234813533256441, 0.9234813533256441, 0.9234813533256441, 0.9339559571105129, 0.9339559571105129, 0.9339559571105129, 0.9339559571105129, 0.9339559571105129, 0.9339559571105129, 0.9339559571105129, 0.9339559571105129, 0.9339559571105129, 0.9339559571105129, 0.9339559571105129, 0.9339559571105129, 0.9339559571105129, 0.9339559571105129, 0.9339559571105129, 0.9339559571105129, 0.9339559571105129, 0.9339559571105129, 0.9339559571105129, 0.9339559571105129, 0.9339559571105129, 0.9339559571105129, 0.9339559571105129, 0.9339559571105129, 0.9339559571105129, 0.9339559571105129, 0.9339559571105129, 0.9339559571105129, 0.9339559571105129, 0.9339559571105129, 0.9339559571105129, 0.9418396770472895, 0.9418396770472895]}], \"f1_score_micro\": [{\"categories\": [\"0\", \"1\", \"2\", \"3\", \"4\", \"5\", \"6\", \"7\", \"8\", \"9\", \"10\", \"11\", \"12\", \"13\", \"14\", \"15\", \"16\", \"17\", \"18\", \"19\", \"20\", \"21\", \"22\", \"23\", \"24\", \"25\", \"26\", \"27\", \"28\", \"29\", \"30\", \"31\", \"32\", \"33\", \"34\", \"36\", \"37\"], \"mode\": \"markers\", \"name\": \"f1_score_micro\", \"stepped\": false, \"type\": \"scatter\", \"data\": [0.8490196078431372, 0.8258169934640522, 0.8199346405228758, 0.8316993464052288, 0.8486928104575163, 0.8431372549019608, 0.7905228758169935, 0.8549019607843137, 0.8431372549019608, 0.8081699346405229, 0.8490196078431372, 0.8428104575163401, 0.8428104575163399, 0.8248366013071896, 0.8369281045751634, 0.8604575163398694, 0.8715686274509805, 0.8428104575163399, 0.831045751633987, 0.7790849673202614, 0.8369281045751634, 0.8542483660130721, 0.8372549019607842, 0.8545751633986928, 0.8545751633986928, 0.8372549019607843, 0.8313725490196078, 0.8313725490196078, 0.7960784313725491, 0.8542483660130719, 0.854575163398693, 0.8323529411764705, 0.8604575163398694, 0.7960784313725491, 0.8601307189542483, 0.8781045751633988, 0.8663398692810459]}, {\"categories\": [\"0\", \"1\", \"2\", \"3\", \"4\", \"5\", \"6\", \"7\", \"8\", \"9\", \"10\", \"11\", \"12\", \"13\", \"14\", \"15\", \"16\", \"17\", \"18\", \"19\", \"20\", \"21\", \"22\", \"23\", \"24\", \"25\", \"26\", \"27\", \"28\", \"29\", \"30\", \"31\", \"32\", \"33\", \"34\", \"36\", \"37\"], \"mode\": \"lines\", \"name\": \"f1_score_micro_max\", \"stepped\": true, \"type\": \"scatter\", \"data\": [0.8490196078431372, 0.8490196078431372, 0.8490196078431372, 0.8490196078431372, 0.8490196078431372, 0.8490196078431372, 0.8490196078431372, 0.8549019607843137, 0.8549019607843137, 0.8549019607843137, 0.8549019607843137, 0.8549019607843137, 0.8549019607843137, 0.8549019607843137, 0.8549019607843137, 0.8604575163398694, 0.8715686274509805, 0.8715686274509805, 0.8715686274509805, 0.8715686274509805, 0.8715686274509805, 0.8715686274509805, 0.8715686274509805, 0.8715686274509805, 0.8715686274509805, 0.8715686274509805, 0.8715686274509805, 0.8715686274509805, 0.8715686274509805, 0.8715686274509805, 0.8715686274509805, 0.8715686274509805, 0.8715686274509805, 0.8715686274509805, 0.8715686274509805, 0.8781045751633988, 0.8781045751633988]}], \"accuracy\": [{\"categories\": [\"0\", \"1\", \"2\", \"3\", \"4\", \"5\", \"6\", \"7\", \"8\", \"9\", \"10\", \"11\", \"12\", \"13\", \"14\", \"15\", \"16\", \"17\", \"18\", \"19\", \"20\", \"21\", \"22\", \"23\", \"24\", \"25\", \"26\", \"27\", \"28\", \"29\", \"30\", \"31\", \"32\", \"33\", \"34\", \"36\", \"37\"], \"mode\": \"markers\", \"name\": \"accuracy\", \"stepped\": false, \"type\": \"scatter\", \"data\": [0.8490196078431371, 0.8258169934640522, 0.8199346405228758, 0.8316993464052288, 0.8486928104575163, 0.8431372549019608, 0.7905228758169934, 0.8549019607843137, 0.8431372549019608, 0.8081699346405229, 0.8490196078431372, 0.8428104575163399, 0.8428104575163399, 0.8248366013071895, 0.8369281045751634, 0.8604575163398694, 0.8715686274509805, 0.8428104575163399, 0.831045751633987, 0.7790849673202614, 0.8369281045751634, 0.8542483660130721, 0.8372549019607842, 0.8545751633986928, 0.8545751633986928, 0.8372549019607843, 0.8313725490196078, 0.8313725490196078, 0.7960784313725491, 0.8542483660130719, 0.854575163398693, 0.8323529411764705, 0.8604575163398694, 0.7960784313725491, 0.8601307189542483, 0.8781045751633988, 0.8663398692810459]}, {\"categories\": [\"0\", \"1\", \"2\", \"3\", \"4\", \"5\", \"6\", \"7\", \"8\", \"9\", \"10\", \"11\", \"12\", \"13\", \"14\", \"15\", \"16\", \"17\", \"18\", \"19\", \"20\", \"21\", \"22\", \"23\", \"24\", \"25\", \"26\", \"27\", \"28\", \"29\", \"30\", \"31\", \"32\", \"33\", \"34\", \"36\", \"37\"], \"mode\": \"lines\", \"name\": \"accuracy_max\", \"stepped\": true, \"type\": \"scatter\", \"data\": [0.8490196078431371, 0.8490196078431371, 0.8490196078431371, 0.8490196078431371, 0.8490196078431371, 0.8490196078431371, 0.8490196078431371, 0.8549019607843137, 0.8549019607843137, 0.8549019607843137, 0.8549019607843137, 0.8549019607843137, 0.8549019607843137, 0.8549019607843137, 0.8549019607843137, 0.8604575163398694, 0.8715686274509805, 0.8715686274509805, 0.8715686274509805, 0.8715686274509805, 0.8715686274509805, 0.8715686274509805, 0.8715686274509805, 0.8715686274509805, 0.8715686274509805, 0.8715686274509805, 0.8715686274509805, 0.8715686274509805, 0.8715686274509805, 0.8715686274509805, 0.8715686274509805, 0.8715686274509805, 0.8715686274509805, 0.8715686274509805, 0.8715686274509805, 0.8781045751633988, 0.8781045751633988]}], \"balanced_accuracy\": [{\"categories\": [\"0\", \"1\", \"2\", \"3\", \"4\", \"5\", \"6\", \"7\", \"8\", \"9\", \"10\", \"11\", \"12\", \"13\", \"14\", \"15\", \"16\", \"17\", \"18\", \"19\", \"20\", \"21\", \"22\", \"23\", \"24\", \"25\", \"26\", \"27\", \"28\", \"29\", \"30\", \"31\", \"32\", \"33\", \"34\", \"36\", \"37\"], \"mode\": \"markers\", \"name\": \"balanced_accuracy\", \"stepped\": false, \"type\": \"scatter\", \"data\": [0.7950775613275614, 0.7585894660894661, 0.7482106782106783, 0.7501154401154401, 0.7674747474747475, 0.7715656565656566, 0.7200974025974026, 0.80239898989899, 0.7819823232323232, 0.7306727994227995, 0.7741035353535354, 0.7719823232323233, 0.762058080808081, 0.7145238095238096, 0.7748340548340549, 0.7866035353535354, 0.7915656565656566, 0.7613888888888889, 0.7631673881673882, 0.6503571428571429, 0.7611652236652237, 0.7796608946608947, 0.759244227994228, 0.7757702020202021, 0.7903535353535354, 0.7352561327561327, 0.7762247474747476, 0.7670959595959597, 0.6990674603174603, 0.8260245310245311, 0.7728535353535355, 0.7898953823953825, 0.80489898989899, 0.7149747474747475, 0.772994227994228, 0.8132323232323232, 0.8048989898989898]}, {\"categories\": [\"0\", \"1\", \"2\", \"3\", \"4\", \"5\", \"6\", \"7\", \"8\", \"9\", \"10\", \"11\", \"12\", \"13\", \"14\", \"15\", \"16\", \"17\", \"18\", \"19\", \"20\", \"21\", \"22\", \"23\", \"24\", \"25\", \"26\", \"27\", \"28\", \"29\", \"30\", \"31\", \"32\", \"33\", \"34\", \"36\", \"37\"], \"mode\": \"lines\", \"name\": \"balanced_accuracy_max\", \"stepped\": true, \"type\": \"scatter\", \"data\": [0.7950775613275614, 0.7950775613275614, 0.7950775613275614, 0.7950775613275614, 0.7950775613275614, 0.7950775613275614, 0.7950775613275614, 0.80239898989899, 0.80239898989899, 0.80239898989899, 0.80239898989899, 0.80239898989899, 0.80239898989899, 0.80239898989899, 0.80239898989899, 0.80239898989899, 0.80239898989899, 0.80239898989899, 0.80239898989899, 0.80239898989899, 0.80239898989899, 0.80239898989899, 0.80239898989899, 0.80239898989899, 0.80239898989899, 0.80239898989899, 0.80239898989899, 0.80239898989899, 0.80239898989899, 0.8260245310245311, 0.8260245310245311, 0.8260245310245311, 0.8260245310245311, 0.8260245310245311, 0.8260245310245311, 0.8260245310245311, 0.8260245310245311]}], \"log_loss\": [{\"categories\": [\"0\", \"1\", \"2\", \"3\", \"4\", \"5\", \"6\", \"7\", \"8\", \"9\", \"10\", \"11\", \"12\", \"13\", \"14\", \"15\", \"16\", \"17\", \"18\", \"19\", \"20\", \"21\", \"22\", \"23\", \"24\", \"25\", \"26\", \"27\", \"28\", \"29\", \"30\", \"31\", \"32\", \"33\", \"34\", \"36\", \"37\"], \"mode\": \"markers\", \"name\": \"log_loss\", \"stepped\": false, \"type\": \"scatter\", \"data\": [0.40831935375100414, 0.38394044698361895, 0.763552514085799, 0.3750379584870277, 0.3488775708874506, 0.37333579524070803, 0.5195077304308666, 0.3379433592272241, 0.33542781319714987, 0.4501536190281602, 0.34440726815377315, 0.3623309020650225, 0.4193234152992128, 0.4334810202845311, 0.3893921042338202, 0.3684820107926681, 0.3647967500236187, 0.360637696106404, 0.39315201354775564, 0.47243062402865527, 0.3913951295894894, 0.3724276081015635, 0.594516551524744, 0.35807616654970154, 0.33686277934349496, 0.40546884203328554, 0.41635740894027284, 0.35053845472798656, 0.3363575504533536, 0.4279606962680969, 0.4112411797181899, 0.4601455819308763, 0.3679490220646646, 0.4418788652210247, 0.40489242585967944, 0.3519014494577045, 0.3418878981384449]}, {\"categories\": [\"0\", \"1\", \"2\", \"3\", \"4\", \"5\", \"6\", \"7\", \"8\", \"9\", \"10\", \"11\", \"12\", \"13\", \"14\", \"15\", \"16\", \"17\", \"18\", \"19\", \"20\", \"21\", \"22\", \"23\", \"24\", \"25\", \"26\", \"27\", \"28\", \"29\", \"30\", \"31\", \"32\", \"33\", \"34\", \"36\", \"37\"], \"mode\": \"lines\", \"name\": \"log_loss_min\", \"stepped\": true, \"type\": \"scatter\", \"data\": [0.40831935375100414, 0.38394044698361895, 0.38394044698361895, 0.3750379584870277, 0.3488775708874506, 0.3488775708874506, 0.3488775708874506, 0.3379433592272241, 0.33542781319714987, 0.33542781319714987, 0.33542781319714987, 0.33542781319714987, 0.33542781319714987, 0.33542781319714987, 0.33542781319714987, 0.33542781319714987, 0.33542781319714987, 0.33542781319714987, 0.33542781319714987, 0.33542781319714987, 0.33542781319714987, 0.33542781319714987, 0.33542781319714987, 0.33542781319714987, 0.33542781319714987, 0.33542781319714987, 0.33542781319714987, 0.33542781319714987, 0.33542781319714987, 0.33542781319714987, 0.33542781319714987, 0.33542781319714987, 0.33542781319714987, 0.33542781319714987, 0.33542781319714987, 0.33542781319714987, 0.33542781319714987]}], \"weighted_accuracy\": [{\"categories\": [\"0\", \"1\", \"2\", \"3\", \"4\", \"5\", \"6\", \"7\", \"8\", \"9\", \"10\", \"11\", \"12\", \"13\", \"14\", \"15\", \"16\", \"17\", \"18\", \"19\", \"20\", \"21\", \"22\", \"23\", \"24\", \"25\", \"26\", \"27\", \"28\", \"29\", \"30\", \"31\", \"32\", \"33\", \"34\", \"36\", \"37\"], \"mode\": \"markers\", \"name\": \"weighted_accuracy\", \"stepped\": false, \"type\": \"scatter\", \"data\": [0.8725711447665094, 0.8561947679464916, 0.8623342584021823, 0.8757525051284271, 0.88767112695118, 0.8789013542775704, 0.8359866635527966, 0.8769539865532279, 0.8717571009572816, 0.8473785778718448, 0.8872903362994343, 0.877580522400892, 0.8848007321586786, 0.8862958601621089, 0.8657957070111204, 0.897724261348744, 0.9135220338905061, 0.8862986672826253, 0.86553259808328, 0.8552600431292318, 0.8770728543643284, 0.89292550721518, 0.8751506015690638, 0.892118834880278, 0.884898307461782, 0.8961858232150322, 0.8549090064270732, 0.8613147197282677, 0.8485087749302783, 0.860402076546316, 0.8973243429647406, 0.8467493644515101, 0.8844837293891932, 0.8352309547176906, 0.9048545975120004, 0.909064440202143, 0.8948632567701905]}, {\"categories\": [\"0\", \"1\", \"2\", \"3\", \"4\", \"5\", \"6\", \"7\", \"8\", \"9\", \"10\", \"11\", \"12\", \"13\", \"14\", \"15\", \"16\", \"17\", \"18\", \"19\", \"20\", \"21\", \"22\", \"23\", \"24\", \"25\", \"26\", \"27\", \"28\", \"29\", \"30\", \"31\", \"32\", \"33\", \"34\", \"36\", \"37\"], \"mode\": \"lines\", \"name\": \"weighted_accuracy_max\", \"stepped\": true, \"type\": \"scatter\", \"data\": [0.8725711447665094, 0.8725711447665094, 0.8725711447665094, 0.8757525051284271, 0.88767112695118, 0.88767112695118, 0.88767112695118, 0.88767112695118, 0.88767112695118, 0.88767112695118, 0.88767112695118, 0.88767112695118, 0.88767112695118, 0.88767112695118, 0.88767112695118, 0.897724261348744, 0.9135220338905061, 0.9135220338905061, 0.9135220338905061, 0.9135220338905061, 0.9135220338905061, 0.9135220338905061, 0.9135220338905061, 0.9135220338905061, 0.9135220338905061, 0.9135220338905061, 0.9135220338905061, 0.9135220338905061, 0.9135220338905061, 0.9135220338905061, 0.9135220338905061, 0.9135220338905061, 0.9135220338905061, 0.9135220338905061, 0.9135220338905061, 0.9135220338905061, 0.9135220338905061]}], \"AUC_macro\": [{\"categories\": [\"0\", \"1\", \"2\", \"3\", \"4\", \"5\", \"6\", \"7\", \"8\", \"9\", \"10\", \"11\", \"12\", \"13\", \"14\", \"15\", \"16\", \"17\", \"18\", \"19\", \"20\", \"21\", \"22\", \"23\", \"24\", \"25\", \"26\", \"27\", \"28\", \"29\", \"30\", \"31\", \"32\", \"33\", \"34\", \"36\", \"37\"], \"mode\": \"markers\", \"name\": \"AUC_macro\", \"stepped\": false, \"type\": \"scatter\", \"data\": [0.9027922077922079, 0.9109595959595961, 0.8630627705627706, 0.8962770562770561, 0.9040223665223666, 0.8929256854256854, 0.8108369408369407, 0.9220238095238095, 0.9237770562770564, 0.8364935064935064, 0.9247799422799424, 0.8886147186147186, 0.8872943722943724, 0.9037193362193363, 0.87863455988456, 0.9187085137085138, 0.9141792929292929, 0.8932287157287158, 0.8755104617604618, 0.8890223665223665, 0.8990584415584417, 0.8926749639249639, 0.870901875901876, 0.9135389610389609, 0.9197077922077923, 0.9122871572871574, 0.9076911976911977, 0.9102128427128428, 0.9154906204906206, 0.918373015873016, 0.9032575757575756, 0.8845851370851371, 0.9028571428571428, 0.8275216450216452, 0.9052200577200578, 0.9343722943722943, 0.9298881673881676]}, {\"categories\": [\"0\", \"1\", \"2\", \"3\", \"4\", \"5\", \"6\", \"7\", \"8\", \"9\", \"10\", \"11\", \"12\", \"13\", \"14\", \"15\", \"16\", \"17\", \"18\", \"19\", \"20\", \"21\", \"22\", \"23\", \"24\", \"25\", \"26\", \"27\", \"28\", \"29\", \"30\", \"31\", \"32\", \"33\", \"34\", \"36\", \"37\"], \"mode\": \"lines\", \"name\": \"AUC_macro_max\", \"stepped\": true, \"type\": \"scatter\", \"data\": [0.9027922077922079, 0.9109595959595961, 0.9109595959595961, 0.9109595959595961, 0.9109595959595961, 0.9109595959595961, 0.9109595959595961, 0.9220238095238095, 0.9237770562770564, 0.9237770562770564, 0.9247799422799424, 0.9247799422799424, 0.9247799422799424, 0.9247799422799424, 0.9247799422799424, 0.9247799422799424, 0.9247799422799424, 0.9247799422799424, 0.9247799422799424, 0.9247799422799424, 0.9247799422799424, 0.9247799422799424, 0.9247799422799424, 0.9247799422799424, 0.9247799422799424, 0.9247799422799424, 0.9247799422799424, 0.9247799422799424, 0.9247799422799424, 0.9247799422799424, 0.9247799422799424, 0.9247799422799424, 0.9247799422799424, 0.9247799422799424, 0.9247799422799424, 0.9343722943722943, 0.9343722943722943]}], \"precision_score_micro\": [{\"categories\": [\"0\", \"1\", \"2\", \"3\", \"4\", \"5\", \"6\", \"7\", \"8\", \"9\", \"10\", \"11\", \"12\", \"13\", \"14\", \"15\", \"16\", \"17\", \"18\", \"19\", \"20\", \"21\", \"22\", \"23\", \"24\", \"25\", \"26\", \"27\", \"28\", \"29\", \"30\", \"31\", \"32\", \"33\", \"34\", \"36\", \"37\"], \"mode\": \"markers\", \"name\": \"precision_score_micro\", \"stepped\": false, \"type\": \"scatter\", \"data\": [0.8490196078431371, 0.8258169934640522, 0.8199346405228758, 0.8316993464052288, 0.8486928104575163, 0.8431372549019608, 0.7905228758169934, 0.8549019607843137, 0.8431372549019608, 0.8081699346405229, 0.8490196078431372, 0.8428104575163399, 0.8428104575163399, 0.8248366013071895, 0.8369281045751634, 0.8604575163398694, 0.8715686274509805, 0.8428104575163399, 0.831045751633987, 0.7790849673202614, 0.8369281045751634, 0.8542483660130721, 0.8372549019607842, 0.8545751633986928, 0.8545751633986928, 0.8372549019607843, 0.8313725490196078, 0.8313725490196078, 0.7960784313725491, 0.8542483660130719, 0.854575163398693, 0.8323529411764705, 0.8604575163398694, 0.7960784313725491, 0.8601307189542483, 0.8781045751633988, 0.8663398692810459]}, {\"categories\": [\"0\", \"1\", \"2\", \"3\", \"4\", \"5\", \"6\", \"7\", \"8\", \"9\", \"10\", \"11\", \"12\", \"13\", \"14\", \"15\", \"16\", \"17\", \"18\", \"19\", \"20\", \"21\", \"22\", \"23\", \"24\", \"25\", \"26\", \"27\", \"28\", \"29\", \"30\", \"31\", \"32\", \"33\", \"34\", \"36\", \"37\"], \"mode\": \"lines\", \"name\": \"precision_score_micro_max\", \"stepped\": true, \"type\": \"scatter\", \"data\": [0.8490196078431371, 0.8490196078431371, 0.8490196078431371, 0.8490196078431371, 0.8490196078431371, 0.8490196078431371, 0.8490196078431371, 0.8549019607843137, 0.8549019607843137, 0.8549019607843137, 0.8549019607843137, 0.8549019607843137, 0.8549019607843137, 0.8549019607843137, 0.8549019607843137, 0.8604575163398694, 0.8715686274509805, 0.8715686274509805, 0.8715686274509805, 0.8715686274509805, 0.8715686274509805, 0.8715686274509805, 0.8715686274509805, 0.8715686274509805, 0.8715686274509805, 0.8715686274509805, 0.8715686274509805, 0.8715686274509805, 0.8715686274509805, 0.8715686274509805, 0.8715686274509805, 0.8715686274509805, 0.8715686274509805, 0.8715686274509805, 0.8715686274509805, 0.8781045751633988, 0.8781045751633988]}], \"average_precision_score_macro\": [{\"categories\": [\"0\", \"1\", \"2\", \"3\", \"4\", \"5\", \"6\", \"7\", \"8\", \"9\", \"10\", \"11\", \"12\", \"13\", \"14\", \"15\", \"16\", \"17\", \"18\", \"19\", \"20\", \"21\", \"22\", \"23\", \"24\", \"25\", \"26\", \"27\", \"28\", \"29\", \"30\", \"31\", \"32\", \"33\", \"34\", \"36\", \"37\"], \"mode\": \"markers\", \"name\": \"average_precision_score_macro\", \"stepped\": false, \"type\": \"scatter\", \"data\": [0.8811998158264153, 0.8961833138876445, 0.86201126786479, 0.8878603793366256, 0.8956227782031909, 0.8918985809838638, 0.8202764204384397, 0.9075315877251515, 0.9099058245993884, 0.8380722214738242, 0.9190301654587925, 0.888044648770895, 0.8755065516167264, 0.8913632986855946, 0.8567749491493284, 0.9160076071088532, 0.8995990415131935, 0.8709836009896648, 0.8526329850566465, 0.8707155903630788, 0.8849078245384824, 0.8920048549908414, 0.8767453454631248, 0.9087650401520009, 0.9124853600557621, 0.91654179555113, 0.8910110935814956, 0.8919129641976518, 0.902102563904703, 0.9178876510844856, 0.8942411494503502, 0.8699290671847251, 0.883199682990323, 0.8348616292214539, 0.9006178688709007, 0.9275017577994327, 0.9230585621062367]}, {\"categories\": [\"0\", \"1\", \"2\", \"3\", \"4\", \"5\", \"6\", \"7\", \"8\", \"9\", \"10\", \"11\", \"12\", \"13\", \"14\", \"15\", \"16\", \"17\", \"18\", \"19\", \"20\", \"21\", \"22\", \"23\", \"24\", \"25\", \"26\", \"27\", \"28\", \"29\", \"30\", \"31\", \"32\", \"33\", \"34\", \"36\", \"37\"], \"mode\": \"lines\", \"name\": \"average_precision_score_macro_max\", \"stepped\": true, \"type\": \"scatter\", \"data\": [0.8811998158264153, 0.8961833138876445, 0.8961833138876445, 0.8961833138876445, 0.8961833138876445, 0.8961833138876445, 0.8961833138876445, 0.9075315877251515, 0.9099058245993884, 0.9099058245993884, 0.9190301654587925, 0.9190301654587925, 0.9190301654587925, 0.9190301654587925, 0.9190301654587925, 0.9190301654587925, 0.9190301654587925, 0.9190301654587925, 0.9190301654587925, 0.9190301654587925, 0.9190301654587925, 0.9190301654587925, 0.9190301654587925, 0.9190301654587925, 0.9190301654587925, 0.9190301654587925, 0.9190301654587925, 0.9190301654587925, 0.9190301654587925, 0.9190301654587925, 0.9190301654587925, 0.9190301654587925, 0.9190301654587925, 0.9190301654587925, 0.9190301654587925, 0.9275017577994327, 0.9275017577994327]}], \"matthews_correlation\": [{\"categories\": [\"0\", \"1\", \"2\", \"3\", \"4\", \"5\", \"6\", \"7\", \"8\", \"9\", \"10\", \"11\", \"12\", \"13\", \"14\", \"15\", \"16\", \"17\", \"18\", \"19\", \"20\", \"21\", \"22\", \"23\", \"24\", \"25\", \"26\", \"27\", \"28\", \"29\", \"30\", \"31\", \"32\", \"33\", \"34\", \"36\", \"37\"], \"mode\": \"markers\", \"name\": \"matthews_correlation\", \"stepped\": false, \"type\": \"scatter\", \"data\": [0.6307450268429287, 0.5439492654742346, 0.527348488751574, 0.5747697556669874, 0.5856257122754581, 0.5931273006226808, 0.4814383509198052, 0.6469986453316157, 0.6179639768406433, 0.5010129030857244, 0.6173211977654443, 0.5876859726358978, 0.5983494723732237, 0.5317736511904958, 0.5877017711342746, 0.6423131169324636, 0.6609602128382999, 0.5875331724595296, 0.5630391120597795, 0.37994361746098876, 0.5872889316235026, 0.6186159939459732, 0.564548892725228, 0.6034453626249405, 0.6315804979224781, 0.5830858761686042, 0.5865485119092678, 0.5769372286284069, 0.459674092067859, 0.6503722882638726, 0.6240690901521682, 0.5877171107520345, 0.6516528881328392, 0.46618985291220516, 0.6151752993994948, 0.6821742953981744, 0.6593259703792202]}, {\"categories\": [\"0\", \"1\", \"2\", \"3\", \"4\", \"5\", \"6\", \"7\", \"8\", \"9\", \"10\", \"11\", \"12\", \"13\", \"14\", \"15\", \"16\", \"17\", \"18\", \"19\", \"20\", \"21\", \"22\", \"23\", \"24\", \"25\", \"26\", \"27\", \"28\", \"29\", \"30\", \"31\", \"32\", \"33\", \"34\", \"36\", \"37\"], \"mode\": \"lines\", \"name\": \"matthews_correlation_max\", \"stepped\": true, \"type\": \"scatter\", \"data\": [0.6307450268429287, 0.6307450268429287, 0.6307450268429287, 0.6307450268429287, 0.6307450268429287, 0.6307450268429287, 0.6307450268429287, 0.6469986453316157, 0.6469986453316157, 0.6469986453316157, 0.6469986453316157, 0.6469986453316157, 0.6469986453316157, 0.6469986453316157, 0.6469986453316157, 0.6469986453316157, 0.6609602128382999, 0.6609602128382999, 0.6609602128382999, 0.6609602128382999, 0.6609602128382999, 0.6609602128382999, 0.6609602128382999, 0.6609602128382999, 0.6609602128382999, 0.6609602128382999, 0.6609602128382999, 0.6609602128382999, 0.6609602128382999, 0.6609602128382999, 0.6609602128382999, 0.6609602128382999, 0.6609602128382999, 0.6609602128382999, 0.6609602128382999, 0.6821742953981744, 0.6821742953981744]}], \"f1_score_macro\": [{\"categories\": [\"0\", \"1\", \"2\", \"3\", \"4\", \"5\", \"6\", \"7\", \"8\", \"9\", \"10\", \"11\", \"12\", \"13\", \"14\", \"15\", \"16\", \"17\", \"18\", \"19\", \"20\", \"21\", \"22\", \"23\", \"24\", \"25\", \"26\", \"27\", \"28\", \"29\", \"30\", \"31\", \"32\", \"33\", \"34\", \"36\", \"37\"], \"mode\": \"markers\", \"name\": \"f1_score_macro\", \"stepped\": false, \"type\": \"scatter\", \"data\": [0.8009776583864943, 0.7623326086389037, 0.7502710341684933, 0.7696467598164652, 0.7795884812021225, 0.7863531038025773, 0.724822834975009, 0.8065129922233352, 0.7903341359918474, 0.737138787362466, 0.7937433934011049, 0.783088541007122, 0.7771728311131512, 0.7263197438372754, 0.7851468503691874, 0.8071053985457187, 0.8158914471017902, 0.7779985754171564, 0.7730246137574455, 0.6409886293412433, 0.7729706724741189, 0.7967869711180038, 0.7716249616080104, 0.7879795381492436, 0.8032622212551729, 0.7558092901283289, 0.7811051982629096, 0.7776411032427506, 0.7124535007271674, 0.8155007293290024, 0.7940678045607562, 0.7834421902019353, 0.8119973991207857, 0.7207858815642827, 0.7939330702296201, 0.8292228548245022, 0.8163440669457144]}, {\"categories\": [\"0\", \"1\", \"2\", \"3\", \"4\", \"5\", \"6\", \"7\", \"8\", \"9\", \"10\", \"11\", \"12\", \"13\", \"14\", \"15\", \"16\", \"17\", \"18\", \"19\", \"20\", \"21\", \"22\", \"23\", \"24\", \"25\", \"26\", \"27\", \"28\", \"29\", \"30\", \"31\", \"32\", \"33\", \"34\", \"36\", \"37\"], \"mode\": \"lines\", \"name\": \"f1_score_macro_max\", \"stepped\": true, \"type\": \"scatter\", \"data\": [0.8009776583864943, 0.8009776583864943, 0.8009776583864943, 0.8009776583864943, 0.8009776583864943, 0.8009776583864943, 0.8009776583864943, 0.8065129922233352, 0.8065129922233352, 0.8065129922233352, 0.8065129922233352, 0.8065129922233352, 0.8065129922233352, 0.8065129922233352, 0.8065129922233352, 0.8071053985457187, 0.8158914471017902, 0.8158914471017902, 0.8158914471017902, 0.8158914471017902, 0.8158914471017902, 0.8158914471017902, 0.8158914471017902, 0.8158914471017902, 0.8158914471017902, 0.8158914471017902, 0.8158914471017902, 0.8158914471017902, 0.8158914471017902, 0.8158914471017902, 0.8158914471017902, 0.8158914471017902, 0.8158914471017902, 0.8158914471017902, 0.8158914471017902, 0.8292228548245022, 0.8292228548245022]}], \"recall_score_micro\": [{\"categories\": [\"0\", \"1\", \"2\", \"3\", \"4\", \"5\", \"6\", \"7\", \"8\", \"9\", \"10\", \"11\", \"12\", \"13\", \"14\", \"15\", \"16\", \"17\", \"18\", \"19\", \"20\", \"21\", \"22\", \"23\", \"24\", \"25\", \"26\", \"27\", \"28\", \"29\", \"30\", \"31\", \"32\", \"33\", \"34\", \"36\", \"37\"], \"mode\": \"markers\", \"name\": \"recall_score_micro\", \"stepped\": false, \"type\": \"scatter\", \"data\": [0.8490196078431371, 0.8258169934640522, 0.8199346405228758, 0.8316993464052288, 0.8486928104575163, 0.8431372549019608, 0.7905228758169934, 0.8549019607843137, 0.8431372549019608, 0.8081699346405229, 0.8490196078431372, 0.8428104575163399, 0.8428104575163399, 0.8248366013071895, 0.8369281045751634, 0.8604575163398694, 0.8715686274509805, 0.8428104575163399, 0.831045751633987, 0.7790849673202614, 0.8369281045751634, 0.8542483660130721, 0.8372549019607842, 0.8545751633986928, 0.8545751633986928, 0.8372549019607843, 0.8313725490196078, 0.8313725490196078, 0.7960784313725491, 0.8542483660130719, 0.854575163398693, 0.8323529411764705, 0.8604575163398694, 0.7960784313725491, 0.8601307189542483, 0.8781045751633988, 0.8663398692810459]}, {\"categories\": [\"0\", \"1\", \"2\", \"3\", \"4\", \"5\", \"6\", \"7\", \"8\", \"9\", \"10\", \"11\", \"12\", \"13\", \"14\", \"15\", \"16\", \"17\", \"18\", \"19\", \"20\", \"21\", \"22\", \"23\", \"24\", \"25\", \"26\", \"27\", \"28\", \"29\", \"30\", \"31\", \"32\", \"33\", \"34\", \"36\", \"37\"], \"mode\": \"lines\", \"name\": \"recall_score_micro_max\", \"stepped\": true, \"type\": \"scatter\", \"data\": [0.8490196078431371, 0.8490196078431371, 0.8490196078431371, 0.8490196078431371, 0.8490196078431371, 0.8490196078431371, 0.8490196078431371, 0.8549019607843137, 0.8549019607843137, 0.8549019607843137, 0.8549019607843137, 0.8549019607843137, 0.8549019607843137, 0.8549019607843137, 0.8549019607843137, 0.8604575163398694, 0.8715686274509805, 0.8715686274509805, 0.8715686274509805, 0.8715686274509805, 0.8715686274509805, 0.8715686274509805, 0.8715686274509805, 0.8715686274509805, 0.8715686274509805, 0.8715686274509805, 0.8715686274509805, 0.8715686274509805, 0.8715686274509805, 0.8715686274509805, 0.8715686274509805, 0.8715686274509805, 0.8715686274509805, 0.8715686274509805, 0.8715686274509805, 0.8781045751633988, 0.8781045751633988]}], \"average_precision_score_micro\": [{\"categories\": [\"0\", \"1\", \"2\", \"3\", \"4\", \"5\", \"6\", \"7\", \"8\", \"9\", \"10\", \"11\", \"12\", \"13\", \"14\", \"15\", \"16\", \"17\", \"18\", \"19\", \"20\", \"21\", \"22\", \"23\", \"24\", \"25\", \"26\", \"27\", \"28\", \"29\", \"30\", \"31\", \"32\", \"33\", \"34\", \"36\", \"37\"], \"mode\": \"markers\", \"name\": \"average_precision_score_micro\", \"stepped\": false, \"type\": \"scatter\", \"data\": [0.9258111819395577, 0.9300264988169162, 0.8979477348860826, 0.9230248713134834, 0.9399576816104844, 0.9166027147663524, 0.8598292844167712, 0.9323153224969494, 0.9323742018996299, 0.8785624917152248, 0.9380190447911001, 0.9182171691368343, 0.9086223915338383, 0.9028010755433981, 0.9031746520849009, 0.9334018917449878, 0.9287585782001668, 0.9224739538202419, 0.9078537615279124, 0.8824638574969559, 0.9209152372994472, 0.9216279280289305, 0.9048862782197018, 0.9320313468054691, 0.9353279875441027, 0.917519897427075, 0.9217938168887756, 0.9237648933818147, 0.9303690764228698, 0.9265700129365373, 0.9197951393053648, 0.914335631764484, 0.9164897806897272, 0.8830817070082752, 0.9282320175888408, 0.9464319424548233, 0.939143916113838]}, {\"categories\": [\"0\", \"1\", \"2\", \"3\", \"4\", \"5\", \"6\", \"7\", \"8\", \"9\", \"10\", \"11\", \"12\", \"13\", \"14\", \"15\", \"16\", \"17\", \"18\", \"19\", \"20\", \"21\", \"22\", \"23\", \"24\", \"25\", \"26\", \"27\", \"28\", \"29\", \"30\", \"31\", \"32\", \"33\", \"34\", \"36\", \"37\"], \"mode\": \"lines\", \"name\": \"average_precision_score_micro_max\", \"stepped\": true, \"type\": \"scatter\", \"data\": [0.9258111819395577, 0.9300264988169162, 0.9300264988169162, 0.9300264988169162, 0.9399576816104844, 0.9399576816104844, 0.9399576816104844, 0.9399576816104844, 0.9399576816104844, 0.9399576816104844, 0.9399576816104844, 0.9399576816104844, 0.9399576816104844, 0.9399576816104844, 0.9399576816104844, 0.9399576816104844, 0.9399576816104844, 0.9399576816104844, 0.9399576816104844, 0.9399576816104844, 0.9399576816104844, 0.9399576816104844, 0.9399576816104844, 0.9399576816104844, 0.9399576816104844, 0.9399576816104844, 0.9399576816104844, 0.9399576816104844, 0.9399576816104844, 0.9399576816104844, 0.9399576816104844, 0.9399576816104844, 0.9399576816104844, 0.9399576816104844, 0.9399576816104844, 0.9464319424548233, 0.9464319424548233]}], \"recall_score_weighted\": [{\"categories\": [\"0\", \"1\", \"2\", \"3\", \"4\", \"5\", \"6\", \"7\", \"8\", \"9\", \"10\", \"11\", \"12\", \"13\", \"14\", \"15\", \"16\", \"17\", \"18\", \"19\", \"20\", \"21\", \"22\", \"23\", \"24\", \"25\", \"26\", \"27\", \"28\", \"29\", \"30\", \"31\", \"32\", \"33\", \"34\", \"36\", \"37\"], \"mode\": \"markers\", \"name\": \"recall_score_weighted\", \"stepped\": false, \"type\": \"scatter\", \"data\": [0.8490196078431371, 0.8258169934640522, 0.8199346405228758, 0.8316993464052288, 0.8486928104575163, 0.8431372549019608, 0.7905228758169934, 0.8549019607843137, 0.8431372549019608, 0.8081699346405229, 0.8490196078431372, 0.8428104575163399, 0.8428104575163399, 0.8248366013071895, 0.8369281045751634, 0.8604575163398694, 0.8715686274509805, 0.8428104575163399, 0.831045751633987, 0.7790849673202614, 0.8369281045751634, 0.8542483660130721, 0.8372549019607842, 0.8545751633986928, 0.8545751633986928, 0.8372549019607843, 0.8313725490196078, 0.8313725490196078, 0.7960784313725491, 0.8542483660130719, 0.854575163398693, 0.8323529411764705, 0.8604575163398694, 0.7960784313725491, 0.8601307189542483, 0.8781045751633988, 0.8663398692810459]}, {\"categories\": [\"0\", \"1\", \"2\", \"3\", \"4\", \"5\", \"6\", \"7\", \"8\", \"9\", \"10\", \"11\", \"12\", \"13\", \"14\", \"15\", \"16\", \"17\", \"18\", \"19\", \"20\", \"21\", \"22\", \"23\", \"24\", \"25\", \"26\", \"27\", \"28\", \"29\", \"30\", \"31\", \"32\", \"33\", \"34\", \"36\", \"37\"], \"mode\": \"lines\", \"name\": \"recall_score_weighted_max\", \"stepped\": true, \"type\": \"scatter\", \"data\": [0.8490196078431371, 0.8490196078431371, 0.8490196078431371, 0.8490196078431371, 0.8490196078431371, 0.8490196078431371, 0.8490196078431371, 0.8549019607843137, 0.8549019607843137, 0.8549019607843137, 0.8549019607843137, 0.8549019607843137, 0.8549019607843137, 0.8549019607843137, 0.8549019607843137, 0.8604575163398694, 0.8715686274509805, 0.8715686274509805, 0.8715686274509805, 0.8715686274509805, 0.8715686274509805, 0.8715686274509805, 0.8715686274509805, 0.8715686274509805, 0.8715686274509805, 0.8715686274509805, 0.8715686274509805, 0.8715686274509805, 0.8715686274509805, 0.8715686274509805, 0.8715686274509805, 0.8715686274509805, 0.8715686274509805, 0.8715686274509805, 0.8715686274509805, 0.8781045751633988, 0.8781045751633988]}], \"recall_score_macro\": [{\"categories\": [\"0\", \"1\", \"2\", \"3\", \"4\", \"5\", \"6\", \"7\", \"8\", \"9\", \"10\", \"11\", \"12\", \"13\", \"14\", \"15\", \"16\", \"17\", \"18\", \"19\", \"20\", \"21\", \"22\", \"23\", \"24\", \"25\", \"26\", \"27\", \"28\", \"29\", \"30\", \"31\", \"32\", \"33\", \"34\", \"36\", \"37\"], \"mode\": \"markers\", \"name\": \"recall_score_macro\", \"stepped\": false, \"type\": \"scatter\", \"data\": [0.7950775613275614, 0.7585894660894661, 0.7482106782106783, 0.7501154401154401, 0.7674747474747475, 0.7715656565656566, 0.7200974025974026, 0.80239898989899, 0.7819823232323232, 0.7306727994227995, 0.7741035353535354, 0.7719823232323233, 0.762058080808081, 0.7145238095238096, 0.7748340548340549, 0.7866035353535354, 0.7915656565656566, 0.7613888888888889, 0.7631673881673882, 0.6503571428571429, 0.7611652236652237, 0.7796608946608947, 0.759244227994228, 0.7757702020202021, 0.7903535353535354, 0.7352561327561327, 0.7762247474747476, 0.7670959595959597, 0.6990674603174603, 0.8260245310245311, 0.7728535353535355, 0.7898953823953825, 0.80489898989899, 0.7149747474747475, 0.772994227994228, 0.8132323232323232, 0.8048989898989898]}, {\"categories\": [\"0\", \"1\", \"2\", \"3\", \"4\", \"5\", \"6\", \"7\", \"8\", \"9\", \"10\", \"11\", \"12\", \"13\", \"14\", \"15\", \"16\", \"17\", \"18\", \"19\", \"20\", \"21\", \"22\", \"23\", \"24\", \"25\", \"26\", \"27\", \"28\", \"29\", \"30\", \"31\", \"32\", \"33\", \"34\", \"36\", \"37\"], \"mode\": \"lines\", \"name\": \"recall_score_macro_max\", \"stepped\": true, \"type\": \"scatter\", \"data\": [0.7950775613275614, 0.7950775613275614, 0.7950775613275614, 0.7950775613275614, 0.7950775613275614, 0.7950775613275614, 0.7950775613275614, 0.80239898989899, 0.80239898989899, 0.80239898989899, 0.80239898989899, 0.80239898989899, 0.80239898989899, 0.80239898989899, 0.80239898989899, 0.80239898989899, 0.80239898989899, 0.80239898989899, 0.80239898989899, 0.80239898989899, 0.80239898989899, 0.80239898989899, 0.80239898989899, 0.80239898989899, 0.80239898989899, 0.80239898989899, 0.80239898989899, 0.80239898989899, 0.80239898989899, 0.8260245310245311, 0.8260245310245311, 0.8260245310245311, 0.8260245310245311, 0.8260245310245311, 0.8260245310245311, 0.8260245310245311, 0.8260245310245311]}], \"average_precision_score_weighted\": [{\"categories\": [\"0\", \"1\", \"2\", \"3\", \"4\", \"5\", \"6\", \"7\", \"8\", \"9\", \"10\", \"11\", \"12\", \"13\", \"14\", \"15\", \"16\", \"17\", \"18\", \"19\", \"20\", \"21\", \"22\", \"23\", \"24\", \"25\", \"26\", \"27\", \"28\", \"29\", \"30\", \"31\", \"32\", \"33\", \"34\", \"36\", \"37\"], \"mode\": \"markers\", \"name\": \"average_precision_score_weighted\", \"stepped\": false, \"type\": \"scatter\", \"data\": [0.9224607281095171, 0.9285437883275254, 0.8963813034011997, 0.9231244772464496, 0.930677226784493, 0.9187317757213951, 0.8556782186799488, 0.934168372077109, 0.9357985882661488, 0.8756152988794282, 0.941689811694137, 0.9190701755205792, 0.9133124020667275, 0.9245009656817615, 0.9031239100032353, 0.9405975025871222, 0.9330375026741808, 0.9116122737316509, 0.8997649282986652, 0.9110523679511567, 0.9211042452997471, 0.9208433324653049, 0.9058264429299608, 0.9353644812511595, 0.9380921076552566, 0.9359032171532172, 0.9212892663426111, 0.9223010006141493, 0.9317218076575055, 0.9393438097849863, 0.9266048458248572, 0.9130313557389682, 0.915329796437063, 0.8827722718351323, 0.9315035029048871, 0.94848084473517, 0.9448191687205527]}, {\"categories\": [\"0\", \"1\", \"2\", \"3\", \"4\", \"5\", \"6\", \"7\", \"8\", \"9\", \"10\", \"11\", \"12\", \"13\", \"14\", \"15\", \"16\", \"17\", \"18\", \"19\", \"20\", \"21\", \"22\", \"23\", \"24\", \"25\", \"26\", \"27\", \"28\", \"29\", \"30\", \"31\", \"32\", \"33\", \"34\", \"36\", \"37\"], \"mode\": \"lines\", \"name\": \"average_precision_score_weighted_max\", \"stepped\": true, \"type\": \"scatter\", \"data\": [0.9224607281095171, 0.9285437883275254, 0.9285437883275254, 0.9285437883275254, 0.930677226784493, 0.930677226784493, 0.930677226784493, 0.934168372077109, 0.9357985882661488, 0.9357985882661488, 0.941689811694137, 0.941689811694137, 0.941689811694137, 0.941689811694137, 0.941689811694137, 0.941689811694137, 0.941689811694137, 0.941689811694137, 0.941689811694137, 0.941689811694137, 0.941689811694137, 0.941689811694137, 0.941689811694137, 0.941689811694137, 0.941689811694137, 0.941689811694137, 0.941689811694137, 0.941689811694137, 0.941689811694137, 0.941689811694137, 0.941689811694137, 0.941689811694137, 0.941689811694137, 0.941689811694137, 0.941689811694137, 0.94848084473517, 0.94848084473517]}], \"f1_score_weighted\": [{\"categories\": [\"0\", \"1\", \"2\", \"3\", \"4\", \"5\", \"6\", \"7\", \"8\", \"9\", \"10\", \"11\", \"12\", \"13\", \"14\", \"15\", \"16\", \"17\", \"18\", \"19\", \"20\", \"21\", \"22\", \"23\", \"24\", \"25\", \"26\", \"27\", \"28\", \"29\", \"30\", \"31\", \"32\", \"33\", \"34\", \"36\", \"37\"], \"mode\": \"markers\", \"name\": \"f1_score_weighted\", \"stepped\": false, \"type\": \"scatter\", \"data\": [0.8461062802420777, 0.8218579487918672, 0.8080473249630931, 0.8226481538274296, 0.8389490781764086, 0.8367021833675597, 0.7795287085116583, 0.8508074103372367, 0.8370206305535529, 0.7974253626093123, 0.8419866318724953, 0.8348119551709645, 0.8309704397667892, 0.7987417947701754, 0.8343199638976782, 0.8535032990643545, 0.8638885840654693, 0.8323665983112853, 0.82487975525754, 0.7335802646852833, 0.8250897584810364, 0.8477795344493202, 0.8298841375769506, 0.844992250480989, 0.8496378637712707, 0.8175273502438773, 0.8276024056979878, 0.8271013820659909, 0.7823667220270945, 0.8566875214882804, 0.8454093386731805, 0.8316141875113123, 0.8565841187098531, 0.7861148763632058, 0.8517436474154616, 0.872490203247651, 0.861171130163872]}, {\"categories\": [\"0\", \"1\", \"2\", \"3\", \"4\", \"5\", \"6\", \"7\", \"8\", \"9\", \"10\", \"11\", \"12\", \"13\", \"14\", \"15\", \"16\", \"17\", \"18\", \"19\", \"20\", \"21\", \"22\", \"23\", \"24\", \"25\", \"26\", \"27\", \"28\", \"29\", \"30\", \"31\", \"32\", \"33\", \"34\", \"36\", \"37\"], \"mode\": \"lines\", \"name\": \"f1_score_weighted_max\", \"stepped\": true, \"type\": \"scatter\", \"data\": [0.8461062802420777, 0.8461062802420777, 0.8461062802420777, 0.8461062802420777, 0.8461062802420777, 0.8461062802420777, 0.8461062802420777, 0.8508074103372367, 0.8508074103372367, 0.8508074103372367, 0.8508074103372367, 0.8508074103372367, 0.8508074103372367, 0.8508074103372367, 0.8508074103372367, 0.8535032990643545, 0.8638885840654693, 0.8638885840654693, 0.8638885840654693, 0.8638885840654693, 0.8638885840654693, 0.8638885840654693, 0.8638885840654693, 0.8638885840654693, 0.8638885840654693, 0.8638885840654693, 0.8638885840654693, 0.8638885840654693, 0.8638885840654693, 0.8638885840654693, 0.8638885840654693, 0.8638885840654693, 0.8638885840654693, 0.8638885840654693, 0.8638885840654693, 0.872490203247651, 0.872490203247651]}]}, \"metricName\": null, \"primaryMetricName\": \"accuracy\", \"showLegend\": false}, \"run_metrics\": [{\"name\": \"experiment_status\", \"run_id\": \"AutoML_522d47ff-8e2d-46e9-8575-50192f611489\", \"categories\": [0, 1, 2, 3, 4, 5, 6, 7, 8, 9, 10, 11, 12, 13], \"series\": [{\"data\": [\"DatasetEvaluation\", \"FeaturesGeneration\", \"DatasetFeaturization\", \"DatasetFeaturizationCompleted\", \"DatasetCrossValidationSplit\", \"ModelSelection\", \"BestRunExplainModel\", \"ModelExplanationDataSetSetup\", \"PickSurrogateModel\", \"EngineeredFeatureExplanations\", \"EngineeredFeatureExplanations\", \"RawFeaturesExplanations\", \"RawFeaturesExplanations\", \"BestRunExplainModel\"]}]}, {\"name\": \"experiment_status_description\", \"run_id\": \"AutoML_522d47ff-8e2d-46e9-8575-50192f611489\", \"categories\": [0, 1, 2, 3, 4, 5, 6, 7, 8, 9, 10, 11, 12, 13], \"series\": [{\"data\": [\"Gathering dataset statistics.\", \"Generating features for the dataset.\", \"Beginning to fit featurizers and featurize the dataset.\", \"Completed fit featurizers and featurizing the dataset.\", \"Generating individually featurized CV splits.\", \"Beginning model selection.\", \"Best run model explanations started\", \"Model explanations data setup completed\", \"Choosing LightGBM as the surrogate model for explanations\", \"Computation of engineered features started\", \"Computation of engineered features completed\", \"Computation of raw features started\", \"Computation of raw features completed\", \"Best run model explanations completed\"]}]}, {\"name\": \"matthews_correlation\", \"run_id\": \"AutoML_522d47ff-8e2d-46e9-8575-50192f611489\", \"categories\": [0], \"series\": [{\"data\": [0.6821742953981744]}]}, {\"name\": \"average_precision_score_weighted\", \"run_id\": \"AutoML_522d47ff-8e2d-46e9-8575-50192f611489\", \"categories\": [0], \"series\": [{\"data\": [0.94848084473517]}]}, {\"name\": \"balanced_accuracy\", \"run_id\": \"AutoML_522d47ff-8e2d-46e9-8575-50192f611489\", \"categories\": [0], \"series\": [{\"data\": [0.8132323232323232]}]}, {\"name\": \"average_precision_score_micro\", \"run_id\": \"AutoML_522d47ff-8e2d-46e9-8575-50192f611489\", \"categories\": [0], \"series\": [{\"data\": [0.9464319424548233]}]}, {\"name\": \"precision_score_weighted\", \"run_id\": \"AutoML_522d47ff-8e2d-46e9-8575-50192f611489\", \"categories\": [0], \"series\": [{\"data\": [0.8850049868432223]}]}, {\"name\": \"precision_score_micro\", \"run_id\": \"AutoML_522d47ff-8e2d-46e9-8575-50192f611489\", \"categories\": [0], \"series\": [{\"data\": [0.8781045751633988]}]}, {\"name\": \"f1_score_macro\", \"run_id\": \"AutoML_522d47ff-8e2d-46e9-8575-50192f611489\", \"categories\": [0], \"series\": [{\"data\": [0.8292228548245022]}]}, {\"name\": \"log_loss\", \"run_id\": \"AutoML_522d47ff-8e2d-46e9-8575-50192f611489\", \"categories\": [0], \"series\": [{\"data\": [0.3519014494577045]}]}, {\"name\": \"recall_score_macro\", \"run_id\": \"AutoML_522d47ff-8e2d-46e9-8575-50192f611489\", \"categories\": [0], \"series\": [{\"data\": [0.8132323232323232]}]}, {\"name\": \"AUC_weighted\", \"run_id\": \"AutoML_522d47ff-8e2d-46e9-8575-50192f611489\", \"categories\": [0], \"series\": [{\"data\": [0.9343722943722943]}]}, {\"name\": \"precision_score_macro\", \"run_id\": \"AutoML_522d47ff-8e2d-46e9-8575-50192f611489\", \"categories\": [0], \"series\": [{\"data\": [0.8767080835830836]}]}, {\"name\": \"norm_macro_recall\", \"run_id\": \"AutoML_522d47ff-8e2d-46e9-8575-50192f611489\", \"categories\": [0], \"series\": [{\"data\": [0.6264646464646464]}]}, {\"name\": \"f1_score_weighted\", \"run_id\": \"AutoML_522d47ff-8e2d-46e9-8575-50192f611489\", \"categories\": [0], \"series\": [{\"data\": [0.872490203247651]}]}, {\"name\": \"accuracy\", \"run_id\": \"AutoML_522d47ff-8e2d-46e9-8575-50192f611489\", \"categories\": [0], \"series\": [{\"data\": [0.8781045751633988]}]}, {\"name\": \"weighted_accuracy\", \"run_id\": \"AutoML_522d47ff-8e2d-46e9-8575-50192f611489\", \"categories\": [0], \"series\": [{\"data\": [0.909064440202143]}]}, {\"name\": \"average_precision_score_macro\", \"run_id\": \"AutoML_522d47ff-8e2d-46e9-8575-50192f611489\", \"categories\": [0], \"series\": [{\"data\": [0.9275017577994327]}]}, {\"name\": \"recall_score_weighted\", \"run_id\": \"AutoML_522d47ff-8e2d-46e9-8575-50192f611489\", \"categories\": [0], \"series\": [{\"data\": [0.8781045751633988]}]}, {\"name\": \"AUC_micro\", \"run_id\": \"AutoML_522d47ff-8e2d-46e9-8575-50192f611489\", \"categories\": [0], \"series\": [{\"data\": [0.9418396770472895]}]}, {\"name\": \"recall_score_micro\", \"run_id\": \"AutoML_522d47ff-8e2d-46e9-8575-50192f611489\", \"categories\": [0], \"series\": [{\"data\": [0.8781045751633988]}]}, {\"name\": \"AUC_macro\", \"run_id\": \"AutoML_522d47ff-8e2d-46e9-8575-50192f611489\", \"categories\": [0], \"series\": [{\"data\": [0.9343722943722943]}]}, {\"name\": \"f1_score_micro\", \"run_id\": \"AutoML_522d47ff-8e2d-46e9-8575-50192f611489\", \"categories\": [0], \"series\": [{\"data\": [0.8781045751633988]}]}], \"run_logs\": \"\\nRun is completed.\", \"graph\": {}, \"widget_settings\": {\"childWidgetDisplay\": \"popup\", \"send_telemetry\": false, \"log_level\": \"INFO\", \"sdk_version\": \"1.19.0\"}, \"loading\": false}"
     },
     "metadata": {},
     "output_type": "display_data"
    }
   ],
   "source": [
    "from azureml.widgets import RunDetails\n",
    "RunDetails(remote_run).show()"
   ]
  },
  {
   "cell_type": "markdown",
   "metadata": {},
   "source": [
    "## Best Model\n",
    "\n",
    "TODO: In the cell below, get the best model from the automl experiments and display all the properties of the model.\n",
    "\n"
   ]
  },
  {
   "cell_type": "code",
   "execution_count": 12,
   "metadata": {
    "gather": {
     "logged": 1610554430981
    },
    "jupyter": {
     "outputs_hidden": false,
     "source_hidden": false
    },
    "nteract": {
     "transient": {
      "deleting": false
     }
    }
   },
   "outputs": [
    {
     "name": "stdout",
     "output_type": "stream",
     "text": [
      "Run(Experiment: capstone-automl,\n",
      "Id: AutoML_522d47ff-8e2d-46e9-8575-50192f611489_36,\n",
      "Type: azureml.scriptrun,\n",
      "Status: Completed)\n",
      "Pipeline(memory=None,\n",
      "         steps=[('datatransformer',\n",
      "                 DataTransformer(enable_dnn=None, enable_feature_sweeping=None,\n",
      "                                 feature_sweeping_config=None,\n",
      "                                 feature_sweeping_timeout=None,\n",
      "                                 featurization_config=None, force_text_dnn=None,\n",
      "                                 is_cross_validation=None,\n",
      "                                 is_onnx_compatible=None, logger=None,\n",
      "                                 observer=None, task=None, working_dir=None)),\n",
      "                ('prefittedsoftvotingclassifier',...\n",
      "                                                                                                  min_samples_leaf=0.06157894736842105,\n",
      "                                                                                                  min_samples_split=0.2442105263157895,\n",
      "                                                                                                  min_weight_fraction_leaf=0.0,\n",
      "                                                                                                  n_estimators=100,\n",
      "                                                                                                  n_jobs=1,\n",
      "                                                                                                  oob_score=False,\n",
      "                                                                                                  random_state=None,\n",
      "                                                                                                  verbose=0,\n",
      "                                                                                                  warm_start=False))],\n",
      "                                                                     verbose=False))],\n",
      "                                               flatten_transform=None,\n",
      "                                               weights=[0.16666666666666666,\n",
      "                                                        0.16666666666666666,\n",
      "                                                        0.16666666666666666,\n",
      "                                                        0.16666666666666666,\n",
      "                                                        0.16666666666666666,\n",
      "                                                        0.16666666666666666]))],\n",
      "         verbose=False)\n"
     ]
    },
    {
     "data": {
      "text/plain": [
       "'AutoML522d47ff836'"
      ]
     },
     "execution_count": 12,
     "metadata": {},
     "output_type": "execute_result"
    }
   ],
   "source": [
    "from azureml.core.run import Run\n",
    "###model_explainability_run_id = remote_run.id + \"_\" + \"ModelExplain\"\n",
    "#print(model_explainability_run_id)\n",
    "##model_explainability_run = Run(experiment=experiment, run_id=model_explainability_run_id)\n",
    "#model_explainability_run.wait_for_completion()\n",
    "\n",
    "# Get the best run object\n",
    "best_run, fitted_model = remote_run.get_output()\n",
    "print(best_run)\n",
    "print(fitted_model)\n",
    "best_run.get_tags()\n",
    "best_run.properties['model_name']"
   ]
  },
  {
   "cell_type": "code",
   "execution_count": 17,
   "metadata": {
    "gather": {
     "logged": 1610554648391
    }
   },
   "outputs": [],
   "source": [
    "from azureml.automl.core.shared import constants\n",
    "best_run.download_file(constants.CONDA_ENV_FILE_PATH, 'cap-env.yml')"
   ]
  },
  {
   "cell_type": "code",
   "execution_count": 19,
   "metadata": {
    "gather": {
     "logged": 1610554752782
    },
    "jupyter": {
     "outputs_hidden": false,
     "source_hidden": false
    },
    "nteract": {
     "transient": {
      "deleting": false
     }
    }
   },
   "outputs": [
    {
     "data": {
      "text/html": [
       "['outputs/fitted_model.joblib']"
      ],
      "text/plain": [
       "['outputs/fitted_model.joblib']"
      ]
     },
     "execution_count": 19,
     "metadata": {},
     "output_type": "execute_result"
    }
   ],
   "source": [
    "#TODO: Save the best model\n",
    "import joblib\n",
    "os.makedirs('outputs', exist_ok = True)\n",
    "joblib.dump(fitted_model, 'outputs/fitted_model.joblib')"
   ]
  },
  {
   "cell_type": "markdown",
   "metadata": {},
   "source": [
    "## Model Deployment\n",
    "\n",
    "Remember you have to deploy only one of the two models you trained.. Perform the steps in the rest of this notebook only if you wish to deploy this model.\n",
    "\n",
    "TODO: In the cell below, register the model, create an inference config and deploy the model as a web service."
   ]
  },
  {
   "cell_type": "code",
   "execution_count": 20,
   "metadata": {
    "gather": {
     "logged": 1610554767075
    },
    "jupyter": {
     "outputs_hidden": false,
     "source_hidden": false
    },
    "nteract": {
     "transient": {
      "deleting": false
     }
    }
   },
   "outputs": [],
   "source": [
    "best_run, fitted_model = remote_run.get_output()\n",
    "model_name = best_run.properties['model_name']\n",
    "\n",
    "script_file_name = './score.py'\n",
    "\n",
    "best_run.download_file('outputs/scoring_file_v_1_0_0.py', './score.py')\n"
   ]
  },
  {
   "cell_type": "code",
   "execution_count": 21,
   "metadata": {
    "gather": {
     "logged": 1610554776919
    }
   },
   "outputs": [
    {
     "data": {
      "text/plain": [
       "Model(workspace=Workspace.create(name='quick-starts-ws-134567', subscription_id='9a7511b8-150f-4a58-8528-3e7d50216c31', resource_group='aml-quickstarts-134567'), name=auto-ml, id=auto-ml:2, version=2, tags={}, properties={})"
      ]
     },
     "execution_count": 21,
     "metadata": {},
     "output_type": "execute_result"
    }
   ],
   "source": [
    "best_run.register_model(\"auto-ml\" , model_path = './outputs/')"
   ]
  },
  {
   "cell_type": "code",
   "execution_count": 22,
   "metadata": {
    "gather": {
     "logged": 1610554786779
    }
   },
   "outputs": [
    {
     "name": "stdout",
     "output_type": "stream",
     "text": [
      "AutoML522d47ff836\n"
     ]
    }
   ],
   "source": [
    "description = 'AutoML Model trained on MBA Placement data to predict if a student gets placed or not.'\n",
    "tags = None\n",
    "model = remote_run.register_model(model_name = model_name, description = description, tags = tags)\n",
    "\n",
    "print(remote_run.model_id) # This will be written to the script file later in the notebook."
   ]
  },
  {
   "cell_type": "markdown",
   "metadata": {
    "collapsed": true,
    "gather": {
     "logged": 1598431657736
    },
    "jupyter": {
     "outputs_hidden": false,
     "source_hidden": false
    },
    "nteract": {
     "transient": {
      "deleting": false
     }
    }
   },
   "source": [
    "TODO: In the cell below, send a request to the web service you deployed to test it."
   ]
  },
  {
   "cell_type": "code",
   "execution_count": 27,
   "metadata": {
    "gather": {
     "logged": 1598432707604
    },
    "jupyter": {
     "outputs_hidden": false,
     "source_hidden": false
    },
    "nteract": {
     "transient": {
      "deleting": false
     }
    }
   },
   "outputs": [
    {
     "ename": "Exception",
     "evalue": "Error retrieving the environment definition. Code: 404\n: {\n  \"error\": {\n    \"code\": \"UserError\",\n    \"severity\": null,\n    \"message\": \"No definitions exist for environment project_environment\",\n    \"messageFormat\": null,\n    \"messageParameters\": null,\n    \"referenceCode\": null,\n    \"detailsUri\": null,\n    \"target\": null,\n    \"details\": [],\n    \"innerError\": {\n      \"code\": \"NotFoundError\",\n      \"innerError\": null\n    },\n    \"debugInfo\": null\n  },\n  \"correlation\": {\n    \"operation\": \"359d771152a8854eb6175145a3f6b0f1\",\n    \"request\": \"9261b080e3bcaa46\"\n  },\n  \"environment\": \"southcentralus\",\n  \"location\": \"southcentralus\",\n  \"time\": \"2021-01-13T17:12:04.1324319+00:00\",\n  \"componentName\": \"environment-management\"\n}",
     "output_type": "error",
     "traceback": [
      "\u001b[0;31m---------------------------------------------------------------------------\u001b[0m",
      "\u001b[0;31mException\u001b[0m                                 Traceback (most recent call last)",
      "\u001b[0;32m<ipython-input-27-bda08959a603>\u001b[0m in \u001b[0;36m<module>\u001b[0;34m\u001b[0m\n\u001b[1;32m      5\u001b[0m \u001b[0;32mfrom\u001b[0m \u001b[0mazureml\u001b[0m\u001b[0;34m.\u001b[0m\u001b[0mcore\u001b[0m\u001b[0;34m.\u001b[0m\u001b[0menvironment\u001b[0m \u001b[0;32mimport\u001b[0m \u001b[0mEnvironment\u001b[0m\u001b[0;34m\u001b[0m\u001b[0;34m\u001b[0m\u001b[0m\n\u001b[1;32m      6\u001b[0m \u001b[0;34m\u001b[0m\u001b[0m\n\u001b[0;32m----> 7\u001b[0;31m \u001b[0mmyenv\u001b[0m \u001b[0;34m=\u001b[0m \u001b[0mEnvironment\u001b[0m\u001b[0;34m.\u001b[0m\u001b[0mget\u001b[0m\u001b[0;34m(\u001b[0m\u001b[0mws\u001b[0m\u001b[0;34m,\u001b[0m \u001b[0mname\u001b[0m\u001b[0;34m=\u001b[0m\u001b[0;34m\"project_environment\"\u001b[0m\u001b[0;34m,\u001b[0m \u001b[0mversion\u001b[0m\u001b[0;34m=\u001b[0m\u001b[0;32mNone\u001b[0m\u001b[0;34m)\u001b[0m\u001b[0;34m\u001b[0m\u001b[0;34m\u001b[0m\u001b[0m\n\u001b[0m\u001b[1;32m      8\u001b[0m \u001b[0minference_config\u001b[0m \u001b[0;34m=\u001b[0m \u001b[0mInferenceConfig\u001b[0m\u001b[0;34m(\u001b[0m\u001b[0mentry_script\u001b[0m\u001b[0;34m=\u001b[0m\u001b[0mscript_file_name\u001b[0m\u001b[0;34m,\u001b[0m \u001b[0menvironment\u001b[0m\u001b[0;34m=\u001b[0m\u001b[0mmyenv\u001b[0m\u001b[0;34m)\u001b[0m\u001b[0;34m\u001b[0m\u001b[0;34m\u001b[0m\u001b[0m\n\u001b[1;32m      9\u001b[0m \u001b[0;34m\u001b[0m\u001b[0m\n",
      "\u001b[0;32m/anaconda/envs/azureml_py36/lib/python3.6/site-packages/azureml/core/environment.py\u001b[0m in \u001b[0;36mget\u001b[0;34m(workspace, name, version, label)\u001b[0m\n\u001b[1;32m    886\u001b[0m             \u001b[0menvironment_dict\u001b[0m \u001b[0;34m=\u001b[0m \u001b[0menvironment_client\u001b[0m\u001b[0;34m.\u001b[0m\u001b[0m_get_environment_definition_by_label\u001b[0m\u001b[0;34m(\u001b[0m\u001b[0mname\u001b[0m\u001b[0;34m=\u001b[0m\u001b[0mname\u001b[0m\u001b[0;34m,\u001b[0m \u001b[0mlabel\u001b[0m\u001b[0;34m=\u001b[0m\u001b[0mlabel\u001b[0m\u001b[0;34m)\u001b[0m\u001b[0;34m\u001b[0m\u001b[0;34m\u001b[0m\u001b[0m\n\u001b[1;32m    887\u001b[0m         \u001b[0;32melse\u001b[0m\u001b[0;34m:\u001b[0m\u001b[0;34m\u001b[0m\u001b[0;34m\u001b[0m\u001b[0m\n\u001b[0;32m--> 888\u001b[0;31m             \u001b[0menvironment_dict\u001b[0m \u001b[0;34m=\u001b[0m \u001b[0menvironment_client\u001b[0m\u001b[0;34m.\u001b[0m\u001b[0m_get_environment_definition\u001b[0m\u001b[0;34m(\u001b[0m\u001b[0mname\u001b[0m\u001b[0;34m=\u001b[0m\u001b[0mname\u001b[0m\u001b[0;34m,\u001b[0m \u001b[0mversion\u001b[0m\u001b[0;34m=\u001b[0m\u001b[0mversion\u001b[0m\u001b[0;34m)\u001b[0m\u001b[0;34m\u001b[0m\u001b[0;34m\u001b[0m\u001b[0m\n\u001b[0m\u001b[1;32m    889\u001b[0m         \u001b[0menv\u001b[0m \u001b[0;34m=\u001b[0m \u001b[0mEnvironment\u001b[0m\u001b[0;34m.\u001b[0m\u001b[0m_deserialize_and_add_to_object\u001b[0m\u001b[0;34m(\u001b[0m\u001b[0menvironment_dict\u001b[0m\u001b[0;34m)\u001b[0m\u001b[0;34m\u001b[0m\u001b[0;34m\u001b[0m\u001b[0m\n\u001b[1;32m    890\u001b[0m \u001b[0;34m\u001b[0m\u001b[0m\n",
      "\u001b[0;32m/anaconda/envs/azureml_py36/lib/python3.6/site-packages/azureml/_restclient/environment_client.py\u001b[0m in \u001b[0;36m_get_environment_definition\u001b[0;34m(self, name, version)\u001b[0m\n\u001b[1;32m     43\u001b[0m             message = \"Error retrieving the environment definition. Code: {}\\n: {}\".format(response.status_code,\n\u001b[1;32m     44\u001b[0m                                                                                            response.text)\n\u001b[0;32m---> 45\u001b[0;31m             \u001b[0;32mraise\u001b[0m \u001b[0mException\u001b[0m\u001b[0;34m(\u001b[0m\u001b[0mmessage\u001b[0m\u001b[0;34m)\u001b[0m\u001b[0;34m\u001b[0m\u001b[0;34m\u001b[0m\u001b[0m\n\u001b[0m\u001b[1;32m     46\u001b[0m \u001b[0;34m\u001b[0m\u001b[0m\n\u001b[1;32m     47\u001b[0m     \u001b[0;32mdef\u001b[0m \u001b[0m_get_environment_definition_by_label\u001b[0m\u001b[0;34m(\u001b[0m\u001b[0mself\u001b[0m\u001b[0;34m,\u001b[0m \u001b[0mname\u001b[0m\u001b[0;34m,\u001b[0m \u001b[0mlabel\u001b[0m\u001b[0;34m)\u001b[0m\u001b[0;34m:\u001b[0m\u001b[0;34m\u001b[0m\u001b[0;34m\u001b[0m\u001b[0m\n",
      "\u001b[0;31mException\u001b[0m: Error retrieving the environment definition. Code: 404\n: {\n  \"error\": {\n    \"code\": \"UserError\",\n    \"severity\": null,\n    \"message\": \"No definitions exist for environment project_environment\",\n    \"messageFormat\": null,\n    \"messageParameters\": null,\n    \"referenceCode\": null,\n    \"detailsUri\": null,\n    \"target\": null,\n    \"details\": [],\n    \"innerError\": {\n      \"code\": \"NotFoundError\",\n      \"innerError\": null\n    },\n    \"debugInfo\": null\n  },\n  \"correlation\": {\n    \"operation\": \"359d771152a8854eb6175145a3f6b0f1\",\n    \"request\": \"9261b080e3bcaa46\"\n  },\n  \"environment\": \"southcentralus\",\n  \"location\": \"southcentralus\",\n  \"time\": \"2021-01-13T17:12:04.1324319+00:00\",\n  \"componentName\": \"environment-management\"\n}"
     ]
    }
   ],
   "source": [
    "from azureml.core.model import InferenceConfig\n",
    "from azureml.core.webservice import AciWebservice\n",
    "from azureml.core.webservice import Webservice\n",
    "from azureml.core.model import Model\n",
    "from azureml.core.environment import Environment\n",
    "\n",
    "myenv = Environment.get(ws, name=\"project_environment\", version=None)\n",
    "inference_config = InferenceConfig(entry_script=script_file_name, environment=myenv)\n",
    "\n",
    "aciconfig = AciWebservice.deploy_configuration(cpu_cores = 1, \n",
    "                                               memory_gb = 1,\n",
    "                                               enable_app_insights=True, \n",
    "                                               tags = {'area': \"PlacementData\", 'type': \"automl_classification\"}, \n",
    "                                               description = 'sample service for Automl Classification')\n",
    "\n",
    "aci_service_name = 'automl-mba-placement-all'\n",
    "print(aci_service_name)\n",
    "aci_service = Model.deploy(ws, aci_service_name, [model], inference_config, aciconfig)\n",
    "aci_service.wait_for_deployment(True)\n",
    "print(aci_service.state)"
   ]
  },
  {
   "cell_type": "code",
   "execution_count": null,
   "metadata": {},
   "outputs": [],
   "source": [
    "print(aci_service.scoring_uri)"
   ]
  },
  {
   "cell_type": "code",
   "execution_count": null,
   "metadata": {},
   "outputs": [],
   "source": [
    "# Load the mba placement datasets.\n",
    "import numpy as np\n",
    "from numpy import array"
   ]
  },
  {
   "cell_type": "code",
   "execution_count": null,
   "metadata": {},
   "outputs": [],
   "source": [
    "import json\n",
    "import requests\n",
    "\n",
    "test_x_json = test_x.to_json(orient='records')\n",
    "data = \"{\\\"data\\\": \" + test_x_json +\"}\"\n",
    "headers = {'Content-Type': 'application/json'}\n",
    "\n",
    "resp = requests.post(aci_service.scoring_uri, data, headers=headers)\n",
    "\n",
    "y_pred = json.loads(json.loads(resp.text))['result']"
   ]
  },
  {
   "cell_type": "code",
   "execution_count": null,
   "metadata": {},
   "outputs": [],
   "source": [
    "from sklearn.metrics import confusion_matrix\n",
    "\n",
    "conf_mx = confusion_matrix(test_y, y_pred)\n",
    "print(conf_mx)\n",
    "print('Overall accuracy:', np.average(y_pred == test_y))"
   ]
  },
  {
   "cell_type": "code",
   "execution_count": null,
   "metadata": {},
   "outputs": [],
   "source": [
    "actual = array(test_y)\n",
    "actual = actual[:,0]\n",
    "print(len(y_pred), \" \", len(actual))"
   ]
  },
  {
   "cell_type": "markdown",
   "metadata": {
    "collapsed": true,
    "gather": {
     "logged": 1598432765711
    },
    "jupyter": {
     "outputs_hidden": false,
     "source_hidden": false
    },
    "nteract": {
     "transient": {
      "deleting": false
     }
    }
   },
   "source": [
    "TODO: In the cell below, print the logs of the web service and delete the service"
   ]
  },
  {
   "cell_type": "code",
   "execution_count": null,
   "metadata": {
    "jupyter": {
     "outputs_hidden": false,
     "source_hidden": false
    },
    "nteract": {
     "transient": {
      "deleting": false
     }
    }
   },
   "outputs": [],
   "source": [
    "aci_service.get_logs()"
   ]
  },
  {
   "cell_type": "code",
   "execution_count": null,
   "metadata": {},
   "outputs": [],
   "source": [
    "aci_service.delete()"
   ]
  }
 ],
 "metadata": {
  "kernel_info": {
   "name": "python3"
  },
  "kernelspec": {
   "display_name": "Python 3",
   "language": "python",
   "name": "python3"
  },
  "language_info": {
   "codemirror_mode": {
    "name": "ipython",
    "version": 3
   },
   "file_extension": ".py",
   "mimetype": "text/x-python",
   "name": "python",
   "nbconvert_exporter": "python",
   "pygments_lexer": "ipython3",
   "version": "3.6.9"
  },
  "nteract": {
   "version": "nteract-front-end@1.0.0"
  }
 },
 "nbformat": 4,
 "nbformat_minor": 2
}
