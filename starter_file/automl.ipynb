{
 "cells": [
  {
   "cell_type": "markdown",
   "metadata": {},
   "source": [
    "# Automated ML\n",
    "\n",
    "TODO: Import Dependencies. In the cell below, import all the dependencies that you will need to complete the project."
   ]
  },
  {
   "cell_type": "code",
   "execution_count": 1,
   "metadata": {
    "gather": {
     "logged": 1610627952261
    },
    "jupyter": {
     "outputs_hidden": false,
     "source_hidden": false
    },
    "nteract": {
     "transient": {
      "deleting": false
     }
    }
   },
   "outputs": [],
   "source": [
    "import logging\n",
    "\n",
    "from matplotlib import pyplot as plt\n",
    "import pandas as pd\n",
    "import os\n",
    "\n",
    "import azureml.core\n",
    "from azureml.core.experiment import Experiment\n",
    "from azureml.core.workspace import Workspace\n",
    "from azureml.automl.core.featurization import FeaturizationConfig\n",
    "from azureml.core.dataset import Dataset\n",
    "from azureml.train.automl import AutoMLConfig\n",
    "from azureml.interpret import ExplanationClient"
   ]
  },
  {
   "cell_type": "markdown",
   "metadata": {},
   "source": [
    "## Dataset\n",
    "\n",
    "### Overview\n",
    "TODO: In this markdown cell, give an overview of the dataset you are using. Also mention the task you will be performing.\n",
    "\n",
    "\n",
    "TODO: Get data. In the cell below, write code to access the data you will be using in this project. Remember that the dataset needs to be external."
   ]
  },
  {
   "cell_type": "code",
   "execution_count": 2,
   "metadata": {
    "gather": {
     "logged": 1610627959852
    },
    "jupyter": {
     "outputs_hidden": false,
     "source_hidden": false
    },
    "nteract": {
     "transient": {
      "deleting": false
     }
    }
   },
   "outputs": [
    {
     "name": "stdout",
     "output_type": "stream",
     "text": [
      "Workspace name: quick-starts-ws-134658\n",
      "Azure region: southcentralus\n",
      "Subscription id: cdbe0b43-92a0-4715-838a-f2648cc7ad21\n",
      "Resource group: aml-quickstarts-134658\n"
     ]
    }
   ],
   "source": [
    "ws = Workspace.from_config()\n",
    "print('Workspace name: ' + ws.name, \n",
    "      'Azure region: ' + ws.location, \n",
    "      'Subscription id: ' + ws.subscription_id, \n",
    "      'Resource group: ' + ws.resource_group, sep = '\\n')\n",
    "# choose a name for experiment\n",
    "experiment_name = 'capstone-automl'\n",
    "project_folder = './capstone-project3'\n",
    "\n",
    "experiment=Experiment(ws, experiment_name)"
   ]
  },
  {
   "cell_type": "code",
   "execution_count": 3,
   "metadata": {
    "collapsed": true,
    "gather": {
     "logged": 1610627981264
    },
    "jupyter": {
     "outputs_hidden": false,
     "source_hidden": false
    },
    "nteract": {
     "transient": {
      "deleting": false
     }
    }
   },
   "outputs": [],
   "source": [
    "from azureml.core import Environment\n",
    "# set up the  environment\n",
    "env = Environment.from_conda_specification(\n",
    "        name='cap-env',\n",
    "        file_path='./cap-env.yml'    \n",
    "        )"
   ]
  },
  {
   "cell_type": "markdown",
   "metadata": {},
   "source": [
    "## Create or Attach existing AmlCompute"
   ]
  },
  {
   "cell_type": "code",
   "execution_count": 4,
   "metadata": {
    "gather": {
     "logged": 1610627986965
    }
   },
   "outputs": [
    {
     "name": "stdout",
     "output_type": "stream",
     "text": [
      "Found existing cluster, use it.\n",
      "Succeeded\n",
      "AmlCompute wait for completion finished\n",
      "\n",
      "Minimum number of nodes requested have been provisioned\n"
     ]
    }
   ],
   "source": [
    "from azureml.core.compute import ComputeTarget, AmlCompute\n",
    "from azureml.core.compute_target import ComputeTargetException\n",
    "\n",
    "# Choose a name for your CPU cluster\n",
    "cpu_cluster_name = \"aml-compute\"\n",
    "\n",
    "# Verify that cluster does not exist already\n",
    "try:\n",
    "    compute_target = ComputeTarget(workspace=ws, name=cpu_cluster_name)\n",
    "    print('Found existing cluster, use it.')\n",
    "except ComputeTargetException:\n",
    "    compute_config = AmlCompute.provisioning_configuration(vm_size='STANDARD_D2_V2',\n",
    "                                                           max_nodes=6)\n",
    "    compute_target = ComputeTarget.create(ws, cpu_cluster_name, compute_config)\n",
    "\n",
    "compute_target.wait_for_completion(show_output=True)"
   ]
  },
  {
   "cell_type": "markdown",
   "metadata": {},
   "source": [
    "## Data"
   ]
  },
  {
   "cell_type": "code",
   "execution_count": 5,
   "metadata": {
    "gather": {
     "logged": 1610628000596
    }
   },
   "outputs": [
    {
     "data": {
      "text/html": [
       "<div>\n",
       "<style scoped>\n",
       "    .dataframe tbody tr th:only-of-type {\n",
       "        vertical-align: middle;\n",
       "    }\n",
       "\n",
       "    .dataframe tbody tr th {\n",
       "        vertical-align: top;\n",
       "    }\n",
       "\n",
       "    .dataframe thead th {\n",
       "        text-align: right;\n",
       "    }\n",
       "</style>\n",
       "<table border=\"1\" class=\"dataframe\">\n",
       "  <thead>\n",
       "    <tr style=\"text-align: right;\">\n",
       "      <th></th>\n",
       "      <th>sl_no</th>\n",
       "      <th>ssc_p</th>\n",
       "      <th>hsc_p</th>\n",
       "      <th>degree_p</th>\n",
       "      <th>etest_p</th>\n",
       "      <th>mba_p</th>\n",
       "      <th>salary</th>\n",
       "    </tr>\n",
       "  </thead>\n",
       "  <tbody>\n",
       "    <tr>\n",
       "      <th>count</th>\n",
       "      <td>215.000000</td>\n",
       "      <td>215.000000</td>\n",
       "      <td>215.000000</td>\n",
       "      <td>215.000000</td>\n",
       "      <td>215.000000</td>\n",
       "      <td>215.000000</td>\n",
       "      <td>148.000000</td>\n",
       "    </tr>\n",
       "    <tr>\n",
       "      <th>mean</th>\n",
       "      <td>108.000000</td>\n",
       "      <td>67.303395</td>\n",
       "      <td>66.333163</td>\n",
       "      <td>66.370186</td>\n",
       "      <td>72.100558</td>\n",
       "      <td>62.278186</td>\n",
       "      <td>288655.405405</td>\n",
       "    </tr>\n",
       "    <tr>\n",
       "      <th>std</th>\n",
       "      <td>62.209324</td>\n",
       "      <td>10.827205</td>\n",
       "      <td>10.897509</td>\n",
       "      <td>7.358743</td>\n",
       "      <td>13.275956</td>\n",
       "      <td>5.833385</td>\n",
       "      <td>93457.452420</td>\n",
       "    </tr>\n",
       "    <tr>\n",
       "      <th>min</th>\n",
       "      <td>1.000000</td>\n",
       "      <td>40.890000</td>\n",
       "      <td>37.000000</td>\n",
       "      <td>50.000000</td>\n",
       "      <td>50.000000</td>\n",
       "      <td>51.210000</td>\n",
       "      <td>200000.000000</td>\n",
       "    </tr>\n",
       "    <tr>\n",
       "      <th>25%</th>\n",
       "      <td>54.500000</td>\n",
       "      <td>60.600000</td>\n",
       "      <td>60.900000</td>\n",
       "      <td>61.000000</td>\n",
       "      <td>60.000000</td>\n",
       "      <td>57.945000</td>\n",
       "      <td>240000.000000</td>\n",
       "    </tr>\n",
       "    <tr>\n",
       "      <th>50%</th>\n",
       "      <td>108.000000</td>\n",
       "      <td>67.000000</td>\n",
       "      <td>65.000000</td>\n",
       "      <td>66.000000</td>\n",
       "      <td>71.000000</td>\n",
       "      <td>62.000000</td>\n",
       "      <td>265000.000000</td>\n",
       "    </tr>\n",
       "    <tr>\n",
       "      <th>75%</th>\n",
       "      <td>161.500000</td>\n",
       "      <td>75.700000</td>\n",
       "      <td>73.000000</td>\n",
       "      <td>72.000000</td>\n",
       "      <td>83.500000</td>\n",
       "      <td>66.255000</td>\n",
       "      <td>300000.000000</td>\n",
       "    </tr>\n",
       "    <tr>\n",
       "      <th>max</th>\n",
       "      <td>215.000000</td>\n",
       "      <td>89.400000</td>\n",
       "      <td>97.700000</td>\n",
       "      <td>91.000000</td>\n",
       "      <td>98.000000</td>\n",
       "      <td>77.890000</td>\n",
       "      <td>940000.000000</td>\n",
       "    </tr>\n",
       "  </tbody>\n",
       "</table>\n",
       "</div>"
      ],
      "text/plain": [
       "            sl_no       ssc_p       hsc_p    degree_p     etest_p       mba_p  \\\n",
       "count  215.000000  215.000000  215.000000  215.000000  215.000000  215.000000   \n",
       "mean   108.000000   67.303395   66.333163   66.370186   72.100558   62.278186   \n",
       "std     62.209324   10.827205   10.897509    7.358743   13.275956    5.833385   \n",
       "min      1.000000   40.890000   37.000000   50.000000   50.000000   51.210000   \n",
       "25%     54.500000   60.600000   60.900000   61.000000   60.000000   57.945000   \n",
       "50%    108.000000   67.000000   65.000000   66.000000   71.000000   62.000000   \n",
       "75%    161.500000   75.700000   73.000000   72.000000   83.500000   66.255000   \n",
       "max    215.000000   89.400000   97.700000   91.000000   98.000000   77.890000   \n",
       "\n",
       "              salary  \n",
       "count     148.000000  \n",
       "mean   288655.405405  \n",
       "std     93457.452420  \n",
       "min    200000.000000  \n",
       "25%    240000.000000  \n",
       "50%    265000.000000  \n",
       "75%    300000.000000  \n",
       "max    940000.000000  "
      ]
     },
     "execution_count": 5,
     "metadata": {},
     "output_type": "execute_result"
    }
   ],
   "source": [
    "from azureml.data.dataset_factory import TabularDatasetFactory\n",
    "# Try to load the dataset from the Workspace. Otherwise, create it from the file\n",
    "# NOTE: update the key to match the dataset name\n",
    "found = False\n",
    "key = \"Placement Dataset\"\n",
    "description_text = \"MBA placement dataset for Capstone Project\"\n",
    "\n",
    "if key in ws.datasets.keys(): \n",
    "        found = True\n",
    "        dataset = ws.datasets[key] \n",
    "\n",
    "if not found:\n",
    "        # Create AML Dataset and register it into Workspace\n",
    "        example_data = 'https://raw.githubusercontent.com/webpagearshi/capstone-project/master/starter_file/placement_data_mba.csv'\n",
    "        ds = TabularDatasetFactory.from_delimited_files(path = example_data)        \n",
    "        #Register Dataset in Workspace\n",
    "        ds = ds.register(workspace=ws,\n",
    "                                   name=key,\n",
    "                                   description=description_text)\n",
    "\n",
    "\n",
    "df = ds.to_pandas_dataframe()\n",
    "df.describe()"
   ]
  },
  {
   "cell_type": "code",
   "execution_count": 6,
   "metadata": {
    "gather": {
     "logged": 1610628005395
    }
   },
   "outputs": [],
   "source": [
    "from train import clean_data\n",
    "import pandas as pd\n",
    "# Use the clean_data function to clean your data.\n",
    "x, y = clean_data(ds)"
   ]
  },
  {
   "cell_type": "code",
   "execution_count": 7,
   "metadata": {
    "gather": {
     "logged": 1610628010232
    }
   },
   "outputs": [],
   "source": [
    "from sklearn.model_selection import train_test_split\n",
    "#create train test split\n",
    "train_x, test_x, train_y, test_y = train_test_split(x,y, test_size=0.2, random_state=223)\n",
    "#join the train_x and train_y to create train dataset\n",
    "train_df=pd.concat([train_x,train_y], axis=1)"
   ]
  },
  {
   "cell_type": "code",
   "execution_count": 8,
   "metadata": {
    "gather": {
     "logged": 1610628017332
    }
   },
   "outputs": [
    {
     "name": "stdout",
     "output_type": "stream",
     "text": [
      "Uploading an estimated of 1 files\n",
      "Uploading ./data/train_data.csv\n",
      "Uploaded ./data/train_data.csv, 1 files out of an estimated total of 1\n",
      "Uploaded 1 files\n"
     ]
    }
   ],
   "source": [
    "if not os.path.isdir('data'):\n",
    "    os.mkdir('data')\n",
    "    \n",
    "# Save the train data to a csv to be uploaded to the datastore\n",
    "pd.DataFrame(train_df).to_csv(\"data/train_data.csv\", index=False)\n",
    "\n",
    "ds = ws.get_default_datastore()\n",
    "ds.upload(src_dir='./data', target_path='mba_placement', overwrite=True, show_progress=True)\n",
    "\n",
    " \n",
    "\n",
    "# Upload the training data as a tabular dataset for access during training on remote compute\n",
    "train_data = TabularDatasetFactory.from_delimited_files(path=ds.path('mba_placement/train_data.csv'))\n",
    "label = \"status\""
   ]
  },
  {
   "cell_type": "markdown",
   "metadata": {},
   "source": [
    "## AutoML Configuration\n",
    "\n",
    "TODO: Explain why you chose the automl settings and cofiguration you used below."
   ]
  },
  {
   "cell_type": "code",
   "execution_count": 9,
   "metadata": {
    "gather": {
     "logged": 1610628809482
    },
    "jupyter": {
     "outputs_hidden": false,
     "source_hidden": false
    },
    "nteract": {
     "transient": {
      "deleting": false
     }
    }
   },
   "outputs": [],
   "source": [
    "# TODO: Put your automl settings here\n",
    "automl_settings = {\n",
    "    \"experiment_timeout_hours\" : 0.3,\n",
    "    \"enable_early_stopping\" : True,\n",
    "    \"iteration_timeout_minutes\": 5,\n",
    "    \"max_concurrent_iterations\": 4,\n",
    "    \"primary_metric\": 'accuracy',\n",
    "    \"featurization\": 'auto',\n",
    "    \"verbosity\": logging.INFO,\n",
    "}\n",
    "\n",
    "# TODO: Put your automl config here\n",
    "automl_config = AutoMLConfig(compute_target=compute_target,\n",
    "                             task = \"classification\",\n",
    "                             training_data=train_data,\n",
    "                             label_column_name=label,   \n",
    "                             path = project_folder,\n",
    "                             debug_log = \"automl_errors.log\",\n",
    "                             **automl_settings\n",
    ")"
   ]
  },
  {
   "cell_type": "code",
   "execution_count": 10,
   "metadata": {
    "gather": {
     "logged": 1610628816515
    },
    "jupyter": {
     "outputs_hidden": false,
     "source_hidden": false
    },
    "nteract": {
     "transient": {
      "deleting": false
     }
    }
   },
   "outputs": [
    {
     "name": "stdout",
     "output_type": "stream",
     "text": [
      "Running on remote.\n"
     ]
    }
   ],
   "source": [
    "# TODO: Submit your experiment\n",
    "remote_run = experiment.submit(automl_config)"
   ]
  },
  {
   "cell_type": "markdown",
   "metadata": {},
   "source": [
    "## Run Details\n",
    "\n",
    "OPTIONAL: Write about the different models trained and their performance. Why do you think some models did better than others?\n",
    "\n",
    "TODO: In the cell below, use the `RunDetails` widget to show the different experiments."
   ]
  },
  {
   "cell_type": "code",
   "execution_count": 11,
   "metadata": {
    "gather": {
     "logged": 1610628821260
    },
    "jupyter": {
     "outputs_hidden": false,
     "source_hidden": false
    },
    "nteract": {
     "transient": {
      "deleting": false
     }
    }
   },
   "outputs": [
    {
     "data": {
      "application/vnd.jupyter.widget-view+json": {
       "model_id": "9688f0966ac74e59839abcb931281cd1",
       "version_major": 2,
       "version_minor": 0
      },
      "text/plain": [
       "_AutoMLWidget(widget_settings={'childWidgetDisplay': 'popup', 'send_telemetry': False, 'log_level': 'INFO', 's…"
      ]
     },
     "metadata": {},
     "output_type": "display_data"
    },
    {
     "data": {
      "application/aml.mini.widget.v1": "{\"status\": \"Completed\", \"workbench_run_details_uri\": \"https://ml.azure.com/experiments/capstone-automl/runs/AutoML_89b76151-e951-4e1a-8b3e-9276d9a6e6cf?wsid=/subscriptions/cdbe0b43-92a0-4715-838a-f2648cc7ad21/resourcegroups/aml-quickstarts-134658/workspaces/quick-starts-ws-134658\", \"run_id\": \"AutoML_89b76151-e951-4e1a-8b3e-9276d9a6e6cf\", \"run_properties\": {\"run_id\": \"AutoML_89b76151-e951-4e1a-8b3e-9276d9a6e6cf\", \"created_utc\": \"2021-01-14T12:53:35.469679Z\", \"properties\": {\"num_iterations\": \"1000\", \"training_type\": \"TrainFull\", \"acquisition_function\": \"EI\", \"primary_metric\": \"accuracy\", \"train_split\": \"0\", \"acquisition_parameter\": \"0\", \"num_cross_validation\": null, \"target\": \"aml-compute\", \"AMLSettingsJsonString\": \"{\\\"path\\\":null,\\\"name\\\":\\\"capstone-automl\\\",\\\"subscription_id\\\":\\\"cdbe0b43-92a0-4715-838a-f2648cc7ad21\\\",\\\"resource_group\\\":\\\"aml-quickstarts-134658\\\",\\\"workspace_name\\\":\\\"quick-starts-ws-134658\\\",\\\"region\\\":\\\"southcentralus\\\",\\\"compute_target\\\":\\\"aml-compute\\\",\\\"spark_service\\\":null,\\\"azure_service\\\":\\\"remote\\\",\\\"many_models\\\":false,\\\"pipeline_fetch_max_batch_size\\\":1,\\\"iterations\\\":1000,\\\"primary_metric\\\":\\\"accuracy\\\",\\\"task_type\\\":\\\"classification\\\",\\\"data_script\\\":null,\\\"validation_size\\\":0.0,\\\"n_cross_validations\\\":null,\\\"y_min\\\":null,\\\"y_max\\\":null,\\\"num_classes\\\":null,\\\"featurization\\\":\\\"auto\\\",\\\"_ignore_package_version_incompatibilities\\\":false,\\\"is_timeseries\\\":false,\\\"max_cores_per_iteration\\\":1,\\\"max_concurrent_iterations\\\":4,\\\"iteration_timeout_minutes\\\":5,\\\"mem_in_mb\\\":null,\\\"enforce_time_on_windows\\\":false,\\\"experiment_timeout_minutes\\\":18,\\\"experiment_exit_score\\\":null,\\\"whitelist_models\\\":null,\\\"blacklist_algos\\\":[\\\"TensorFlowLinearClassifier\\\",\\\"TensorFlowDNN\\\"],\\\"supported_models\\\":[\\\"XGBoostClassifier\\\",\\\"SVM\\\",\\\"LinearSVM\\\",\\\"ExtremeRandomTrees\\\",\\\"BernoulliNaiveBayes\\\",\\\"TensorFlowLinearClassifier\\\",\\\"LogisticRegression\\\",\\\"DecisionTree\\\",\\\"LightGBM\\\",\\\"KNN\\\",\\\"RandomForest\\\",\\\"TensorFlowDNN\\\",\\\"AveragedPerceptronClassifier\\\",\\\"GradientBoosting\\\",\\\"SGD\\\",\\\"MultinomialNaiveBayes\\\"],\\\"auto_blacklist\\\":true,\\\"blacklist_samples_reached\\\":false,\\\"exclude_nan_labels\\\":true,\\\"verbosity\\\":20,\\\"_debug_log\\\":\\\"azureml_automl.log\\\",\\\"show_warnings\\\":false,\\\"model_explainability\\\":true,\\\"service_url\\\":null,\\\"sdk_url\\\":null,\\\"sdk_packages\\\":null,\\\"enable_onnx_compatible_models\\\":false,\\\"enable_split_onnx_featurizer_estimator_models\\\":false,\\\"vm_type\\\":\\\"STANDARD_DS3_V2\\\",\\\"telemetry_verbosity\\\":20,\\\"send_telemetry\\\":true,\\\"enable_dnn\\\":false,\\\"scenario\\\":\\\"SDK-1.13.0\\\",\\\"environment_label\\\":null,\\\"force_text_dnn\\\":false,\\\"enable_feature_sweeping\\\":true,\\\"enable_early_stopping\\\":true,\\\"early_stopping_n_iters\\\":10,\\\"metrics\\\":null,\\\"enable_ensembling\\\":true,\\\"enable_stack_ensembling\\\":true,\\\"ensemble_iterations\\\":15,\\\"enable_tf\\\":false,\\\"enable_subsampling\\\":null,\\\"subsample_seed\\\":null,\\\"enable_nimbusml\\\":false,\\\"enable_streaming\\\":false,\\\"force_streaming\\\":false,\\\"track_child_runs\\\":true,\\\"allowed_private_models\\\":[],\\\"label_column_name\\\":\\\"status\\\",\\\"weight_column_name\\\":null,\\\"cv_split_column_names\\\":null,\\\"enable_local_managed\\\":false,\\\"_local_managed_run_id\\\":null,\\\"cost_mode\\\":1,\\\"lag_length\\\":0,\\\"metric_operation\\\":\\\"maximize\\\",\\\"preprocess\\\":true}\", \"DataPrepJsonString\": \"{\\\\\\\"training_data\\\\\\\": \\\\\\\"{\\\\\\\\\\\\\\\"blocks\\\\\\\\\\\\\\\": [{\\\\\\\\\\\\\\\"id\\\\\\\\\\\\\\\": \\\\\\\\\\\\\\\"7ad7cdc0-3b38-47a7-82f4-2300b8b3e1c3\\\\\\\\\\\\\\\", \\\\\\\\\\\\\\\"type\\\\\\\\\\\\\\\": \\\\\\\\\\\\\\\"Microsoft.DPrep.GetDatastoreFilesBlock\\\\\\\\\\\\\\\", \\\\\\\\\\\\\\\"arguments\\\\\\\\\\\\\\\": {\\\\\\\\\\\\\\\"datastores\\\\\\\\\\\\\\\": [{\\\\\\\\\\\\\\\"datastoreName\\\\\\\\\\\\\\\": \\\\\\\\\\\\\\\"workspaceblobstore\\\\\\\\\\\\\\\", \\\\\\\\\\\\\\\"path\\\\\\\\\\\\\\\": \\\\\\\\\\\\\\\"mba_placement/train_data.csv\\\\\\\\\\\\\\\", \\\\\\\\\\\\\\\"resourceGroup\\\\\\\\\\\\\\\": \\\\\\\\\\\\\\\"aml-quickstarts-134658\\\\\\\\\\\\\\\", \\\\\\\\\\\\\\\"subscription\\\\\\\\\\\\\\\": \\\\\\\\\\\\\\\"cdbe0b43-92a0-4715-838a-f2648cc7ad21\\\\\\\\\\\\\\\", \\\\\\\\\\\\\\\"workspaceName\\\\\\\\\\\\\\\": \\\\\\\\\\\\\\\"quick-starts-ws-134658\\\\\\\\\\\\\\\"}]}, \\\\\\\\\\\\\\\"localData\\\\\\\\\\\\\\\": {}, \\\\\\\\\\\\\\\"isEnabled\\\\\\\\\\\\\\\": true, \\\\\\\\\\\\\\\"name\\\\\\\\\\\\\\\": null, \\\\\\\\\\\\\\\"annotation\\\\\\\\\\\\\\\": null}, {\\\\\\\\\\\\\\\"id\\\\\\\\\\\\\\\": \\\\\\\\\\\\\\\"f8384cf4-0add-4fba-90a1-92cae9c2f7e6\\\\\\\\\\\\\\\", \\\\\\\\\\\\\\\"type\\\\\\\\\\\\\\\": \\\\\\\\\\\\\\\"Microsoft.DPrep.ParseDelimitedBlock\\\\\\\\\\\\\\\", \\\\\\\\\\\\\\\"arguments\\\\\\\\\\\\\\\": {\\\\\\\\\\\\\\\"columnHeadersMode\\\\\\\\\\\\\\\": 3, \\\\\\\\\\\\\\\"fileEncoding\\\\\\\\\\\\\\\": 0, \\\\\\\\\\\\\\\"handleQuotedLineBreaks\\\\\\\\\\\\\\\": false, \\\\\\\\\\\\\\\"preview\\\\\\\\\\\\\\\": false, \\\\\\\\\\\\\\\"separator\\\\\\\\\\\\\\\": \\\\\\\\\\\\\\\",\\\\\\\\\\\\\\\", \\\\\\\\\\\\\\\"skipRows\\\\\\\\\\\\\\\": 0, \\\\\\\\\\\\\\\"skipRowsMode\\\\\\\\\\\\\\\": 0}, \\\\\\\\\\\\\\\"localData\\\\\\\\\\\\\\\": {}, \\\\\\\\\\\\\\\"isEnabled\\\\\\\\\\\\\\\": true, \\\\\\\\\\\\\\\"name\\\\\\\\\\\\\\\": null, \\\\\\\\\\\\\\\"annotation\\\\\\\\\\\\\\\": null}, {\\\\\\\\\\\\\\\"id\\\\\\\\\\\\\\\": \\\\\\\\\\\\\\\"cb544ec6-f3a0-47c3-a4d5-fbd9e9588db3\\\\\\\\\\\\\\\", \\\\\\\\\\\\\\\"type\\\\\\\\\\\\\\\": \\\\\\\\\\\\\\\"Microsoft.DPrep.DropColumnsBlock\\\\\\\\\\\\\\\", \\\\\\\\\\\\\\\"arguments\\\\\\\\\\\\\\\": {\\\\\\\\\\\\\\\"columns\\\\\\\\\\\\\\\": {\\\\\\\\\\\\\\\"type\\\\\\\\\\\\\\\": 0, \\\\\\\\\\\\\\\"details\\\\\\\\\\\\\\\": {\\\\\\\\\\\\\\\"selectedColumns\\\\\\\\\\\\\\\": [\\\\\\\\\\\\\\\"Path\\\\\\\\\\\\\\\"]}}}, \\\\\\\\\\\\\\\"localData\\\\\\\\\\\\\\\": {}, \\\\\\\\\\\\\\\"isEnabled\\\\\\\\\\\\\\\": true, \\\\\\\\\\\\\\\"name\\\\\\\\\\\\\\\": null, \\\\\\\\\\\\\\\"annotation\\\\\\\\\\\\\\\": null}, {\\\\\\\\\\\\\\\"id\\\\\\\\\\\\\\\": \\\\\\\\\\\\\\\"7df561d1-94a7-4860-b694-a17af27cad2d\\\\\\\\\\\\\\\", \\\\\\\\\\\\\\\"type\\\\\\\\\\\\\\\": \\\\\\\\\\\\\\\"Microsoft.DPrep.SetColumnTypesBlock\\\\\\\\\\\\\\\", \\\\\\\\\\\\\\\"arguments\\\\\\\\\\\\\\\": {\\\\\\\\\\\\\\\"columnConversion\\\\\\\\\\\\\\\": [{\\\\\\\\\\\\\\\"column\\\\\\\\\\\\\\\": {\\\\\\\\\\\\\\\"type\\\\\\\\\\\\\\\": 2, \\\\\\\\\\\\\\\"details\\\\\\\\\\\\\\\": {\\\\\\\\\\\\\\\"selectedColumn\\\\\\\\\\\\\\\": \\\\\\\\\\\\\\\"gender\\\\\\\\\\\\\\\"}}, \\\\\\\\\\\\\\\"typeProperty\\\\\\\\\\\\\\\": 2}, {\\\\\\\\\\\\\\\"column\\\\\\\\\\\\\\\": {\\\\\\\\\\\\\\\"type\\\\\\\\\\\\\\\": 2, \\\\\\\\\\\\\\\"details\\\\\\\\\\\\\\\": {\\\\\\\\\\\\\\\"selectedColumn\\\\\\\\\\\\\\\": \\\\\\\\\\\\\\\"ssc_p\\\\\\\\\\\\\\\"}}, \\\\\\\\\\\\\\\"typeProperty\\\\\\\\\\\\\\\": 3}, {\\\\\\\\\\\\\\\"column\\\\\\\\\\\\\\\": {\\\\\\\\\\\\\\\"type\\\\\\\\\\\\\\\": 2, \\\\\\\\\\\\\\\"details\\\\\\\\\\\\\\\": {\\\\\\\\\\\\\\\"selectedColumn\\\\\\\\\\\\\\\": \\\\\\\\\\\\\\\"hsc_p\\\\\\\\\\\\\\\"}}, \\\\\\\\\\\\\\\"typeProperty\\\\\\\\\\\\\\\": 3}, {\\\\\\\\\\\\\\\"column\\\\\\\\\\\\\\\": {\\\\\\\\\\\\\\\"type\\\\\\\\\\\\\\\": 2, \\\\\\\\\\\\\\\"details\\\\\\\\\\\\\\\": {\\\\\\\\\\\\\\\"selectedColumn\\\\\\\\\\\\\\\": \\\\\\\\\\\\\\\"degree_p\\\\\\\\\\\\\\\"}}, \\\\\\\\\\\\\\\"typeProperty\\\\\\\\\\\\\\\": 3}, {\\\\\\\\\\\\\\\"column\\\\\\\\\\\\\\\": {\\\\\\\\\\\\\\\"type\\\\\\\\\\\\\\\": 2, \\\\\\\\\\\\\\\"details\\\\\\\\\\\\\\\": {\\\\\\\\\\\\\\\"selectedColumn\\\\\\\\\\\\\\\": \\\\\\\\\\\\\\\"workex\\\\\\\\\\\\\\\"}}, \\\\\\\\\\\\\\\"typeProperty\\\\\\\\\\\\\\\": 2}, {\\\\\\\\\\\\\\\"column\\\\\\\\\\\\\\\": {\\\\\\\\\\\\\\\"type\\\\\\\\\\\\\\\": 2, \\\\\\\\\\\\\\\"details\\\\\\\\\\\\\\\": {\\\\\\\\\\\\\\\"selectedColumn\\\\\\\\\\\\\\\": \\\\\\\\\\\\\\\"etest_p\\\\\\\\\\\\\\\"}}, \\\\\\\\\\\\\\\"typeProperty\\\\\\\\\\\\\\\": 3}, {\\\\\\\\\\\\\\\"column\\\\\\\\\\\\\\\": {\\\\\\\\\\\\\\\"type\\\\\\\\\\\\\\\": 2, \\\\\\\\\\\\\\\"details\\\\\\\\\\\\\\\": {\\\\\\\\\\\\\\\"selectedColumn\\\\\\\\\\\\\\\": \\\\\\\\\\\\\\\"specialisation\\\\\\\\\\\\\\\"}}, \\\\\\\\\\\\\\\"typeProperty\\\\\\\\\\\\\\\": 2}, {\\\\\\\\\\\\\\\"column\\\\\\\\\\\\\\\": {\\\\\\\\\\\\\\\"type\\\\\\\\\\\\\\\": 2, \\\\\\\\\\\\\\\"details\\\\\\\\\\\\\\\": {\\\\\\\\\\\\\\\"selectedColumn\\\\\\\\\\\\\\\": \\\\\\\\\\\\\\\"mba_p\\\\\\\\\\\\\\\"}}, \\\\\\\\\\\\\\\"typeProperty\\\\\\\\\\\\\\\": 3}, {\\\\\\\\\\\\\\\"column\\\\\\\\\\\\\\\": {\\\\\\\\\\\\\\\"type\\\\\\\\\\\\\\\": 2, \\\\\\\\\\\\\\\"details\\\\\\\\\\\\\\\": {\\\\\\\\\\\\\\\"selectedColumn\\\\\\\\\\\\\\\": \\\\\\\\\\\\\\\"hsc_stream_Arts\\\\\\\\\\\\\\\"}}, \\\\\\\\\\\\\\\"typeProperty\\\\\\\\\\\\\\\": 2}, {\\\\\\\\\\\\\\\"column\\\\\\\\\\\\\\\": {\\\\\\\\\\\\\\\"type\\\\\\\\\\\\\\\": 2, \\\\\\\\\\\\\\\"details\\\\\\\\\\\\\\\": {\\\\\\\\\\\\\\\"selectedColumn\\\\\\\\\\\\\\\": \\\\\\\\\\\\\\\"hsc_stream_Commerce\\\\\\\\\\\\\\\"}}, \\\\\\\\\\\\\\\"typeProperty\\\\\\\\\\\\\\\": 2}, {\\\\\\\\\\\\\\\"column\\\\\\\\\\\\\\\": {\\\\\\\\\\\\\\\"type\\\\\\\\\\\\\\\": 2, \\\\\\\\\\\\\\\"details\\\\\\\\\\\\\\\": {\\\\\\\\\\\\\\\"selectedColumn\\\\\\\\\\\\\\\": \\\\\\\\\\\\\\\"hsc_stream_Science\\\\\\\\\\\\\\\"}}, \\\\\\\\\\\\\\\"typeProperty\\\\\\\\\\\\\\\": 2}, {\\\\\\\\\\\\\\\"column\\\\\\\\\\\\\\\": {\\\\\\\\\\\\\\\"type\\\\\\\\\\\\\\\": 2, \\\\\\\\\\\\\\\"details\\\\\\\\\\\\\\\": {\\\\\\\\\\\\\\\"selectedColumn\\\\\\\\\\\\\\\": \\\\\\\\\\\\\\\"degree_Comm&Mgmt\\\\\\\\\\\\\\\"}}, \\\\\\\\\\\\\\\"typeProperty\\\\\\\\\\\\\\\": 2}, {\\\\\\\\\\\\\\\"column\\\\\\\\\\\\\\\": {\\\\\\\\\\\\\\\"type\\\\\\\\\\\\\\\": 2, \\\\\\\\\\\\\\\"details\\\\\\\\\\\\\\\": {\\\\\\\\\\\\\\\"selectedColumn\\\\\\\\\\\\\\\": \\\\\\\\\\\\\\\"degree_Others\\\\\\\\\\\\\\\"}}, \\\\\\\\\\\\\\\"typeProperty\\\\\\\\\\\\\\\": 2}, {\\\\\\\\\\\\\\\"column\\\\\\\\\\\\\\\": {\\\\\\\\\\\\\\\"type\\\\\\\\\\\\\\\": 2, \\\\\\\\\\\\\\\"details\\\\\\\\\\\\\\\": {\\\\\\\\\\\\\\\"selectedColumn\\\\\\\\\\\\\\\": \\\\\\\\\\\\\\\"degree_Sci&Tech\\\\\\\\\\\\\\\"}}, \\\\\\\\\\\\\\\"typeProperty\\\\\\\\\\\\\\\": 2}, {\\\\\\\\\\\\\\\"column\\\\\\\\\\\\\\\": {\\\\\\\\\\\\\\\"type\\\\\\\\\\\\\\\": 2, \\\\\\\\\\\\\\\"details\\\\\\\\\\\\\\\": {\\\\\\\\\\\\\\\"selectedColumn\\\\\\\\\\\\\\\": \\\\\\\\\\\\\\\"status\\\\\\\\\\\\\\\"}}, \\\\\\\\\\\\\\\"typeProperty\\\\\\\\\\\\\\\": 2}]}, \\\\\\\\\\\\\\\"localData\\\\\\\\\\\\\\\": {}, \\\\\\\\\\\\\\\"isEnabled\\\\\\\\\\\\\\\": true, \\\\\\\\\\\\\\\"name\\\\\\\\\\\\\\\": null, \\\\\\\\\\\\\\\"annotation\\\\\\\\\\\\\\\": null}], \\\\\\\\\\\\\\\"inspectors\\\\\\\\\\\\\\\": [], \\\\\\\\\\\\\\\"meta\\\\\\\\\\\\\\\": {\\\\\\\\\\\\\\\"savedDatasetId\\\\\\\\\\\\\\\": \\\\\\\\\\\\\\\"245f1c87-9acc-4100-ba06-dabb34882b95\\\\\\\\\\\\\\\", \\\\\\\\\\\\\\\"datasetType\\\\\\\\\\\\\\\": \\\\\\\\\\\\\\\"tabular\\\\\\\\\\\\\\\", \\\\\\\\\\\\\\\"subscriptionId\\\\\\\\\\\\\\\": \\\\\\\\\\\\\\\"cdbe0b43-92a0-4715-838a-f2648cc7ad21\\\\\\\\\\\\\\\", \\\\\\\\\\\\\\\"workspaceId\\\\\\\\\\\\\\\": \\\\\\\\\\\\\\\"83457037-1a26-4544-9bc0-db580c823aad\\\\\\\\\\\\\\\", \\\\\\\\\\\\\\\"workspaceLocation\\\\\\\\\\\\\\\": \\\\\\\\\\\\\\\"southcentralus\\\\\\\\\\\\\\\"}}\\\\\\\", \\\\\\\"activities\\\\\\\": 0}\", \"EnableSubsampling\": null, \"runTemplate\": \"AutoML\", \"azureml.runsource\": \"automl\", \"display_task_type\": \"classification\", \"dependencies_versions\": \"{\\\"azureml-widgets\\\": \\\"1.19.0\\\", \\\"azureml-train\\\": \\\"1.19.0\\\", \\\"azureml-train-restclients-hyperdrive\\\": \\\"1.19.0\\\", \\\"azureml-train-core\\\": \\\"1.19.0\\\", \\\"azureml-train-automl\\\": \\\"1.19.0\\\", \\\"azureml-train-automl-runtime\\\": \\\"1.19.0\\\", \\\"azureml-train-automl-client\\\": \\\"1.19.0\\\", \\\"azureml-tensorboard\\\": \\\"1.19.0\\\", \\\"azureml-telemetry\\\": \\\"1.19.0\\\", \\\"azureml-sdk\\\": \\\"1.19.0\\\", \\\"azureml-samples\\\": \\\"0+unknown\\\", \\\"azureml-pipeline\\\": \\\"1.19.0\\\", \\\"azureml-pipeline-steps\\\": \\\"1.19.0\\\", \\\"azureml-pipeline-core\\\": \\\"1.19.0\\\", \\\"azureml-opendatasets\\\": \\\"1.19.0\\\", \\\"azureml-model-management-sdk\\\": \\\"1.0.1b6.post1\\\", \\\"azureml-mlflow\\\": \\\"1.19.0\\\", \\\"azureml-interpret\\\": \\\"1.19.0\\\", \\\"azureml-explain-model\\\": \\\"1.19.0\\\", \\\"azureml-defaults\\\": \\\"1.19.0\\\", \\\"azureml-dataset-runtime\\\": \\\"1.19.0\\\", \\\"azureml-dataprep\\\": \\\"2.6.1\\\", \\\"azureml-dataprep-rslex\\\": \\\"1.4.0\\\", \\\"azureml-dataprep-native\\\": \\\"26.0.0\\\", \\\"azureml-datadrift\\\": \\\"1.19.0\\\", \\\"azureml-core\\\": \\\"1.19.0\\\", \\\"azureml-contrib-services\\\": \\\"1.19.0\\\", \\\"azureml-contrib-server\\\": \\\"1.19.0\\\", \\\"azureml-contrib-reinforcementlearning\\\": \\\"1.19.0\\\", \\\"azureml-contrib-pipeline-steps\\\": \\\"1.19.0\\\", \\\"azureml-contrib-notebook\\\": \\\"1.19.0\\\", \\\"azureml-contrib-interpret\\\": \\\"1.19.0\\\", \\\"azureml-contrib-gbdt\\\": \\\"1.19.0\\\", \\\"azureml-contrib-fairness\\\": \\\"1.19.0\\\", \\\"azureml-contrib-dataset\\\": \\\"1.19.0\\\", \\\"azureml-cli-common\\\": \\\"1.19.0\\\", \\\"azureml-automl-runtime\\\": \\\"1.19.0\\\", \\\"azureml-automl-core\\\": \\\"1.19.0\\\", \\\"azureml-accel-models\\\": \\\"1.19.0\\\"}\", \"_aml_system_scenario_identification\": \"Remote.Parent\", \"ClientType\": \"SDK\", \"environment_cpu_name\": \"AzureML-AutoML\", \"environment_cpu_label\": \"prod\", \"environment_gpu_name\": \"AzureML-AutoML-GPU\", \"environment_gpu_label\": \"prod\", \"root_attribution\": \"automl\", \"attribution\": \"AutoML\", \"Orchestrator\": \"AutoML\", \"CancelUri\": \"https://southcentralus.experiments.azureml.net/jasmine/v1.0/subscriptions/cdbe0b43-92a0-4715-838a-f2648cc7ad21/resourceGroups/aml-quickstarts-134658/providers/Microsoft.MachineLearningServices/workspaces/quick-starts-ws-134658/experimentids/e0d50145-5cff-4d20-922e-9729cf0cfbc6/cancel/AutoML_89b76151-e951-4e1a-8b3e-9276d9a6e6cf\", \"ClientSdkVersion\": \"1.19.0\", \"snapshotId\": \"00000000-0000-0000-0000-000000000000\", \"SetupRunId\": \"AutoML_89b76151-e951-4e1a-8b3e-9276d9a6e6cf_setup\", \"SetupRunContainerId\": \"dcid.AutoML_89b76151-e951-4e1a-8b3e-9276d9a6e6cf_setup\", \"FeaturizationRunJsonPath\": \"featurizer_container.json\", \"FeaturizationRunId\": \"AutoML_89b76151-e951-4e1a-8b3e-9276d9a6e6cf_featurize\", \"ProblemInfoJsonString\": \"{\\\"dataset_num_categorical\\\": 0, \\\"is_sparse\\\": false, \\\"subsampling\\\": false, \\\"dataset_classes\\\": 2, \\\"dataset_features\\\": 13, \\\"dataset_samples\\\": 172, \\\"single_frequency_class_detected\\\": false}\", \"ModelExplainRunId\": \"AutoML_89b76151-e951-4e1a-8b3e-9276d9a6e6cf_ModelExplain\"}, \"tags\": {\"model_explain_run\": \"best_run\", \"_aml_system_azureml.automlComponent\": \"AutoML\", \"pipeline_id\": \"\", \"score\": \"\", \"predicted_cost\": \"\", \"fit_time\": \"\", \"training_percent\": \"\", \"iteration\": \"\", \"run_preprocessor\": \"\", \"run_algorithm\": \"\", \"dynamic_whitelisting_iterations\": \"<25>;<30>;<35>;\", \"automl_best_child_run_id\": \"AutoML_89b76151-e951-4e1a-8b3e-9276d9a6e6cf_4\", \"model_explain_best_run_child_id\": \"AutoML_89b76151-e951-4e1a-8b3e-9276d9a6e6cf_4\"}, \"end_time_utc\": \"2021-01-14T13:19:05.875012Z\", \"status\": \"Completed\", \"log_files\": {}, \"log_groups\": [], \"run_duration\": \"0:25:30\"}, \"child_runs\": [{\"run_id\": \"AutoML_89b76151-e951-4e1a-8b3e-9276d9a6e6cf_1\", \"run_number\": 5, \"metric\": null, \"status\": \"Completed\", \"run_type\": \"azureml.scriptrun\", \"training_percent\": \"100\", \"start_time\": \"2021-01-14T13:01:44.476771Z\", \"end_time\": \"2021-01-14T13:03:13.075297Z\", \"created_time\": \"2021-01-14T13:00:23.331058Z\", \"created_time_dt\": \"2021-01-14T13:00:23.331058Z\", \"duration\": \"0:02:49\", \"iteration\": \"1\", \"goal\": \"accuracy_max\", \"run_name\": \"MaxAbsScaler, XGBoostClassifier\", \"run_properties\": \"copy=True\", \"primary_metric\": 0.82581699, \"best_metric\": 0.84901961}, {\"run_id\": \"AutoML_89b76151-e951-4e1a-8b3e-9276d9a6e6cf_0\", \"run_number\": 6, \"metric\": null, \"status\": \"Completed\", \"run_type\": \"azureml.scriptrun\", \"training_percent\": \"100\", \"start_time\": \"2021-01-14T13:03:46.187432Z\", \"end_time\": \"2021-01-14T13:06:15.41059Z\", \"created_time\": \"2021-01-14T13:00:23.339944Z\", \"created_time_dt\": \"2021-01-14T13:00:23.339944Z\", \"duration\": \"0:05:52\", \"iteration\": \"0\", \"goal\": \"accuracy_max\", \"run_name\": \"MaxAbsScaler, LightGBM\", \"run_properties\": \"copy=True\", \"primary_metric\": 0.84901961, \"best_metric\": 0.84901961}, {\"run_id\": \"AutoML_89b76151-e951-4e1a-8b3e-9276d9a6e6cf_2\", \"run_number\": 7, \"metric\": null, \"status\": \"Completed\", \"run_type\": \"azureml.scriptrun\", \"training_percent\": \"100\", \"start_time\": \"2021-01-14T13:03:17.94639Z\", \"end_time\": \"2021-01-14T13:04:25.95897Z\", \"created_time\": \"2021-01-14T13:00:23.443908Z\", \"created_time_dt\": \"2021-01-14T13:00:23.443908Z\", \"duration\": \"0:04:02\", \"iteration\": \"2\", \"goal\": \"accuracy_max\", \"run_name\": \"MinMaxScaler, RandomForest\", \"run_properties\": \"copy=True, feature_range=(0, 1\", \"primary_metric\": 0.8251634, \"best_metric\": 0.84901961}, {\"run_id\": \"AutoML_89b76151-e951-4e1a-8b3e-9276d9a6e6cf_3\", \"run_number\": 8, \"metric\": null, \"status\": \"Completed\", \"run_type\": \"azureml.scriptrun\", \"training_percent\": \"100\", \"start_time\": \"2021-01-14T13:00:35.495025Z\", \"end_time\": \"2021-01-14T13:01:41.117757Z\", \"created_time\": \"2021-01-14T13:00:23.518095Z\", \"created_time_dt\": \"2021-01-14T13:00:23.518095Z\", \"duration\": \"0:01:17\", \"iteration\": \"3\", \"goal\": \"accuracy_max\", \"run_name\": \"MinMaxScaler, RandomForest\", \"run_properties\": \"copy=True, feature_range=(0, 1\", \"primary_metric\": 0.84869281, \"best_metric\": 0.84901961}, {\"run_id\": \"AutoML_89b76151-e951-4e1a-8b3e-9276d9a6e6cf_4\", \"run_number\": 9, \"metric\": null, \"status\": \"Completed\", \"run_type\": \"azureml.scriptrun\", \"training_percent\": \"100\", \"start_time\": \"2021-01-14T13:03:52.110707Z\", \"end_time\": \"2021-01-14T13:06:13.741246Z\", \"created_time\": \"2021-01-14T13:01:49.729058Z\", \"created_time_dt\": \"2021-01-14T13:01:49.729058Z\", \"duration\": \"0:04:24\", \"iteration\": \"4\", \"goal\": \"accuracy_max\", \"run_name\": \"MinMaxScaler, RandomForest\", \"run_properties\": \"copy=True, feature_range=(0, 1\", \"primary_metric\": 0.87777778, \"best_metric\": 0.87777778}, {\"run_id\": \"AutoML_89b76151-e951-4e1a-8b3e-9276d9a6e6cf_5\", \"run_number\": 10, \"metric\": null, \"status\": \"Completed\", \"run_type\": \"azureml.scriptrun\", \"training_percent\": \"100\", \"start_time\": \"2021-01-14T13:03:48.628659Z\", \"end_time\": \"2021-01-14T13:06:11.749847Z\", \"created_time\": \"2021-01-14T13:03:16.62156Z\", \"created_time_dt\": \"2021-01-14T13:03:16.62156Z\", \"duration\": \"0:02:55\", \"iteration\": \"5\", \"goal\": \"accuracy_max\", \"run_name\": \"StandardScalerWrapper, XGBoostClassifier\", \"run_properties\": \"<azureml.automl.runtime.shared.model_wrappers.StandardScalerWrapper object at 0x7fc2bc0da208\", \"primary_metric\": 0.85424837, \"best_metric\": 0.87777778}, {\"run_id\": \"AutoML_89b76151-e951-4e1a-8b3e-9276d9a6e6cf_6\", \"run_number\": 11, \"metric\": null, \"status\": \"Completed\", \"run_type\": \"azureml.scriptrun\", \"training_percent\": \"100\", \"start_time\": \"2021-01-14T13:04:41.528555Z\", \"end_time\": \"2021-01-14T13:05:55.243991Z\", \"created_time\": \"2021-01-14T13:04:28.565267Z\", \"created_time_dt\": \"2021-01-14T13:04:28.565267Z\", \"duration\": \"0:01:26\", \"iteration\": \"6\", \"goal\": \"accuracy_max\", \"run_name\": \"MinMaxScaler, SVM\", \"run_properties\": \"copy=True, feature_range=(0, 1\", \"primary_metric\": 0.81960784, \"best_metric\": 0.87777778}, {\"run_id\": \"AutoML_89b76151-e951-4e1a-8b3e-9276d9a6e6cf_7\", \"run_number\": 12, \"metric\": null, \"status\": \"Completed\", \"run_type\": \"azureml.scriptrun\", \"training_percent\": \"100\", \"start_time\": \"2021-01-14T13:06:09.722113Z\", \"end_time\": \"2021-01-14T13:07:18.401887Z\", \"created_time\": \"2021-01-14T13:05:58.689796Z\", \"created_time_dt\": \"2021-01-14T13:05:58.689796Z\", \"duration\": \"0:01:19\", \"iteration\": \"7\", \"goal\": \"accuracy_max\", \"run_name\": \"MaxAbsScaler, GradientBoosting\", \"run_properties\": \"copy=True\", \"primary_metric\": 0.84869281, \"best_metric\": 0.87777778}, {\"run_id\": \"AutoML_89b76151-e951-4e1a-8b3e-9276d9a6e6cf_8\", \"run_number\": 13, \"metric\": null, \"status\": \"Completed\", \"run_type\": \"azureml.scriptrun\", \"training_percent\": \"100\", \"start_time\": \"2021-01-14T13:06:25.650085Z\", \"end_time\": \"2021-01-14T13:07:32.117818Z\", \"created_time\": \"2021-01-14T13:06:14.233525Z\", \"created_time_dt\": \"2021-01-14T13:06:14.233525Z\", \"duration\": \"0:01:17\", \"iteration\": \"8\", \"goal\": \"accuracy_max\", \"run_name\": \"SparseNormalizer, XGBoostClassifier\", \"run_properties\": \"<azureml.automl.runtime.shared.model_wrappers.SparseNormalizer object at 0x7f5dc3032e10\", \"primary_metric\": 0.80784314, \"best_metric\": 0.87777778}, {\"run_id\": \"AutoML_89b76151-e951-4e1a-8b3e-9276d9a6e6cf_9\", \"run_number\": 14, \"metric\": null, \"status\": \"Completed\", \"run_type\": \"azureml.scriptrun\", \"training_percent\": \"100\", \"start_time\": \"2021-01-14T13:06:29.67399Z\", \"end_time\": \"2021-01-14T13:07:38.674304Z\", \"created_time\": \"2021-01-14T13:06:18.541245Z\", \"created_time_dt\": \"2021-01-14T13:06:18.541245Z\", \"duration\": \"0:01:20\", \"iteration\": \"9\", \"goal\": \"accuracy_max\", \"run_name\": \"StandardScalerWrapper, RandomForest\", \"run_properties\": \"<azureml.automl.runtime.shared.model_wrappers.StandardScalerWrapper object at 0x7f1f31618710\", \"primary_metric\": 0.84869281, \"best_metric\": 0.87777778}, {\"run_id\": \"AutoML_89b76151-e951-4e1a-8b3e-9276d9a6e6cf_10\", \"run_number\": 15, \"metric\": null, \"status\": \"Completed\", \"run_type\": \"azureml.scriptrun\", \"training_percent\": \"100\", \"start_time\": \"2021-01-14T13:06:30.872007Z\", \"end_time\": \"2021-01-14T13:07:38.063457Z\", \"created_time\": \"2021-01-14T13:06:18.670497Z\", \"created_time_dt\": \"2021-01-14T13:06:18.670497Z\", \"duration\": \"0:01:19\", \"iteration\": \"10\", \"goal\": \"accuracy_max\", \"run_name\": \"RobustScaler, RandomForest\", \"run_properties\": \"copy=True, quantile_range=[25, 75], with_centering=False,\\n             with_scaling=True\", \"primary_metric\": 0.84901961, \"best_metric\": 0.87777778}, {\"run_id\": \"AutoML_89b76151-e951-4e1a-8b3e-9276d9a6e6cf_11\", \"run_number\": 16, \"metric\": null, \"status\": \"Completed\", \"run_type\": \"azureml.scriptrun\", \"training_percent\": \"100\", \"start_time\": \"2021-01-14T13:07:33.870861Z\", \"end_time\": \"2021-01-14T13:08:36.598018Z\", \"created_time\": \"2021-01-14T13:07:20.808977Z\", \"created_time_dt\": \"2021-01-14T13:07:20.808977Z\", \"duration\": \"0:01:15\", \"iteration\": \"11\", \"goal\": \"accuracy_max\", \"run_name\": \"SparseNormalizer, LightGBM\", \"run_properties\": \"<azureml.automl.runtime.shared.model_wrappers.SparseNormalizer object at 0x7f44ae302ba8\", \"primary_metric\": 0.81960784, \"best_metric\": 0.87777778}, {\"run_id\": \"AutoML_89b76151-e951-4e1a-8b3e-9276d9a6e6cf_12\", \"run_number\": 17, \"metric\": null, \"status\": \"Completed\", \"run_type\": \"azureml.scriptrun\", \"training_percent\": \"100\", \"start_time\": \"2021-01-14T13:07:48.762348Z\", \"end_time\": \"2021-01-14T13:09:03.182532Z\", \"created_time\": \"2021-01-14T13:07:34.337559Z\", \"created_time_dt\": \"2021-01-14T13:07:34.337559Z\", \"duration\": \"0:01:28\", \"iteration\": \"12\", \"goal\": \"accuracy_max\", \"run_name\": \"MaxAbsScaler, LightGBM\", \"run_properties\": \"copy=True\", \"primary_metric\": 0.83071895, \"best_metric\": 0.87777778}, {\"run_id\": \"AutoML_89b76151-e951-4e1a-8b3e-9276d9a6e6cf_13\", \"run_number\": 18, \"metric\": null, \"status\": \"Completed\", \"run_type\": \"azureml.scriptrun\", \"training_percent\": \"100\", \"start_time\": \"2021-01-14T13:07:54.655578Z\", \"end_time\": \"2021-01-14T13:09:11.74172Z\", \"created_time\": \"2021-01-14T13:07:40.471127Z\", \"created_time_dt\": \"2021-01-14T13:07:40.471127Z\", \"duration\": \"0:01:31\", \"iteration\": \"13\", \"goal\": \"accuracy_max\", \"run_name\": \"RobustScaler, ExtremeRandomTrees\", \"run_properties\": \"copy=True, quantile_range=[25, 75], with_centering=True,\\n             with_scaling=False\", \"primary_metric\": 0.86045752, \"best_metric\": 0.87777778}, {\"run_id\": \"AutoML_89b76151-e951-4e1a-8b3e-9276d9a6e6cf_14\", \"run_number\": 19, \"metric\": null, \"status\": \"Completed\", \"run_type\": \"azureml.scriptrun\", \"training_percent\": \"100\", \"start_time\": \"2021-01-14T13:07:53.031432Z\", \"end_time\": \"2021-01-14T13:09:06.770938Z\", \"created_time\": \"2021-01-14T13:07:40.482909Z\", \"created_time_dt\": \"2021-01-14T13:07:40.482909Z\", \"duration\": \"0:01:26\", \"iteration\": \"14\", \"goal\": \"accuracy_max\", \"run_name\": \"StandardScalerWrapper, XGBoostClassifier\", \"run_properties\": \"<azureml.automl.runtime.shared.model_wrappers.StandardScalerWrapper object at 0x7f13a04215f8\", \"primary_metric\": 0.85424837, \"best_metric\": 0.87777778}, {\"run_id\": \"AutoML_89b76151-e951-4e1a-8b3e-9276d9a6e6cf_15\", \"run_number\": 20, \"metric\": null, \"status\": \"Completed\", \"run_type\": \"azureml.scriptrun\", \"training_percent\": \"100\", \"start_time\": \"2021-01-14T13:08:54.384907Z\", \"end_time\": \"2021-01-14T13:10:05.62366Z\", \"created_time\": \"2021-01-14T13:08:39.162408Z\", \"created_time_dt\": \"2021-01-14T13:08:39.162408Z\", \"duration\": \"0:01:26\", \"iteration\": \"15\", \"goal\": \"accuracy_max\", \"run_name\": \"StandardScalerWrapper, LightGBM\", \"run_properties\": \"<azureml.automl.runtime.shared.model_wrappers.StandardScalerWrapper object at 0x7f4fa92d8b38\", \"primary_metric\": 0.8248366, \"best_metric\": 0.87777778}, {\"run_id\": \"AutoML_89b76151-e951-4e1a-8b3e-9276d9a6e6cf_16\", \"run_number\": 21, \"metric\": null, \"status\": \"Completed\", \"run_type\": \"azureml.scriptrun\", \"training_percent\": \"100\", \"start_time\": \"2021-01-14T13:09:17.521038Z\", \"end_time\": \"2021-01-14T13:10:36.163152Z\", \"created_time\": \"2021-01-14T13:09:05.853842Z\", \"created_time_dt\": \"2021-01-14T13:09:05.853842Z\", \"duration\": \"0:01:30\", \"iteration\": \"16\", \"goal\": \"accuracy_max\", \"run_name\": \"SparseNormalizer, XGBoostClassifier\", \"run_properties\": \"<azureml.automl.runtime.shared.model_wrappers.SparseNormalizer object at 0x7f1db8860978\", \"primary_metric\": 0.84281046, \"best_metric\": 0.87777778}, {\"run_id\": \"AutoML_89b76151-e951-4e1a-8b3e-9276d9a6e6cf_17\", \"run_number\": 22, \"metric\": null, \"status\": \"Completed\", \"run_type\": \"azureml.scriptrun\", \"training_percent\": \"100\", \"start_time\": \"2021-01-14T13:09:23.499636Z\", \"end_time\": \"2021-01-14T13:10:32.0026Z\", \"created_time\": \"2021-01-14T13:09:10.932255Z\", \"created_time_dt\": \"2021-01-14T13:09:10.932255Z\", \"duration\": \"0:01:21\", \"iteration\": \"17\", \"goal\": \"accuracy_max\", \"run_name\": \"SparseNormalizer, GradientBoosting\", \"run_properties\": \"<azureml.automl.runtime.shared.model_wrappers.SparseNormalizer object at 0x7fc9b0110860\", \"primary_metric\": 0.83104575, \"best_metric\": 0.87777778}, {\"run_id\": \"AutoML_89b76151-e951-4e1a-8b3e-9276d9a6e6cf_18\", \"run_number\": 23, \"metric\": null, \"status\": \"Completed\", \"run_type\": \"azureml.scriptrun\", \"training_percent\": \"100\", \"start_time\": \"2021-01-14T13:09:43.297007Z\", \"end_time\": \"2021-01-14T13:10:52.079763Z\", \"created_time\": \"2021-01-14T13:09:15.779919Z\", \"created_time_dt\": \"2021-01-14T13:09:15.779919Z\", \"duration\": \"0:01:36\", \"iteration\": \"18\", \"goal\": \"accuracy_max\", \"run_name\": \"MinMaxScaler, LightGBM\", \"run_properties\": \"copy=True, feature_range=(0, 1\", \"primary_metric\": 0.81993464, \"best_metric\": 0.87777778}, {\"run_id\": \"AutoML_89b76151-e951-4e1a-8b3e-9276d9a6e6cf_19\", \"run_number\": 24, \"metric\": null, \"status\": \"Completed\", \"run_type\": \"azureml.scriptrun\", \"training_percent\": \"100\", \"start_time\": \"2021-01-14T13:10:20.071712Z\", \"end_time\": \"2021-01-14T13:11:25.688544Z\", \"created_time\": \"2021-01-14T13:10:08.272312Z\", \"created_time_dt\": \"2021-01-14T13:10:08.272312Z\", \"duration\": \"0:01:17\", \"iteration\": \"19\", \"goal\": \"accuracy_max\", \"run_name\": \"StandardScalerWrapper, LightGBM\", \"run_properties\": \"<azureml.automl.runtime.shared.model_wrappers.StandardScalerWrapper object at 0x7f142cc9d2e8\", \"primary_metric\": 0.81928105, \"best_metric\": 0.87777778}, {\"run_id\": \"AutoML_89b76151-e951-4e1a-8b3e-9276d9a6e6cf_20\", \"run_number\": 25, \"metric\": null, \"status\": \"Completed\", \"run_type\": \"azureml.scriptrun\", \"training_percent\": \"100\", \"start_time\": \"2021-01-14T13:10:47.370905Z\", \"end_time\": \"2021-01-14T13:12:04.42406Z\", \"created_time\": \"2021-01-14T13:10:34.523565Z\", \"created_time_dt\": \"2021-01-14T13:10:34.523565Z\", \"duration\": \"0:01:29\", \"iteration\": \"20\", \"goal\": \"accuracy_max\", \"run_name\": \"RobustScaler, LightGBM\", \"run_properties\": \"copy=True, quantile_range=[10, 90], with_centering=True,\\n             with_scaling=True\", \"primary_metric\": 0.83071895, \"best_metric\": 0.87777778}, {\"run_id\": \"AutoML_89b76151-e951-4e1a-8b3e-9276d9a6e6cf_21\", \"run_number\": 26, \"metric\": null, \"status\": \"Completed\", \"run_type\": \"azureml.scriptrun\", \"training_percent\": \"100\", \"start_time\": \"2021-01-14T13:10:51.662903Z\", \"end_time\": \"2021-01-14T13:11:55.721313Z\", \"created_time\": \"2021-01-14T13:10:39.661864Z\", \"created_time_dt\": \"2021-01-14T13:10:39.661864Z\", \"duration\": \"0:01:16\", \"iteration\": \"21\", \"goal\": \"accuracy_max\", \"run_name\": \"SparseNormalizer, XGBoostClassifier\", \"run_properties\": \"<azureml.automl.runtime.shared.model_wrappers.SparseNormalizer object at 0x7f3bcbc9a080\", \"primary_metric\": 0.81928105, \"best_metric\": 0.87777778}, {\"run_id\": \"AutoML_89b76151-e951-4e1a-8b3e-9276d9a6e6cf_22\", \"run_number\": 27, \"metric\": null, \"status\": \"Completed\", \"run_type\": \"azureml.scriptrun\", \"training_percent\": \"100\", \"start_time\": \"2021-01-14T13:11:07.317422Z\", \"end_time\": \"2021-01-14T13:12:14.656195Z\", \"created_time\": \"2021-01-14T13:10:54.212598Z\", \"created_time_dt\": \"2021-01-14T13:10:54.212598Z\", \"duration\": \"0:01:20\", \"iteration\": \"22\", \"goal\": \"accuracy_max\", \"run_name\": \"StandardScalerWrapper, XGBoostClassifier\", \"run_properties\": \"<azureml.automl.runtime.shared.model_wrappers.StandardScalerWrapper object at 0x7faf19975080\", \"primary_metric\": 0.83660131, \"best_metric\": 0.87777778}, {\"run_id\": \"AutoML_89b76151-e951-4e1a-8b3e-9276d9a6e6cf_23\", \"run_number\": 28, \"metric\": null, \"status\": \"Completed\", \"run_type\": \"azureml.scriptrun\", \"training_percent\": \"100\", \"start_time\": \"2021-01-14T13:11:40.902512Z\", \"end_time\": \"2021-01-14T13:12:49.77865Z\", \"created_time\": \"2021-01-14T13:11:28.01132Z\", \"created_time_dt\": \"2021-01-14T13:11:28.01132Z\", \"duration\": \"0:01:21\", \"iteration\": \"23\", \"goal\": \"accuracy_max\", \"run_name\": \"StandardScalerWrapper, RandomForest\", \"run_properties\": \"<azureml.automl.runtime.shared.model_wrappers.StandardScalerWrapper object at 0x7f466a30a048\", \"primary_metric\": 0.84313725, \"best_metric\": 0.87777778}, {\"run_id\": \"AutoML_89b76151-e951-4e1a-8b3e-9276d9a6e6cf_24\", \"run_number\": 29, \"metric\": null, \"status\": \"Completed\", \"run_type\": \"azureml.scriptrun\", \"training_percent\": \"100\", \"start_time\": \"2021-01-14T13:12:10.942792Z\", \"end_time\": \"2021-01-14T13:13:31.93695Z\", \"created_time\": \"2021-01-14T13:11:58.038504Z\", \"created_time_dt\": \"2021-01-14T13:11:58.038504Z\", \"duration\": \"0:01:33\", \"iteration\": \"24\", \"goal\": \"accuracy_max\", \"run_name\": \"MaxAbsScaler, LightGBM\", \"run_properties\": \"copy=True\", \"primary_metric\": 0.84248366, \"best_metric\": 0.87777778}, {\"run_id\": \"AutoML_89b76151-e951-4e1a-8b3e-9276d9a6e6cf_25\", \"run_number\": 30, \"metric\": null, \"status\": \"Completed\", \"run_type\": \"azureml.scriptrun\", \"training_percent\": \"100\", \"start_time\": \"2021-01-14T13:12:19.100058Z\", \"end_time\": \"2021-01-14T13:13:34.460281Z\", \"created_time\": \"2021-01-14T13:12:07.643086Z\", \"created_time_dt\": \"2021-01-14T13:12:07.643086Z\", \"duration\": \"0:01:26\", \"iteration\": \"25\", \"goal\": \"accuracy_max\", \"run_name\": \"PCA, RandomForest\", \"run_properties\": \"copy=True, iterated_power='auto', n_components=0.45526315789473687,\\n    random_state=None, svd_solver='auto', tol=0.0, whiten=False\", \"primary_metric\": 0.80163399, \"best_metric\": 0.87777778}, {\"run_id\": \"AutoML_89b76151-e951-4e1a-8b3e-9276d9a6e6cf_26\", \"run_number\": 31, \"metric\": null, \"status\": \"Completed\", \"run_type\": \"azureml.scriptrun\", \"training_percent\": \"100\", \"start_time\": \"2021-01-14T13:12:41.0867Z\", \"end_time\": \"2021-01-14T13:13:52.608865Z\", \"created_time\": \"2021-01-14T13:12:16.945847Z\", \"created_time_dt\": \"2021-01-14T13:12:16.945847Z\", \"duration\": \"0:01:35\", \"iteration\": \"26\", \"goal\": \"accuracy_max\", \"run_name\": \"StandardScalerWrapper, XGBoostClassifier\", \"run_properties\": \"<azureml.automl.runtime.shared.model_wrappers.StandardScalerWrapper object at 0x7f9420762e10\", \"primary_metric\": 0.85424837, \"best_metric\": 0.87777778}, {\"run_id\": \"AutoML_89b76151-e951-4e1a-8b3e-9276d9a6e6cf_27\", \"run_number\": 32, \"metric\": null, \"status\": \"Completed\", \"run_type\": \"azureml.scriptrun\", \"training_percent\": \"100\", \"start_time\": \"2021-01-14T13:13:06.0328Z\", \"end_time\": \"2021-01-14T13:14:20.227158Z\", \"created_time\": \"2021-01-14T13:12:52.022484Z\", \"created_time_dt\": \"2021-01-14T13:12:52.022484Z\", \"duration\": \"0:01:28\", \"iteration\": \"27\", \"goal\": \"accuracy_max\", \"run_name\": \"MaxAbsScaler, ExtremeRandomTrees\", \"run_properties\": \"copy=True\", \"primary_metric\": 0.85490196, \"best_metric\": 0.87777778}, {\"run_id\": \"AutoML_89b76151-e951-4e1a-8b3e-9276d9a6e6cf_28\", \"run_number\": 33, \"metric\": null, \"status\": \"Completed\", \"run_type\": \"azureml.scriptrun\", \"training_percent\": \"100\", \"start_time\": \"2021-01-14T13:13:46.231869Z\", \"end_time\": \"2021-01-14T13:14:57.001496Z\", \"created_time\": \"2021-01-14T13:13:34.210569Z\", \"created_time_dt\": \"2021-01-14T13:13:34.210569Z\", \"duration\": \"0:01:22\", \"iteration\": \"28\", \"goal\": \"accuracy_max\", \"run_name\": \"StandardScalerWrapper, XGBoostClassifier\", \"run_properties\": \"<azureml.automl.runtime.shared.model_wrappers.StandardScalerWrapper object at 0x7f22fa45ddd8\", \"primary_metric\": 0.84869281, \"best_metric\": 0.87777778}, {\"run_id\": \"AutoML_89b76151-e951-4e1a-8b3e-9276d9a6e6cf_29\", \"run_number\": 34, \"metric\": null, \"status\": \"Completed\", \"run_type\": \"azureml.scriptrun\", \"training_percent\": \"100\", \"start_time\": \"2021-01-14T13:13:50.438126Z\", \"end_time\": \"2021-01-14T13:14:56.082061Z\", \"created_time\": \"2021-01-14T13:13:38.868257Z\", \"created_time_dt\": \"2021-01-14T13:13:38.868257Z\", \"duration\": \"0:01:17\", \"iteration\": \"29\", \"goal\": \"accuracy_max\", \"run_name\": \"StandardScalerWrapper, XGBoostClassifier\", \"run_properties\": \"<azureml.automl.runtime.shared.model_wrappers.StandardScalerWrapper object at 0x7f4371024320\", \"primary_metric\": 0.84248366, \"best_metric\": 0.87777778}, {\"run_id\": \"AutoML_89b76151-e951-4e1a-8b3e-9276d9a6e6cf_30\", \"run_number\": 35, \"metric\": null, \"status\": \"Completed\", \"run_type\": \"azureml.scriptrun\", \"training_percent\": \"100\", \"start_time\": \"2021-01-14T13:14:11.679894Z\", \"end_time\": \"2021-01-14T13:15:14.354057Z\", \"created_time\": \"2021-01-14T13:13:56.274967Z\", \"created_time_dt\": \"2021-01-14T13:13:56.274967Z\", \"duration\": \"0:01:18\", \"iteration\": \"30\", \"goal\": \"accuracy_max\", \"run_name\": \"SparseNormalizer, RandomForest\", \"run_properties\": \"<azureml.automl.runtime.shared.model_wrappers.SparseNormalizer object at 0x7fbe3176fc18\", \"primary_metric\": 0.61078431, \"best_metric\": 0.87777778}, {\"run_id\": \"AutoML_89b76151-e951-4e1a-8b3e-9276d9a6e6cf_31\", \"run_number\": 36, \"metric\": null, \"status\": \"Completed\", \"run_type\": \"azureml.scriptrun\", \"training_percent\": \"100\", \"start_time\": \"2021-01-14T13:14:36.350429Z\", \"end_time\": \"2021-01-14T13:15:46.858032Z\", \"created_time\": \"2021-01-14T13:14:23.62587Z\", \"created_time_dt\": \"2021-01-14T13:14:23.62587Z\", \"duration\": \"0:01:23\", \"iteration\": \"31\", \"goal\": \"accuracy_max\", \"run_name\": \"StandardScalerWrapper, XGBoostClassifier\", \"run_properties\": \"<azureml.automl.runtime.shared.model_wrappers.StandardScalerWrapper object at 0x7fdb19023a90\", \"primary_metric\": 0.84281046, \"best_metric\": 0.87777778}, {\"run_id\": \"AutoML_89b76151-e951-4e1a-8b3e-9276d9a6e6cf_33\", \"run_number\": 37, \"metric\": null, \"status\": \"Completed\", \"run_type\": \"azureml.scriptrun\", \"training_percent\": \"100\", \"start_time\": \"2021-01-14T13:15:12.164112Z\", \"end_time\": \"2021-01-14T13:16:23.111516Z\", \"created_time\": \"2021-01-14T13:14:59.27514Z\", \"created_time_dt\": \"2021-01-14T13:14:59.27514Z\", \"duration\": \"0:01:23\", \"iteration\": \"33\", \"goal\": \"accuracy_max\", \"run_name\": \"StandardScalerWrapper, XGBoostClassifier\", \"run_properties\": \"<azureml.automl.runtime.shared.model_wrappers.StandardScalerWrapper object at 0x7f7858e12390\", \"primary_metric\": 0.84836601, \"best_metric\": 0.87777778}, {\"run_id\": \"AutoML_89b76151-e951-4e1a-8b3e-9276d9a6e6cf_32\", \"run_number\": 38, \"metric\": null, \"status\": \"Canceled\", \"run_type\": \"azureml.scriptrun\", \"training_percent\": \"100\", \"start_time\": \"2021-01-14T13:15:10.790499Z\", \"end_time\": \"2021-01-14T13:16:25.615946Z\", \"created_time\": \"2021-01-14T13:14:59.404395Z\", \"created_time_dt\": \"2021-01-14T13:14:59.404395Z\", \"duration\": \"0:01:26\", \"iteration\": \"32\", \"goal\": \"accuracy_max\", \"run_name\": \"SparseNormalizer, XGBoostClassifier\", \"run_properties\": \"<azureml.automl.runtime.shared.model_wrappers.SparseNormalizer object at 0x7f2e1f1a9518\", \"primary_metric\": 0.81405229, \"best_metric\": 0.87777778}, {\"run_id\": \"AutoML_89b76151-e951-4e1a-8b3e-9276d9a6e6cf_34\", \"run_number\": 39, \"metric\": null, \"status\": \"Canceled\", \"run_type\": \"azureml.scriptrun\", \"training_percent\": \"100\", \"start_time\": \"2021-01-14T13:15:40.967651Z\", \"end_time\": \"2021-01-14T13:16:32.524986Z\", \"created_time\": \"2021-01-14T13:15:27.540085Z\", \"created_time_dt\": \"2021-01-14T13:15:27.540085Z\", \"duration\": \"0:01:04\", \"iteration\": \"34\", \"goal\": null, \"run_name\": \"MaxAbsScaler, LightGBM\", \"run_properties\": null}, {\"run_id\": \"AutoML_89b76151-e951-4e1a-8b3e-9276d9a6e6cf_35\", \"run_number\": 40, \"metric\": null, \"status\": \"Canceled\", \"run_type\": \"azureml.scriptrun\", \"training_percent\": \"100\", \"start_time\": \"2021-01-14T13:16:05.367946Z\", \"end_time\": \"2021-01-14T13:16:32.398573Z\", \"created_time\": \"2021-01-14T13:15:51.162238Z\", \"created_time_dt\": \"2021-01-14T13:15:51.162238Z\", \"duration\": \"0:00:41\", \"iteration\": \"35\", \"goal\": null, \"run_name\": \"Canceled\", \"run_properties\": null}, {\"run_id\": \"AutoML_89b76151-e951-4e1a-8b3e-9276d9a6e6cf_37\", \"run_number\": 41, \"metric\": null, \"status\": \"Completed\", \"run_type\": \"azureml.scriptrun\", \"training_percent\": \"100\", \"start_time\": \"2021-01-14T13:16:47.764952Z\", \"end_time\": \"2021-01-14T13:18:46.067381Z\", \"created_time\": \"2021-01-14T13:16:34.740676Z\", \"created_time_dt\": \"2021-01-14T13:16:34.740676Z\", \"duration\": \"0:02:11\", \"iteration\": \"37\", \"goal\": \"accuracy_max\", \"run_name\": \"StackEnsemble\", \"run_properties\": \"base_learners=[('4',\\n                                        Pipeline(memory=None,\\n                                                 steps=[('minmaxscaler',\\n                                                         MinMaxScaler(copy=True,\\n                                                                      feature_range=(0,\\n                                                                                     1\", \"primary_metric\": 0.84869281, \"best_metric\": 0.87777778}, {\"run_id\": \"AutoML_89b76151-e951-4e1a-8b3e-9276d9a6e6cf_36\", \"run_number\": 42, \"metric\": null, \"status\": \"Completed\", \"run_type\": \"azureml.scriptrun\", \"training_percent\": \"100\", \"start_time\": \"2021-01-14T13:16:52.662294Z\", \"end_time\": \"2021-01-14T13:18:58.763799Z\", \"created_time\": \"2021-01-14T13:16:34.888446Z\", \"created_time_dt\": \"2021-01-14T13:16:34.888446Z\", \"duration\": \"0:02:23\", \"iteration\": \"36\", \"goal\": \"accuracy_max\", \"run_name\": \"VotingEnsemble\", \"run_properties\": \"classification_labels=None,\\n                              estimators=[('4',\\n                                           Pipeline(memory=None,\\n                                                    steps=[('minmaxscaler',\\n                                                            MinMaxScaler(copy=True,\\n                                                                         feature_range=(0,\\n                                                                                        1\", \"primary_metric\": 0.86633987, \"best_metric\": 0.87777778}], \"children_metrics\": {\"categories\": [0], \"series\": {\"precision_score_weighted\": [{\"categories\": [\"0\", \"1\", \"2\", \"3\", \"4\", \"5\", \"6\", \"7\", \"8\", \"9\", \"10\", \"11\", \"12\", \"13\", \"14\", \"15\", \"16\", \"17\", \"18\", \"19\", \"20\", \"21\", \"22\", \"23\", \"24\", \"25\", \"26\", \"27\", \"28\", \"29\", \"30\", \"31\", \"32\", \"33\", \"36\", \"37\"], \"mode\": \"markers\", \"name\": \"precision_score_weighted\", \"stepped\": false, \"type\": \"scatter\", \"data\": [0.8662597125097126, 0.8329974682180564, 0.8322019075695547, 0.8528890145801912, 0.884120699561876, 0.8661442397471809, 0.8127324444106451, 0.8580419743655037, 0.8100098512598513, 0.8526323104999577, 0.8577252730929203, 0.8317060798678447, 0.8386216153127919, 0.8693337952896778, 0.8618037599655247, 0.846243894993895, 0.8469964267758385, 0.8340742835595776, 0.825239458254164, 0.8337132393750041, 0.8403485187438473, 0.8262267063002359, 0.8554086028350734, 0.8418994812377166, 0.8504613931819816, 0.8075066436831142, 0.8683905228758171, 0.8666735796882856, 0.8521866287307465, 0.848896340587517, 0.6841230664760076, 0.8472442671707379, 0.8246339689722042, 0.8584470839617898, 0.8772221814133581, 0.8540095117301]}, {\"categories\": [\"0\", \"1\", \"2\", \"3\", \"4\", \"5\", \"6\", \"7\", \"8\", \"9\", \"10\", \"11\", \"12\", \"13\", \"14\", \"15\", \"16\", \"17\", \"18\", \"19\", \"20\", \"21\", \"22\", \"23\", \"24\", \"25\", \"26\", \"27\", \"28\", \"29\", \"30\", \"31\", \"32\", \"33\", \"36\", \"37\"], \"mode\": \"lines\", \"name\": \"precision_score_weighted_max\", \"stepped\": true, \"type\": \"scatter\", \"data\": [0.8662597125097126, 0.8662597125097126, 0.8662597125097126, 0.8662597125097126, 0.884120699561876, 0.884120699561876, 0.884120699561876, 0.884120699561876, 0.884120699561876, 0.884120699561876, 0.884120699561876, 0.884120699561876, 0.884120699561876, 0.884120699561876, 0.884120699561876, 0.884120699561876, 0.884120699561876, 0.884120699561876, 0.884120699561876, 0.884120699561876, 0.884120699561876, 0.884120699561876, 0.884120699561876, 0.884120699561876, 0.884120699561876, 0.884120699561876, 0.884120699561876, 0.884120699561876, 0.884120699561876, 0.884120699561876, 0.884120699561876, 0.884120699561876, 0.884120699561876, 0.884120699561876, 0.884120699561876, 0.884120699561876]}], \"f1_score_micro\": [{\"categories\": [\"0\", \"1\", \"2\", \"3\", \"4\", \"5\", \"6\", \"7\", \"8\", \"9\", \"10\", \"11\", \"12\", \"13\", \"14\", \"15\", \"16\", \"17\", \"18\", \"19\", \"20\", \"21\", \"22\", \"23\", \"24\", \"25\", \"26\", \"27\", \"28\", \"29\", \"30\", \"31\", \"32\", \"33\", \"36\", \"37\"], \"mode\": \"markers\", \"name\": \"f1_score_micro\", \"stepped\": false, \"type\": \"scatter\", \"data\": [0.8490196078431372, 0.8258169934640522, 0.8251633986928104, 0.8486928104575165, 0.8777777777777779, 0.8542483660130721, 0.819607843137255, 0.8486928104575163, 0.807843137254902, 0.8486928104575165, 0.8490196078431372, 0.819607843137255, 0.8307189542483661, 0.8604575163398694, 0.8542483660130719, 0.8248366013071896, 0.8428104575163399, 0.831045751633987, 0.8199346405228758, 0.819281045751634, 0.8307189542483661, 0.8192810457516341, 0.8366013071895425, 0.8431372549019608, 0.842483660130719, 0.8016339869281046, 0.8542483660130721, 0.8549019607843137, 0.8486928104575165, 0.842483660130719, 0.6107843137254902, 0.8428104575163399, 0.8140522875816995, 0.8483660130718954, 0.8663398692810459, 0.8486928104575163]}, {\"categories\": [\"0\", \"1\", \"2\", \"3\", \"4\", \"5\", \"6\", \"7\", \"8\", \"9\", \"10\", \"11\", \"12\", \"13\", \"14\", \"15\", \"16\", \"17\", \"18\", \"19\", \"20\", \"21\", \"22\", \"23\", \"24\", \"25\", \"26\", \"27\", \"28\", \"29\", \"30\", \"31\", \"32\", \"33\", \"36\", \"37\"], \"mode\": \"lines\", \"name\": \"f1_score_micro_max\", \"stepped\": true, \"type\": \"scatter\", \"data\": [0.8490196078431372, 0.8490196078431372, 0.8490196078431372, 0.8490196078431372, 0.8777777777777779, 0.8777777777777779, 0.8777777777777779, 0.8777777777777779, 0.8777777777777779, 0.8777777777777779, 0.8777777777777779, 0.8777777777777779, 0.8777777777777779, 0.8777777777777779, 0.8777777777777779, 0.8777777777777779, 0.8777777777777779, 0.8777777777777779, 0.8777777777777779, 0.8777777777777779, 0.8777777777777779, 0.8777777777777779, 0.8777777777777779, 0.8777777777777779, 0.8777777777777779, 0.8777777777777779, 0.8777777777777779, 0.8777777777777779, 0.8777777777777779, 0.8777777777777779, 0.8777777777777779, 0.8777777777777779, 0.8777777777777779, 0.8777777777777779, 0.8777777777777779, 0.8777777777777779]}], \"log_loss\": [{\"categories\": [\"0\", \"1\", \"2\", \"3\", \"4\", \"5\", \"6\", \"7\", \"8\", \"9\", \"10\", \"11\", \"12\", \"13\", \"14\", \"15\", \"16\", \"17\", \"18\", \"19\", \"20\", \"21\", \"22\", \"23\", \"24\", \"25\", \"26\", \"27\", \"28\", \"29\", \"30\", \"31\", \"32\", \"33\", \"36\", \"37\"], \"mode\": \"markers\", \"name\": \"log_loss\", \"stepped\": false, \"type\": \"scatter\", \"data\": [0.40831935375100414, 0.38394044698361895, 0.382300803721323, 0.3865958366056025, 0.3751833282813364, 0.3518493155360293, 0.4676136797616774, 0.33162500195422107, 0.47292945428119343, 0.3821604024379119, 0.36354771401500174, 0.42266538944507837, 0.4352128499704978, 0.36481633920230977, 0.42025338210989, 0.4334810202845311, 0.360637696106404, 0.3987955498026394, 0.3861761617048654, 0.40597526673971396, 0.45812066430382326, 0.35618854159203484, 0.41113924068204144, 0.361992775293586, 0.39105913793136093, 0.5087227227593589, 0.4839835161400326, 0.37668370848947885, 0.4048733541930801, 0.4792277661238389, 0.6666762336020038, 0.495717741370633, 0.4697117459348556, 0.4936386392576548, 0.38377134323192885, 0.3338722278889048]}, {\"categories\": [\"0\", \"1\", \"2\", \"3\", \"4\", \"5\", \"6\", \"7\", \"8\", \"9\", \"10\", \"11\", \"12\", \"13\", \"14\", \"15\", \"16\", \"17\", \"18\", \"19\", \"20\", \"21\", \"22\", \"23\", \"24\", \"25\", \"26\", \"27\", \"28\", \"29\", \"30\", \"31\", \"32\", \"33\", \"36\", \"37\"], \"mode\": \"lines\", \"name\": \"log_loss_min\", \"stepped\": true, \"type\": \"scatter\", \"data\": [0.40831935375100414, 0.38394044698361895, 0.382300803721323, 0.382300803721323, 0.3751833282813364, 0.3518493155360293, 0.3518493155360293, 0.33162500195422107, 0.33162500195422107, 0.33162500195422107, 0.33162500195422107, 0.33162500195422107, 0.33162500195422107, 0.33162500195422107, 0.33162500195422107, 0.33162500195422107, 0.33162500195422107, 0.33162500195422107, 0.33162500195422107, 0.33162500195422107, 0.33162500195422107, 0.33162500195422107, 0.33162500195422107, 0.33162500195422107, 0.33162500195422107, 0.33162500195422107, 0.33162500195422107, 0.33162500195422107, 0.33162500195422107, 0.33162500195422107, 0.33162500195422107, 0.33162500195422107, 0.33162500195422107, 0.33162500195422107, 0.33162500195422107, 0.33162500195422107]}], \"AUC_micro\": [{\"categories\": [\"0\", \"1\", \"2\", \"3\", \"4\", \"5\", \"6\", \"7\", \"8\", \"9\", \"10\", \"11\", \"12\", \"13\", \"14\", \"15\", \"16\", \"17\", \"18\", \"19\", \"20\", \"21\", \"22\", \"23\", \"24\", \"25\", \"26\", \"27\", \"28\", \"29\", \"30\", \"31\", \"32\", \"33\", \"36\", \"37\"], \"mode\": \"markers\", \"name\": \"AUC_micro\", \"stepped\": false, \"type\": \"scatter\", \"data\": [0.9206758084497416, 0.9234813533256441, 0.9104543124439317, 0.9044972019308813, 0.9240804818659489, 0.9213400828741083, 0.8645536972959118, 0.9372666495792215, 0.8734204793028322, 0.9138119953863899, 0.9193857063522579, 0.8911145286001112, 0.8989234909650134, 0.9279518561237131, 0.9083600324661454, 0.8968473663975395, 0.9153733606732454, 0.9111271305907982, 0.9049735144602502, 0.9178424964757145, 0.8955006621384938, 0.9170564740057243, 0.9148596693579393, 0.9251933017215601, 0.9185441496860183, 0.8347494553376906, 0.9105109146054936, 0.9265581613909181, 0.9091172198726983, 0.9098936306548764, 0.6842816865308214, 0.9036556452646419, 0.9050674954077491, 0.9143919005510701, 0.9283171002605834, 0.932347601349908]}, {\"categories\": [\"0\", \"1\", \"2\", \"3\", \"4\", \"5\", \"6\", \"7\", \"8\", \"9\", \"10\", \"11\", \"12\", \"13\", \"14\", \"15\", \"16\", \"17\", \"18\", \"19\", \"20\", \"21\", \"22\", \"23\", \"24\", \"25\", \"26\", \"27\", \"28\", \"29\", \"30\", \"31\", \"32\", \"33\", \"36\", \"37\"], \"mode\": \"lines\", \"name\": \"AUC_micro_max\", \"stepped\": true, \"type\": \"scatter\", \"data\": [0.9206758084497416, 0.9234813533256441, 0.9234813533256441, 0.9234813533256441, 0.9240804818659489, 0.9240804818659489, 0.9240804818659489, 0.9372666495792215, 0.9372666495792215, 0.9372666495792215, 0.9372666495792215, 0.9372666495792215, 0.9372666495792215, 0.9372666495792215, 0.9372666495792215, 0.9372666495792215, 0.9372666495792215, 0.9372666495792215, 0.9372666495792215, 0.9372666495792215, 0.9372666495792215, 0.9372666495792215, 0.9372666495792215, 0.9372666495792215, 0.9372666495792215, 0.9372666495792215, 0.9372666495792215, 0.9372666495792215, 0.9372666495792215, 0.9372666495792215, 0.9372666495792215, 0.9372666495792215, 0.9372666495792215, 0.9372666495792215, 0.9372666495792215, 0.9372666495792215]}], \"AUC_weighted\": [{\"categories\": [\"0\", \"1\", \"2\", \"3\", \"4\", \"5\", \"6\", \"7\", \"8\", \"9\", \"10\", \"11\", \"12\", \"13\", \"14\", \"15\", \"16\", \"17\", \"18\", \"19\", \"20\", \"21\", \"22\", \"23\", \"24\", \"25\", \"26\", \"27\", \"28\", \"29\", \"30\", \"31\", \"32\", \"33\", \"36\", \"37\"], \"mode\": \"markers\", \"name\": \"AUC_weighted\", \"stepped\": false, \"type\": \"scatter\", \"data\": [0.9027922077922079, 0.9109595959595961, 0.8784722222222221, 0.8936471861471862, 0.9006962481962482, 0.9006060606060606, 0.8108369408369409, 0.9191991341991343, 0.8397943722943723, 0.884556277056277, 0.9106132756132755, 0.8804220779220782, 0.9000541125541126, 0.9171681096681098, 0.8887175324675324, 0.9037193362193363, 0.8932287157287158, 0.8971031746031745, 0.892813852813853, 0.9234632034632035, 0.9060624098124098, 0.9031024531024532, 0.8930339105339107, 0.9072799422799422, 0.9121266233766235, 0.7730717893217893, 0.899163059163059, 0.9133405483405485, 0.8869823232323231, 0.8927236652236653, 0.645799062049062, 0.8852362914862913, 0.8883441558441559, 0.9032936507936506, 0.9166125541125542, 0.9166738816738818]}, {\"categories\": [\"0\", \"1\", \"2\", \"3\", \"4\", \"5\", \"6\", \"7\", \"8\", \"9\", \"10\", \"11\", \"12\", \"13\", \"14\", \"15\", \"16\", \"17\", \"18\", \"19\", \"20\", \"21\", \"22\", \"23\", \"24\", \"25\", \"26\", \"27\", \"28\", \"29\", \"30\", \"31\", \"32\", \"33\", \"36\", \"37\"], \"mode\": \"lines\", \"name\": \"AUC_weighted_max\", \"stepped\": true, \"type\": \"scatter\", \"data\": [0.9027922077922079, 0.9109595959595961, 0.9109595959595961, 0.9109595959595961, 0.9109595959595961, 0.9109595959595961, 0.9109595959595961, 0.9191991341991343, 0.9191991341991343, 0.9191991341991343, 0.9191991341991343, 0.9191991341991343, 0.9191991341991343, 0.9191991341991343, 0.9191991341991343, 0.9191991341991343, 0.9191991341991343, 0.9191991341991343, 0.9191991341991343, 0.9234632034632035, 0.9234632034632035, 0.9234632034632035, 0.9234632034632035, 0.9234632034632035, 0.9234632034632035, 0.9234632034632035, 0.9234632034632035, 0.9234632034632035, 0.9234632034632035, 0.9234632034632035, 0.9234632034632035, 0.9234632034632035, 0.9234632034632035, 0.9234632034632035, 0.9234632034632035, 0.9234632034632035]}], \"balanced_accuracy\": [{\"categories\": [\"0\", \"1\", \"2\", \"3\", \"4\", \"5\", \"6\", \"7\", \"8\", \"9\", \"10\", \"11\", \"12\", \"13\", \"14\", \"15\", \"16\", \"17\", \"18\", \"19\", \"20\", \"21\", \"22\", \"23\", \"24\", \"25\", \"26\", \"27\", \"28\", \"29\", \"30\", \"31\", \"32\", \"33\", \"36\", \"37\"], \"mode\": \"markers\", \"name\": \"balanced_accuracy\", \"stepped\": false, \"type\": \"scatter\", \"data\": [0.7950775613275614, 0.7585894660894661, 0.741744227994228, 0.7544444444444445, 0.8307323232323233, 0.7890656565656565, 0.747099567099567, 0.7988654401154401, 0.7327128427128428, 0.7603156565656566, 0.768270202020202, 0.708589466089466, 0.7298989898989899, 0.7828535353535354, 0.7598015873015873, 0.7145238095238096, 0.7613888888888889, 0.732020202020202, 0.7383459595959596, 0.7382485569985571, 0.7164285714285714, 0.7418055555555556, 0.7532485569985571, 0.7578156565656566, 0.7662247474747476, 0.7613618326118325, 0.7790656565656565, 0.7707323232323233, 0.774520202020202, 0.742020202020202, 0.5747474747474748, 0.7482323232323232, 0.7313275613275613, 0.7490440115440117, 0.7873989898989899, 0.77489898989899]}, {\"categories\": [\"0\", \"1\", \"2\", \"3\", \"4\", \"5\", \"6\", \"7\", \"8\", \"9\", \"10\", \"11\", \"12\", \"13\", \"14\", \"15\", \"16\", \"17\", \"18\", \"19\", \"20\", \"21\", \"22\", \"23\", \"24\", \"25\", \"26\", \"27\", \"28\", \"29\", \"30\", \"31\", \"32\", \"33\", \"36\", \"37\"], \"mode\": \"lines\", \"name\": \"balanced_accuracy_max\", \"stepped\": true, \"type\": \"scatter\", \"data\": [0.7950775613275614, 0.7950775613275614, 0.7950775613275614, 0.7950775613275614, 0.8307323232323233, 0.8307323232323233, 0.8307323232323233, 0.8307323232323233, 0.8307323232323233, 0.8307323232323233, 0.8307323232323233, 0.8307323232323233, 0.8307323232323233, 0.8307323232323233, 0.8307323232323233, 0.8307323232323233, 0.8307323232323233, 0.8307323232323233, 0.8307323232323233, 0.8307323232323233, 0.8307323232323233, 0.8307323232323233, 0.8307323232323233, 0.8307323232323233, 0.8307323232323233, 0.8307323232323233, 0.8307323232323233, 0.8307323232323233, 0.8307323232323233, 0.8307323232323233, 0.8307323232323233, 0.8307323232323233, 0.8307323232323233, 0.8307323232323233, 0.8307323232323233, 0.8307323232323233]}], \"f1_score_macro\": [{\"categories\": [\"0\", \"1\", \"2\", \"3\", \"4\", \"5\", \"6\", \"7\", \"8\", \"9\", \"10\", \"11\", \"12\", \"13\", \"14\", \"15\", \"16\", \"17\", \"18\", \"19\", \"20\", \"21\", \"22\", \"23\", \"24\", \"25\", \"26\", \"27\", \"28\", \"29\", \"30\", \"31\", \"32\", \"33\", \"36\", \"37\"], \"mode\": \"markers\", \"name\": \"f1_score_macro\", \"stepped\": false, \"type\": \"scatter\", \"data\": [0.8009776583864943, 0.7623326086389037, 0.7552709532974803, 0.772086937995774, 0.8386549461086272, 0.801337168047511, 0.7489463024119405, 0.7989818527299787, 0.7387869035308219, 0.774353497523203, 0.789527626076642, 0.7233868192739161, 0.7440589973373984, 0.8028584028513546, 0.7776591821767138, 0.7263197438372754, 0.7779985754171564, 0.7522468583457462, 0.7580859493958347, 0.7530279035769194, 0.7329862428388568, 0.7594056784844425, 0.7665788912366026, 0.7717311585095596, 0.7827410623987738, 0.7522738401948929, 0.795369822527534, 0.7934100396203827, 0.7905391110320628, 0.7571639274949602, 0.5314954150004059, 0.763744474966812, 0.7431475198480808, 0.7640998080395364, 0.8088498389514864, 0.7914450770467244]}, {\"categories\": [\"0\", \"1\", \"2\", \"3\", \"4\", \"5\", \"6\", \"7\", \"8\", \"9\", \"10\", \"11\", \"12\", \"13\", \"14\", \"15\", \"16\", \"17\", \"18\", \"19\", \"20\", \"21\", \"22\", \"23\", \"24\", \"25\", \"26\", \"27\", \"28\", \"29\", \"30\", \"31\", \"32\", \"33\", \"36\", \"37\"], \"mode\": \"lines\", \"name\": \"f1_score_macro_max\", \"stepped\": true, \"type\": \"scatter\", \"data\": [0.8009776583864943, 0.8009776583864943, 0.8009776583864943, 0.8009776583864943, 0.8386549461086272, 0.8386549461086272, 0.8386549461086272, 0.8386549461086272, 0.8386549461086272, 0.8386549461086272, 0.8386549461086272, 0.8386549461086272, 0.8386549461086272, 0.8386549461086272, 0.8386549461086272, 0.8386549461086272, 0.8386549461086272, 0.8386549461086272, 0.8386549461086272, 0.8386549461086272, 0.8386549461086272, 0.8386549461086272, 0.8386549461086272, 0.8386549461086272, 0.8386549461086272, 0.8386549461086272, 0.8386549461086272, 0.8386549461086272, 0.8386549461086272, 0.8386549461086272, 0.8386549461086272, 0.8386549461086272, 0.8386549461086272, 0.8386549461086272, 0.8386549461086272, 0.8386549461086272]}], \"AUC_macro\": [{\"categories\": [\"0\", \"1\", \"2\", \"3\", \"4\", \"5\", \"6\", \"7\", \"8\", \"9\", \"10\", \"11\", \"12\", \"13\", \"14\", \"15\", \"16\", \"17\", \"18\", \"19\", \"20\", \"21\", \"22\", \"23\", \"24\", \"25\", \"26\", \"27\", \"28\", \"29\", \"30\", \"31\", \"32\", \"33\", \"36\", \"37\"], \"mode\": \"markers\", \"name\": \"AUC_macro\", \"stepped\": false, \"type\": \"scatter\", \"data\": [0.9027922077922079, 0.9109595959595961, 0.8784722222222221, 0.8936471861471862, 0.9006962481962482, 0.9006060606060606, 0.8108369408369407, 0.9191991341991341, 0.8397943722943723, 0.884556277056277, 0.9106132756132755, 0.8804220779220779, 0.9000541125541126, 0.9171681096681098, 0.8887175324675324, 0.9037193362193363, 0.8932287157287158, 0.8971031746031745, 0.892813852813853, 0.9234632034632035, 0.9060624098124098, 0.9031024531024532, 0.8930339105339105, 0.9072799422799422, 0.9121266233766235, 0.7730717893217893, 0.8991630591630593, 0.9133405483405482, 0.8869823232323231, 0.8927236652236653, 0.645799062049062, 0.8852362914862913, 0.8883441558441559, 0.9032936507936506, 0.9166125541125542, 0.9166738816738818]}, {\"categories\": [\"0\", \"1\", \"2\", \"3\", \"4\", \"5\", \"6\", \"7\", \"8\", \"9\", \"10\", \"11\", \"12\", \"13\", \"14\", \"15\", \"16\", \"17\", \"18\", \"19\", \"20\", \"21\", \"22\", \"23\", \"24\", \"25\", \"26\", \"27\", \"28\", \"29\", \"30\", \"31\", \"32\", \"33\", \"36\", \"37\"], \"mode\": \"lines\", \"name\": \"AUC_macro_max\", \"stepped\": true, \"type\": \"scatter\", \"data\": [0.9027922077922079, 0.9109595959595961, 0.9109595959595961, 0.9109595959595961, 0.9109595959595961, 0.9109595959595961, 0.9109595959595961, 0.9191991341991341, 0.9191991341991341, 0.9191991341991341, 0.9191991341991341, 0.9191991341991341, 0.9191991341991341, 0.9191991341991341, 0.9191991341991341, 0.9191991341991341, 0.9191991341991341, 0.9191991341991341, 0.9191991341991341, 0.9234632034632035, 0.9234632034632035, 0.9234632034632035, 0.9234632034632035, 0.9234632034632035, 0.9234632034632035, 0.9234632034632035, 0.9234632034632035, 0.9234632034632035, 0.9234632034632035, 0.9234632034632035, 0.9234632034632035, 0.9234632034632035, 0.9234632034632035, 0.9234632034632035, 0.9234632034632035, 0.9234632034632035]}], \"f1_score_weighted\": [{\"categories\": [\"0\", \"1\", \"2\", \"3\", \"4\", \"5\", \"6\", \"7\", \"8\", \"9\", \"10\", \"11\", \"12\", \"13\", \"14\", \"15\", \"16\", \"17\", \"18\", \"19\", \"20\", \"21\", \"22\", \"23\", \"24\", \"25\", \"26\", \"27\", \"28\", \"29\", \"30\", \"31\", \"32\", \"33\", \"36\", \"37\"], \"mode\": \"markers\", \"name\": \"f1_score_weighted\", \"stepped\": false, \"type\": \"scatter\", \"data\": [0.8461062802420777, 0.8218579487918672, 0.8165804475187848, 0.8346282876464379, 0.8729781359348248, 0.8489077022022344, 0.8037569258103042, 0.8433141582982838, 0.8007306122162641, 0.8362593624539834, 0.8400036628665084, 0.7970875027706147, 0.8131730710812469, 0.8521006408350708, 0.8389093592318574, 0.7987417947701754, 0.8323665983112853, 0.8153237914449492, 0.8115559051681114, 0.8067249007079509, 0.8008613692016819, 0.8120660179296711, 0.822472657639851, 0.832598769565769, 0.8341307948990113, 0.7977072892707568, 0.8446737813243509, 0.844802532861771, 0.8413100066326719, 0.8257378767606036, 0.6094513975639202, 0.8289338427724265, 0.8036848065170812, 0.8305489542877937, 0.8577152265903216, 0.8420326869077819]}, {\"categories\": [\"0\", \"1\", \"2\", \"3\", \"4\", \"5\", \"6\", \"7\", \"8\", \"9\", \"10\", \"11\", \"12\", \"13\", \"14\", \"15\", \"16\", \"17\", \"18\", \"19\", \"20\", \"21\", \"22\", \"23\", \"24\", \"25\", \"26\", \"27\", \"28\", \"29\", \"30\", \"31\", \"32\", \"33\", \"36\", \"37\"], \"mode\": \"lines\", \"name\": \"f1_score_weighted_max\", \"stepped\": true, \"type\": \"scatter\", \"data\": [0.8461062802420777, 0.8461062802420777, 0.8461062802420777, 0.8461062802420777, 0.8729781359348248, 0.8729781359348248, 0.8729781359348248, 0.8729781359348248, 0.8729781359348248, 0.8729781359348248, 0.8729781359348248, 0.8729781359348248, 0.8729781359348248, 0.8729781359348248, 0.8729781359348248, 0.8729781359348248, 0.8729781359348248, 0.8729781359348248, 0.8729781359348248, 0.8729781359348248, 0.8729781359348248, 0.8729781359348248, 0.8729781359348248, 0.8729781359348248, 0.8729781359348248, 0.8729781359348248, 0.8729781359348248, 0.8729781359348248, 0.8729781359348248, 0.8729781359348248, 0.8729781359348248, 0.8729781359348248, 0.8729781359348248, 0.8729781359348248, 0.8729781359348248, 0.8729781359348248]}], \"recall_score_weighted\": [{\"categories\": [\"0\", \"1\", \"2\", \"3\", \"4\", \"5\", \"6\", \"7\", \"8\", \"9\", \"10\", \"11\", \"12\", \"13\", \"14\", \"15\", \"16\", \"17\", \"18\", \"19\", \"20\", \"21\", \"22\", \"23\", \"24\", \"25\", \"26\", \"27\", \"28\", \"29\", \"30\", \"31\", \"32\", \"33\", \"36\", \"37\"], \"mode\": \"markers\", \"name\": \"recall_score_weighted\", \"stepped\": false, \"type\": \"scatter\", \"data\": [0.8490196078431371, 0.8258169934640522, 0.8251633986928104, 0.8486928104575163, 0.8777777777777779, 0.8542483660130719, 0.819607843137255, 0.8486928104575163, 0.807843137254902, 0.8486928104575163, 0.8490196078431372, 0.8196078431372549, 0.830718954248366, 0.8604575163398694, 0.8542483660130719, 0.8248366013071895, 0.8428104575163399, 0.831045751633987, 0.8199346405228758, 0.819281045751634, 0.8307189542483661, 0.8192810457516341, 0.8366013071895424, 0.8431372549019607, 0.842483660130719, 0.8016339869281046, 0.8542483660130721, 0.8549019607843137, 0.8486928104575163, 0.8424836601307188, 0.6107843137254902, 0.8428104575163399, 0.8140522875816995, 0.8483660130718953, 0.8663398692810459, 0.8486928104575163]}, {\"categories\": [\"0\", \"1\", \"2\", \"3\", \"4\", \"5\", \"6\", \"7\", \"8\", \"9\", \"10\", \"11\", \"12\", \"13\", \"14\", \"15\", \"16\", \"17\", \"18\", \"19\", \"20\", \"21\", \"22\", \"23\", \"24\", \"25\", \"26\", \"27\", \"28\", \"29\", \"30\", \"31\", \"32\", \"33\", \"36\", \"37\"], \"mode\": \"lines\", \"name\": \"recall_score_weighted_max\", \"stepped\": true, \"type\": \"scatter\", \"data\": [0.8490196078431371, 0.8490196078431371, 0.8490196078431371, 0.8490196078431371, 0.8777777777777779, 0.8777777777777779, 0.8777777777777779, 0.8777777777777779, 0.8777777777777779, 0.8777777777777779, 0.8777777777777779, 0.8777777777777779, 0.8777777777777779, 0.8777777777777779, 0.8777777777777779, 0.8777777777777779, 0.8777777777777779, 0.8777777777777779, 0.8777777777777779, 0.8777777777777779, 0.8777777777777779, 0.8777777777777779, 0.8777777777777779, 0.8777777777777779, 0.8777777777777779, 0.8777777777777779, 0.8777777777777779, 0.8777777777777779, 0.8777777777777779, 0.8777777777777779, 0.8777777777777779, 0.8777777777777779, 0.8777777777777779, 0.8777777777777779, 0.8777777777777779, 0.8777777777777779]}], \"matthews_correlation\": [{\"categories\": [\"0\", \"1\", \"2\", \"3\", \"4\", \"5\", \"6\", \"7\", \"8\", \"9\", \"10\", \"11\", \"12\", \"13\", \"14\", \"15\", \"16\", \"17\", \"18\", \"19\", \"20\", \"21\", \"22\", \"23\", \"24\", \"25\", \"26\", \"27\", \"28\", \"29\", \"30\", \"31\", \"32\", \"33\", \"36\", \"37\"], \"mode\": \"markers\", \"name\": \"matthews_correlation\", \"stepped\": false, \"type\": \"scatter\", \"data\": [0.6307450268429287, 0.5439492654742346, 0.5402094338634287, 0.5840731184727723, 0.6960929585578952, 0.6315177413392332, 0.5315354290319186, 0.6208675991856953, 0.49943364585203076, 0.585059881696383, 0.6127021057452933, 0.5128584490418221, 0.5389415962518544, 0.6382891584768365, 0.6009751544434148, 0.5317736511904958, 0.5875331724595296, 0.5474245773508306, 0.5445001836128295, 0.5521600558406723, 0.5594879709741515, 0.5462849020655539, 0.5877494875348036, 0.5695244048174848, 0.5969182268914608, 0.5204494905304041, 0.6311394261076039, 0.6261156744220527, 0.6053024037261032, 0.562321920363, 0.14276827970758266, 0.5675848888102049, 0.5249224710652145, 0.5817857816137451, 0.6530099561111634, 0.6072383159895545]}, {\"categories\": [\"0\", \"1\", \"2\", \"3\", \"4\", \"5\", \"6\", \"7\", \"8\", \"9\", \"10\", \"11\", \"12\", \"13\", \"14\", \"15\", \"16\", \"17\", \"18\", \"19\", \"20\", \"21\", \"22\", \"23\", \"24\", \"25\", \"26\", \"27\", \"28\", \"29\", \"30\", \"31\", \"32\", \"33\", \"36\", \"37\"], \"mode\": \"lines\", \"name\": \"matthews_correlation_max\", \"stepped\": true, \"type\": \"scatter\", \"data\": [0.6307450268429287, 0.6307450268429287, 0.6307450268429287, 0.6307450268429287, 0.6960929585578952, 0.6960929585578952, 0.6960929585578952, 0.6960929585578952, 0.6960929585578952, 0.6960929585578952, 0.6960929585578952, 0.6960929585578952, 0.6960929585578952, 0.6960929585578952, 0.6960929585578952, 0.6960929585578952, 0.6960929585578952, 0.6960929585578952, 0.6960929585578952, 0.6960929585578952, 0.6960929585578952, 0.6960929585578952, 0.6960929585578952, 0.6960929585578952, 0.6960929585578952, 0.6960929585578952, 0.6960929585578952, 0.6960929585578952, 0.6960929585578952, 0.6960929585578952, 0.6960929585578952, 0.6960929585578952, 0.6960929585578952, 0.6960929585578952, 0.6960929585578952, 0.6960929585578952]}], \"weighted_accuracy\": [{\"categories\": [\"0\", \"1\", \"2\", \"3\", \"4\", \"5\", \"6\", \"7\", \"8\", \"9\", \"10\", \"11\", \"12\", \"13\", \"14\", \"15\", \"16\", \"17\", \"18\", \"19\", \"20\", \"21\", \"22\", \"23\", \"24\", \"25\", \"26\", \"27\", \"28\", \"29\", \"30\", \"31\", \"32\", \"33\", \"36\", \"37\"], \"mode\": \"markers\", \"name\": \"weighted_accuracy\", \"stepped\": false, \"type\": \"scatter\", \"data\": [0.8725711447665094, 0.8561947679464916, 0.8674928605988264, 0.8980305059244905, 0.9040750405525568, 0.8851788386242339, 0.8637236801043591, 0.874920325482714, 0.8431588445998222, 0.893208044543716, 0.8914323481337536, 0.8812176686582303, 0.8846730516851157, 0.9002829228463975, 0.9037664443966191, 0.8862958601621089, 0.8862986672826253, 0.8872094394245383, 0.8631640281799855, 0.8619676711069004, 0.8983000695290123, 0.8598144354070769, 0.8804774990331741, 0.8857326993760631, 0.8810334737760357, 0.8253005831998514, 0.8924875511318853, 0.9001343028888604, 0.8860817394144448, 0.895801756732961, 0.613525855020005, 0.8919450499904142, 0.8582733057358112, 0.901162941753413, 0.907289292273149, 0.8859875171252201]}, {\"categories\": [\"0\", \"1\", \"2\", \"3\", \"4\", \"5\", \"6\", \"7\", \"8\", \"9\", \"10\", \"11\", \"12\", \"13\", \"14\", \"15\", \"16\", \"17\", \"18\", \"19\", \"20\", \"21\", \"22\", \"23\", \"24\", \"25\", \"26\", \"27\", \"28\", \"29\", \"30\", \"31\", \"32\", \"33\", \"36\", \"37\"], \"mode\": \"lines\", \"name\": \"weighted_accuracy_max\", \"stepped\": true, \"type\": \"scatter\", \"data\": [0.8725711447665094, 0.8725711447665094, 0.8725711447665094, 0.8980305059244905, 0.9040750405525568, 0.9040750405525568, 0.9040750405525568, 0.9040750405525568, 0.9040750405525568, 0.9040750405525568, 0.9040750405525568, 0.9040750405525568, 0.9040750405525568, 0.9040750405525568, 0.9040750405525568, 0.9040750405525568, 0.9040750405525568, 0.9040750405525568, 0.9040750405525568, 0.9040750405525568, 0.9040750405525568, 0.9040750405525568, 0.9040750405525568, 0.9040750405525568, 0.9040750405525568, 0.9040750405525568, 0.9040750405525568, 0.9040750405525568, 0.9040750405525568, 0.9040750405525568, 0.9040750405525568, 0.9040750405525568, 0.9040750405525568, 0.9040750405525568, 0.907289292273149, 0.907289292273149]}], \"precision_score_macro\": [{\"categories\": [\"0\", \"1\", \"2\", \"3\", \"4\", \"5\", \"6\", \"7\", \"8\", \"9\", \"10\", \"11\", \"12\", \"13\", \"14\", \"15\", \"16\", \"17\", \"18\", \"19\", \"20\", \"21\", \"22\", \"23\", \"24\", \"25\", \"26\", \"27\", \"28\", \"29\", \"30\", \"31\", \"32\", \"33\", \"36\", \"37\"], \"mode\": \"markers\", \"name\": \"precision_score_macro\", \"stepped\": false, \"type\": \"scatter\", \"data\": [0.8429285298035298, 0.7899577505827506, 0.8067380536130535, 0.8393269230769231, 0.8694975857475857, 0.85058503996004, 0.7780446024563672, 0.8259802697302698, 0.7730908674658675, 0.8341729104229104, 0.8553918997668998, 0.8240122377622378, 0.8244975857475858, 0.8663875707625707, 0.852092490842491, 0.8380815018315019, 0.8352831196581196, 0.8277617521367523, 0.8147908341658342, 0.8262993256743256, 0.8518302898082311, 0.8132681901431902, 0.8529410173160172, 0.8178117715617716, 0.8397900016650016, 0.7612604062604063, 0.8635154428904428, 0.8678377872127871, 0.8386861055611055, 0.8357554945054945, 0.5667601148851149, 0.8299521312021312, 0.8071174046541694, 0.8493543956043956, 0.8770285964035965, 0.8401696220446221]}, {\"categories\": [\"0\", \"1\", \"2\", \"3\", \"4\", \"5\", \"6\", \"7\", \"8\", \"9\", \"10\", \"11\", \"12\", \"13\", \"14\", \"15\", \"16\", \"17\", \"18\", \"19\", \"20\", \"21\", \"22\", \"23\", \"24\", \"25\", \"26\", \"27\", \"28\", \"29\", \"30\", \"31\", \"32\", \"33\", \"36\", \"37\"], \"mode\": \"lines\", \"name\": \"precision_score_macro_max\", \"stepped\": true, \"type\": \"scatter\", \"data\": [0.8429285298035298, 0.8429285298035298, 0.8429285298035298, 0.8429285298035298, 0.8694975857475857, 0.8694975857475857, 0.8694975857475857, 0.8694975857475857, 0.8694975857475857, 0.8694975857475857, 0.8694975857475857, 0.8694975857475857, 0.8694975857475857, 0.8694975857475857, 0.8694975857475857, 0.8694975857475857, 0.8694975857475857, 0.8694975857475857, 0.8694975857475857, 0.8694975857475857, 0.8694975857475857, 0.8694975857475857, 0.8694975857475857, 0.8694975857475857, 0.8694975857475857, 0.8694975857475857, 0.8694975857475857, 0.8694975857475857, 0.8694975857475857, 0.8694975857475857, 0.8694975857475857, 0.8694975857475857, 0.8694975857475857, 0.8694975857475857, 0.8770285964035965, 0.8770285964035965]}], \"precision_score_micro\": [{\"categories\": [\"0\", \"1\", \"2\", \"3\", \"4\", \"5\", \"6\", \"7\", \"8\", \"9\", \"10\", \"11\", \"12\", \"13\", \"14\", \"15\", \"16\", \"17\", \"18\", \"19\", \"20\", \"21\", \"22\", \"23\", \"24\", \"25\", \"26\", \"27\", \"28\", \"29\", \"30\", \"31\", \"32\", \"33\", \"36\", \"37\"], \"mode\": \"markers\", \"name\": \"precision_score_micro\", \"stepped\": false, \"type\": \"scatter\", \"data\": [0.8490196078431371, 0.8258169934640522, 0.8251633986928104, 0.8486928104575163, 0.8777777777777779, 0.8542483660130719, 0.819607843137255, 0.8486928104575163, 0.807843137254902, 0.8486928104575163, 0.8490196078431372, 0.8196078431372549, 0.830718954248366, 0.8604575163398694, 0.8542483660130719, 0.8248366013071895, 0.8428104575163399, 0.831045751633987, 0.8199346405228758, 0.819281045751634, 0.8307189542483661, 0.8192810457516341, 0.8366013071895424, 0.8431372549019607, 0.842483660130719, 0.8016339869281046, 0.8542483660130721, 0.8549019607843137, 0.8486928104575163, 0.8424836601307188, 0.6107843137254902, 0.8428104575163399, 0.8140522875816995, 0.8483660130718953, 0.8663398692810459, 0.8486928104575163]}, {\"categories\": [\"0\", \"1\", \"2\", \"3\", \"4\", \"5\", \"6\", \"7\", \"8\", \"9\", \"10\", \"11\", \"12\", \"13\", \"14\", \"15\", \"16\", \"17\", \"18\", \"19\", \"20\", \"21\", \"22\", \"23\", \"24\", \"25\", \"26\", \"27\", \"28\", \"29\", \"30\", \"31\", \"32\", \"33\", \"36\", \"37\"], \"mode\": \"lines\", \"name\": \"precision_score_micro_max\", \"stepped\": true, \"type\": \"scatter\", \"data\": [0.8490196078431371, 0.8490196078431371, 0.8490196078431371, 0.8490196078431371, 0.8777777777777779, 0.8777777777777779, 0.8777777777777779, 0.8777777777777779, 0.8777777777777779, 0.8777777777777779, 0.8777777777777779, 0.8777777777777779, 0.8777777777777779, 0.8777777777777779, 0.8777777777777779, 0.8777777777777779, 0.8777777777777779, 0.8777777777777779, 0.8777777777777779, 0.8777777777777779, 0.8777777777777779, 0.8777777777777779, 0.8777777777777779, 0.8777777777777779, 0.8777777777777779, 0.8777777777777779, 0.8777777777777779, 0.8777777777777779, 0.8777777777777779, 0.8777777777777779, 0.8777777777777779, 0.8777777777777779, 0.8777777777777779, 0.8777777777777779, 0.8777777777777779, 0.8777777777777779]}], \"recall_score_macro\": [{\"categories\": [\"0\", \"1\", \"2\", \"3\", \"4\", \"5\", \"6\", \"7\", \"8\", \"9\", \"10\", \"11\", \"12\", \"13\", \"14\", \"15\", \"16\", \"17\", \"18\", \"19\", \"20\", \"21\", \"22\", \"23\", \"24\", \"25\", \"26\", \"27\", \"28\", \"29\", \"30\", \"31\", \"32\", \"33\", \"36\", \"37\"], \"mode\": \"markers\", \"name\": \"recall_score_macro\", \"stepped\": false, \"type\": \"scatter\", \"data\": [0.7950775613275614, 0.7585894660894661, 0.741744227994228, 0.7544444444444445, 0.8307323232323233, 0.7890656565656565, 0.747099567099567, 0.7988654401154401, 0.7327128427128428, 0.7603156565656566, 0.768270202020202, 0.708589466089466, 0.7298989898989899, 0.7828535353535354, 0.7598015873015873, 0.7145238095238096, 0.7613888888888889, 0.732020202020202, 0.7383459595959596, 0.7382485569985571, 0.7164285714285714, 0.7418055555555556, 0.7532485569985571, 0.7578156565656566, 0.7662247474747476, 0.7613618326118325, 0.7790656565656565, 0.7707323232323233, 0.774520202020202, 0.742020202020202, 0.5747474747474748, 0.7482323232323232, 0.7313275613275613, 0.7490440115440117, 0.7873989898989899, 0.77489898989899]}, {\"categories\": [\"0\", \"1\", \"2\", \"3\", \"4\", \"5\", \"6\", \"7\", \"8\", \"9\", \"10\", \"11\", \"12\", \"13\", \"14\", \"15\", \"16\", \"17\", \"18\", \"19\", \"20\", \"21\", \"22\", \"23\", \"24\", \"25\", \"26\", \"27\", \"28\", \"29\", \"30\", \"31\", \"32\", \"33\", \"36\", \"37\"], \"mode\": \"lines\", \"name\": \"recall_score_macro_max\", \"stepped\": true, \"type\": \"scatter\", \"data\": [0.7950775613275614, 0.7950775613275614, 0.7950775613275614, 0.7950775613275614, 0.8307323232323233, 0.8307323232323233, 0.8307323232323233, 0.8307323232323233, 0.8307323232323233, 0.8307323232323233, 0.8307323232323233, 0.8307323232323233, 0.8307323232323233, 0.8307323232323233, 0.8307323232323233, 0.8307323232323233, 0.8307323232323233, 0.8307323232323233, 0.8307323232323233, 0.8307323232323233, 0.8307323232323233, 0.8307323232323233, 0.8307323232323233, 0.8307323232323233, 0.8307323232323233, 0.8307323232323233, 0.8307323232323233, 0.8307323232323233, 0.8307323232323233, 0.8307323232323233, 0.8307323232323233, 0.8307323232323233, 0.8307323232323233, 0.8307323232323233, 0.8307323232323233, 0.8307323232323233]}], \"recall_score_micro\": [{\"categories\": [\"0\", \"1\", \"2\", \"3\", \"4\", \"5\", \"6\", \"7\", \"8\", \"9\", \"10\", \"11\", \"12\", \"13\", \"14\", \"15\", \"16\", \"17\", \"18\", \"19\", \"20\", \"21\", \"22\", \"23\", \"24\", \"25\", \"26\", \"27\", \"28\", \"29\", \"30\", \"31\", \"32\", \"33\", \"36\", \"37\"], \"mode\": \"markers\", \"name\": \"recall_score_micro\", \"stepped\": false, \"type\": \"scatter\", \"data\": [0.8490196078431371, 0.8258169934640522, 0.8251633986928104, 0.8486928104575163, 0.8777777777777779, 0.8542483660130719, 0.819607843137255, 0.8486928104575163, 0.807843137254902, 0.8486928104575163, 0.8490196078431372, 0.8196078431372549, 0.830718954248366, 0.8604575163398694, 0.8542483660130719, 0.8248366013071895, 0.8428104575163399, 0.831045751633987, 0.8199346405228758, 0.819281045751634, 0.8307189542483661, 0.8192810457516341, 0.8366013071895424, 0.8431372549019607, 0.842483660130719, 0.8016339869281046, 0.8542483660130721, 0.8549019607843137, 0.8486928104575163, 0.8424836601307188, 0.6107843137254902, 0.8428104575163399, 0.8140522875816995, 0.8483660130718953, 0.8663398692810459, 0.8486928104575163]}, {\"categories\": [\"0\", \"1\", \"2\", \"3\", \"4\", \"5\", \"6\", \"7\", \"8\", \"9\", \"10\", \"11\", \"12\", \"13\", \"14\", \"15\", \"16\", \"17\", \"18\", \"19\", \"20\", \"21\", \"22\", \"23\", \"24\", \"25\", \"26\", \"27\", \"28\", \"29\", \"30\", \"31\", \"32\", \"33\", \"36\", \"37\"], \"mode\": \"lines\", \"name\": \"recall_score_micro_max\", \"stepped\": true, \"type\": \"scatter\", \"data\": [0.8490196078431371, 0.8490196078431371, 0.8490196078431371, 0.8490196078431371, 0.8777777777777779, 0.8777777777777779, 0.8777777777777779, 0.8777777777777779, 0.8777777777777779, 0.8777777777777779, 0.8777777777777779, 0.8777777777777779, 0.8777777777777779, 0.8777777777777779, 0.8777777777777779, 0.8777777777777779, 0.8777777777777779, 0.8777777777777779, 0.8777777777777779, 0.8777777777777779, 0.8777777777777779, 0.8777777777777779, 0.8777777777777779, 0.8777777777777779, 0.8777777777777779, 0.8777777777777779, 0.8777777777777779, 0.8777777777777779, 0.8777777777777779, 0.8777777777777779, 0.8777777777777779, 0.8777777777777779, 0.8777777777777779, 0.8777777777777779, 0.8777777777777779, 0.8777777777777779]}], \"average_precision_score_micro\": [{\"categories\": [\"0\", \"1\", \"2\", \"3\", \"4\", \"5\", \"6\", \"7\", \"8\", \"9\", \"10\", \"11\", \"12\", \"13\", \"14\", \"15\", \"16\", \"17\", \"18\", \"19\", \"20\", \"21\", \"22\", \"23\", \"24\", \"25\", \"26\", \"27\", \"28\", \"29\", \"30\", \"31\", \"32\", \"33\", \"36\", \"37\"], \"mode\": \"markers\", \"name\": \"average_precision_score_micro\", \"stepped\": false, \"type\": \"scatter\", \"data\": [0.9258111819395577, 0.9300264988169162, 0.9188197007481668, 0.9140687155338083, 0.9232294540244691, 0.9266285850145609, 0.8651085862957564, 0.9430214294978017, 0.8780580801564101, 0.9180728817693506, 0.9249945954414154, 0.8993541077016278, 0.9048444079309865, 0.9339143424044789, 0.9039657275511616, 0.9028010755433981, 0.9224739538202419, 0.9157350206822711, 0.9115517768739523, 0.9244082127763423, 0.9024585081324755, 0.9237668073366532, 0.9104303208468278, 0.9309759328271096, 0.9237199241555155, 0.804354656699557, 0.9126411838455566, 0.9319629475483137, 0.909524249277992, 0.9151528269108866, 0.6926163683481704, 0.9025423226610345, 0.9120435205840633, 0.9201010001983534, 0.9336540183696403, 0.9380374914815988]}, {\"categories\": [\"0\", \"1\", \"2\", \"3\", \"4\", \"5\", \"6\", \"7\", \"8\", \"9\", \"10\", \"11\", \"12\", \"13\", \"14\", \"15\", \"16\", \"17\", \"18\", \"19\", \"20\", \"21\", \"22\", \"23\", \"24\", \"25\", \"26\", \"27\", \"28\", \"29\", \"30\", \"31\", \"32\", \"33\", \"36\", \"37\"], \"mode\": \"lines\", \"name\": \"average_precision_score_micro_max\", \"stepped\": true, \"type\": \"scatter\", \"data\": [0.9258111819395577, 0.9300264988169162, 0.9300264988169162, 0.9300264988169162, 0.9300264988169162, 0.9300264988169162, 0.9300264988169162, 0.9430214294978017, 0.9430214294978017, 0.9430214294978017, 0.9430214294978017, 0.9430214294978017, 0.9430214294978017, 0.9430214294978017, 0.9430214294978017, 0.9430214294978017, 0.9430214294978017, 0.9430214294978017, 0.9430214294978017, 0.9430214294978017, 0.9430214294978017, 0.9430214294978017, 0.9430214294978017, 0.9430214294978017, 0.9430214294978017, 0.9430214294978017, 0.9430214294978017, 0.9430214294978017, 0.9430214294978017, 0.9430214294978017, 0.9430214294978017, 0.9430214294978017, 0.9430214294978017, 0.9430214294978017, 0.9430214294978017, 0.9430214294978017]}], \"average_precision_score_macro\": [{\"categories\": [\"0\", \"1\", \"2\", \"3\", \"4\", \"5\", \"6\", \"7\", \"8\", \"9\", \"10\", \"11\", \"12\", \"13\", \"14\", \"15\", \"16\", \"17\", \"18\", \"19\", \"20\", \"21\", \"22\", \"23\", \"24\", \"25\", \"26\", \"27\", \"28\", \"29\", \"30\", \"31\", \"32\", \"33\", \"36\", \"37\"], \"mode\": \"markers\", \"name\": \"average_precision_score_macro\", \"stepped\": false, \"type\": \"scatter\", \"data\": [0.8811998158264153, 0.8961833138876445, 0.8775652807062995, 0.8853030682414357, 0.8901116960213837, 0.8908739397300561, 0.8202764204384397, 0.9133449572587032, 0.8446648459238302, 0.8780954464080024, 0.9111086033348496, 0.8751890732947837, 0.8835865109341045, 0.9132873412635873, 0.8749185486251552, 0.8913632986855946, 0.8709836009896648, 0.8880234790912549, 0.8768254376793099, 0.9133450970099254, 0.9019427014133454, 0.888627502104536, 0.8763675257943703, 0.9018957161138454, 0.8985516914216065, 0.7042733662441455, 0.8888349580110704, 0.9062806951319414, 0.8850520857906983, 0.8916968067980529, 0.6395985634638472, 0.8800244489854642, 0.8673134300110522, 0.89993708388208, 0.9126232275994738, 0.9105990459730193]}, {\"categories\": [\"0\", \"1\", \"2\", \"3\", \"4\", \"5\", \"6\", \"7\", \"8\", \"9\", \"10\", \"11\", \"12\", \"13\", \"14\", \"15\", \"16\", \"17\", \"18\", \"19\", \"20\", \"21\", \"22\", \"23\", \"24\", \"25\", \"26\", \"27\", \"28\", \"29\", \"30\", \"31\", \"32\", \"33\", \"36\", \"37\"], \"mode\": \"lines\", \"name\": \"average_precision_score_macro_max\", \"stepped\": true, \"type\": \"scatter\", \"data\": [0.8811998158264153, 0.8961833138876445, 0.8961833138876445, 0.8961833138876445, 0.8961833138876445, 0.8961833138876445, 0.8961833138876445, 0.9133449572587032, 0.9133449572587032, 0.9133449572587032, 0.9133449572587032, 0.9133449572587032, 0.9133449572587032, 0.9133449572587032, 0.9133449572587032, 0.9133449572587032, 0.9133449572587032, 0.9133449572587032, 0.9133449572587032, 0.9133450970099254, 0.9133450970099254, 0.9133450970099254, 0.9133450970099254, 0.9133450970099254, 0.9133450970099254, 0.9133450970099254, 0.9133450970099254, 0.9133450970099254, 0.9133450970099254, 0.9133450970099254, 0.9133450970099254, 0.9133450970099254, 0.9133450970099254, 0.9133450970099254, 0.9133450970099254, 0.9133450970099254]}], \"accuracy\": [{\"categories\": [\"0\", \"1\", \"2\", \"3\", \"4\", \"5\", \"6\", \"7\", \"8\", \"9\", \"10\", \"11\", \"12\", \"13\", \"14\", \"15\", \"16\", \"17\", \"18\", \"19\", \"20\", \"21\", \"22\", \"23\", \"24\", \"25\", \"26\", \"27\", \"28\", \"29\", \"30\", \"31\", \"32\", \"33\", \"36\", \"37\"], \"mode\": \"markers\", \"name\": \"accuracy\", \"stepped\": false, \"type\": \"scatter\", \"data\": [0.8490196078431371, 0.8258169934640522, 0.8251633986928104, 0.8486928104575163, 0.8777777777777779, 0.8542483660130719, 0.819607843137255, 0.8486928104575163, 0.807843137254902, 0.8486928104575163, 0.8490196078431372, 0.8196078431372549, 0.830718954248366, 0.8604575163398694, 0.8542483660130719, 0.8248366013071895, 0.8428104575163399, 0.831045751633987, 0.8199346405228758, 0.819281045751634, 0.8307189542483661, 0.8192810457516341, 0.8366013071895424, 0.8431372549019607, 0.842483660130719, 0.8016339869281046, 0.8542483660130721, 0.8549019607843137, 0.8486928104575163, 0.8424836601307188, 0.6107843137254902, 0.8428104575163399, 0.8140522875816995, 0.8483660130718953, 0.8663398692810459, 0.8486928104575163]}, {\"categories\": [\"0\", \"1\", \"2\", \"3\", \"4\", \"5\", \"6\", \"7\", \"8\", \"9\", \"10\", \"11\", \"12\", \"13\", \"14\", \"15\", \"16\", \"17\", \"18\", \"19\", \"20\", \"21\", \"22\", \"23\", \"24\", \"25\", \"26\", \"27\", \"28\", \"29\", \"30\", \"31\", \"32\", \"33\", \"36\", \"37\"], \"mode\": \"lines\", \"name\": \"accuracy_max\", \"stepped\": true, \"type\": \"scatter\", \"data\": [0.8490196078431371, 0.8490196078431371, 0.8490196078431371, 0.8490196078431371, 0.8777777777777779, 0.8777777777777779, 0.8777777777777779, 0.8777777777777779, 0.8777777777777779, 0.8777777777777779, 0.8777777777777779, 0.8777777777777779, 0.8777777777777779, 0.8777777777777779, 0.8777777777777779, 0.8777777777777779, 0.8777777777777779, 0.8777777777777779, 0.8777777777777779, 0.8777777777777779, 0.8777777777777779, 0.8777777777777779, 0.8777777777777779, 0.8777777777777779, 0.8777777777777779, 0.8777777777777779, 0.8777777777777779, 0.8777777777777779, 0.8777777777777779, 0.8777777777777779, 0.8777777777777779, 0.8777777777777779, 0.8777777777777779, 0.8777777777777779, 0.8777777777777779, 0.8777777777777779]}], \"average_precision_score_weighted\": [{\"categories\": [\"0\", \"1\", \"2\", \"3\", \"4\", \"5\", \"6\", \"7\", \"8\", \"9\", \"10\", \"11\", \"12\", \"13\", \"14\", \"15\", \"16\", \"17\", \"18\", \"19\", \"20\", \"21\", \"22\", \"23\", \"24\", \"25\", \"26\", \"27\", \"28\", \"29\", \"30\", \"31\", \"32\", \"33\", \"36\", \"37\"], \"mode\": \"markers\", \"name\": \"average_precision_score_weighted\", \"stepped\": false, \"type\": \"scatter\", \"data\": [0.9224607281095171, 0.9285437883275254, 0.9147648711662553, 0.9168503047958065, 0.9198948501197636, 0.9206374163770358, 0.8556782186799488, 0.9407706573191004, 0.887718553286604, 0.9185055667451862, 0.9370447318284689, 0.9113027994688896, 0.9200721183852671, 0.9392358957843389, 0.9101519394036695, 0.9245009656817615, 0.9116122737316509, 0.9145400006674516, 0.9146602535616376, 0.9358703588158604, 0.9314492533610181, 0.9167957331553064, 0.9116779787238265, 0.931355614301116, 0.929966965731095, 0.7706770806194105, 0.9232671539981228, 0.9332704750395061, 0.91263891513459, 0.9219486868059533, 0.7319017753893762, 0.9115782062783216, 0.9086604234758792, 0.931894119913151, 0.9382003953370734, 0.9372889973668521]}, {\"categories\": [\"0\", \"1\", \"2\", \"3\", \"4\", \"5\", \"6\", \"7\", \"8\", \"9\", \"10\", \"11\", \"12\", \"13\", \"14\", \"15\", \"16\", \"17\", \"18\", \"19\", \"20\", \"21\", \"22\", \"23\", \"24\", \"25\", \"26\", \"27\", \"28\", \"29\", \"30\", \"31\", \"32\", \"33\", \"36\", \"37\"], \"mode\": \"lines\", \"name\": \"average_precision_score_weighted_max\", \"stepped\": true, \"type\": \"scatter\", \"data\": [0.9224607281095171, 0.9285437883275254, 0.9285437883275254, 0.9285437883275254, 0.9285437883275254, 0.9285437883275254, 0.9285437883275254, 0.9407706573191004, 0.9407706573191004, 0.9407706573191004, 0.9407706573191004, 0.9407706573191004, 0.9407706573191004, 0.9407706573191004, 0.9407706573191004, 0.9407706573191004, 0.9407706573191004, 0.9407706573191004, 0.9407706573191004, 0.9407706573191004, 0.9407706573191004, 0.9407706573191004, 0.9407706573191004, 0.9407706573191004, 0.9407706573191004, 0.9407706573191004, 0.9407706573191004, 0.9407706573191004, 0.9407706573191004, 0.9407706573191004, 0.9407706573191004, 0.9407706573191004, 0.9407706573191004, 0.9407706573191004, 0.9407706573191004, 0.9407706573191004]}], \"norm_macro_recall\": [{\"categories\": [\"0\", \"1\", \"2\", \"3\", \"4\", \"5\", \"6\", \"7\", \"8\", \"9\", \"10\", \"11\", \"12\", \"13\", \"14\", \"15\", \"16\", \"17\", \"18\", \"19\", \"20\", \"21\", \"22\", \"23\", \"24\", \"25\", \"26\", \"27\", \"28\", \"29\", \"30\", \"31\", \"32\", \"33\", \"36\", \"37\"], \"mode\": \"markers\", \"name\": \"norm_macro_recall\", \"stepped\": false, \"type\": \"scatter\", \"data\": [0.5901551226551227, 0.5314646464646465, 0.4977741702741703, 0.516031746031746, 0.6614646464646465, 0.578131313131313, 0.4941991341991342, 0.6120165945165945, 0.4797113997113997, 0.5277741702741702, 0.536540404040404, 0.4243217893217893, 0.4669408369408369, 0.5657070707070706, 0.5267460317460317, 0.43619047619047624, 0.5227777777777779, 0.46404040404040403, 0.4766919191919192, 0.476497113997114, 0.43285714285714283, 0.4836111111111111, 0.5064971139971141, 0.5227741702741703, 0.5324494949494949, 0.5227236652236652, 0.558131313131313, 0.5414646464646464, 0.549040404040404, 0.49118326118326106, 0.20176767676767676, 0.5036075036075036, 0.4626551226551226, 0.5052308802308801, 0.5747979797979798, 0.5497979797979797]}, {\"categories\": [\"0\", \"1\", \"2\", \"3\", \"4\", \"5\", \"6\", \"7\", \"8\", \"9\", \"10\", \"11\", \"12\", \"13\", \"14\", \"15\", \"16\", \"17\", \"18\", \"19\", \"20\", \"21\", \"22\", \"23\", \"24\", \"25\", \"26\", \"27\", \"28\", \"29\", \"30\", \"31\", \"32\", \"33\", \"36\", \"37\"], \"mode\": \"lines\", \"name\": \"norm_macro_recall_max\", \"stepped\": true, \"type\": \"scatter\", \"data\": [0.5901551226551227, 0.5901551226551227, 0.5901551226551227, 0.5901551226551227, 0.6614646464646465, 0.6614646464646465, 0.6614646464646465, 0.6614646464646465, 0.6614646464646465, 0.6614646464646465, 0.6614646464646465, 0.6614646464646465, 0.6614646464646465, 0.6614646464646465, 0.6614646464646465, 0.6614646464646465, 0.6614646464646465, 0.6614646464646465, 0.6614646464646465, 0.6614646464646465, 0.6614646464646465, 0.6614646464646465, 0.6614646464646465, 0.6614646464646465, 0.6614646464646465, 0.6614646464646465, 0.6614646464646465, 0.6614646464646465, 0.6614646464646465, 0.6614646464646465, 0.6614646464646465, 0.6614646464646465, 0.6614646464646465, 0.6614646464646465, 0.6614646464646465, 0.6614646464646465]}]}, \"metricName\": null, \"primaryMetricName\": \"accuracy\", \"showLegend\": false}, \"run_metrics\": [{\"name\": \"experiment_status\", \"run_id\": \"AutoML_89b76151-e951-4e1a-8b3e-9276d9a6e6cf\", \"categories\": [0, 1, 2, 3, 4, 5, 6, 7, 8, 9, 10, 11, 12, 13], \"series\": [{\"data\": [\"DatasetEvaluation\", \"FeaturesGeneration\", \"DatasetFeaturization\", \"DatasetFeaturizationCompleted\", \"DatasetCrossValidationSplit\", \"ModelSelection\", \"BestRunExplainModel\", \"ModelExplanationDataSetSetup\", \"PickSurrogateModel\", \"EngineeredFeatureExplanations\", \"EngineeredFeatureExplanations\", \"RawFeaturesExplanations\", \"RawFeaturesExplanations\", \"BestRunExplainModel\"]}]}, {\"name\": \"experiment_status_description\", \"run_id\": \"AutoML_89b76151-e951-4e1a-8b3e-9276d9a6e6cf\", \"categories\": [0, 1, 2, 3, 4, 5, 6, 7, 8, 9, 10, 11, 12, 13], \"series\": [{\"data\": [\"Gathering dataset statistics.\", \"Generating features for the dataset.\", \"Beginning to fit featurizers and featurize the dataset.\", \"Completed fit featurizers and featurizing the dataset.\", \"Generating individually featurized CV splits.\", \"Beginning model selection.\", \"Best run model explanations started\", \"Model explanations data setup completed\", \"Choosing LightGBM as the surrogate model for explanations\", \"Computation of engineered features started\", \"Computation of engineered features completed\", \"Computation of raw features started\", \"Computation of raw features completed\", \"Best run model explanations completed\"]}]}], \"run_logs\": \"\\nRun is completed.\", \"graph\": {}, \"widget_settings\": {\"childWidgetDisplay\": \"popup\", \"send_telemetry\": false, \"log_level\": \"INFO\", \"sdk_version\": \"1.19.0\"}, \"loading\": false}"
     },
     "metadata": {},
     "output_type": "display_data"
    }
   ],
   "source": [
    "from azureml.widgets import RunDetails\n",
    "RunDetails(remote_run).show()"
   ]
  },
  {
   "cell_type": "markdown",
   "metadata": {},
   "source": [
    "## Best Model\n",
    "\n",
    "TODO: In the cell below, get the best model from the automl experiments and display all the properties of the model.\n",
    "\n"
   ]
  },
  {
   "cell_type": "code",
   "execution_count": 12,
   "metadata": {
    "gather": {
     "logged": 1610630478168
    },
    "jupyter": {
     "outputs_hidden": false,
     "source_hidden": false
    },
    "nteract": {
     "transient": {
      "deleting": false
     }
    }
   },
   "outputs": [
    {
     "name": "stdout",
     "output_type": "stream",
     "text": [
      "Run(Experiment: capstone-automl,\n",
      "Id: AutoML_89b76151-e951-4e1a-8b3e-9276d9a6e6cf_4,\n",
      "Type: azureml.scriptrun,\n",
      "Status: Completed)\n",
      "Pipeline(memory=None,\n",
      "         steps=[('datatransformer',\n",
      "                 DataTransformer(enable_dnn=None, enable_feature_sweeping=None,\n",
      "                                 feature_sweeping_config=None,\n",
      "                                 feature_sweeping_timeout=None,\n",
      "                                 featurization_config=None, force_text_dnn=None,\n",
      "                                 is_cross_validation=None,\n",
      "                                 is_onnx_compatible=None, logger=None,\n",
      "                                 observer=None, task=None, working_dir=None)),\n",
      "                ('MinMaxScaler', MinMaxScaler(copy...\n",
      "                 RandomForestClassifier(bootstrap=True, ccp_alpha=0.0,\n",
      "                                        class_weight='balanced',\n",
      "                                        criterion='gini', max_depth=None,\n",
      "                                        max_features='log2',\n",
      "                                        max_leaf_nodes=None, max_samples=None,\n",
      "                                        min_impurity_decrease=0.0,\n",
      "                                        min_impurity_split=None,\n",
      "                                        min_samples_leaf=0.01,\n",
      "                                        min_samples_split=0.01,\n",
      "                                        min_weight_fraction_leaf=0.0,\n",
      "                                        n_estimators=25, n_jobs=1,\n",
      "                                        oob_score=True, random_state=None,\n",
      "                                        verbose=0, warm_start=False))],\n",
      "         verbose=False)\n"
     ]
    },
    {
     "data": {
      "text/plain": [
       "'AutoML89b76151e4'"
      ]
     },
     "execution_count": 12,
     "metadata": {},
     "output_type": "execute_result"
    }
   ],
   "source": [
    "from azureml.core.run import Run\n",
    "###model_explainability_run_id = remote_run.id + \"_\" + \"ModelExplain\"\n",
    "#print(model_explainability_run_id)\n",
    "##model_explainability_run = Run(experiment=experiment, run_id=model_explainability_run_id)\n",
    "#model_explainability_run.wait_for_completion()\n",
    "\n",
    "# Get the best run object\n",
    "best_run, fitted_model = remote_run.get_output()\n",
    "print(best_run)\n",
    "print(fitted_model)\n",
    "best_run.get_tags()\n",
    "best_run.properties['model_name']"
   ]
  },
  {
   "cell_type": "code",
   "execution_count": 17,
   "metadata": {
    "gather": {
     "logged": 1610554648391
    }
   },
   "outputs": [],
   "source": [
    "#from azureml.automl.core.shared import constants\n",
    "#best_run.download_file(constants.CONDA_ENV_FILE_PATH, 'cap-env.yml')"
   ]
  },
  {
   "cell_type": "code",
   "execution_count": 13,
   "metadata": {
    "gather": {
     "logged": 1610630483763
    },
    "jupyter": {
     "outputs_hidden": false,
     "source_hidden": false
    },
    "nteract": {
     "transient": {
      "deleting": false
     }
    }
   },
   "outputs": [
    {
     "data": {
      "text/html": [
       "['outputs/fitted_model.joblib']"
      ],
      "text/plain": [
       "['outputs/fitted_model.joblib']"
      ]
     },
     "execution_count": 13,
     "metadata": {},
     "output_type": "execute_result"
    }
   ],
   "source": [
    "#TODO: Save the best model\n",
    "import joblib\n",
    "os.makedirs('outputs', exist_ok = True)\n",
    "joblib.dump(fitted_model, 'outputs/fitted_model.joblib')"
   ]
  },
  {
   "cell_type": "markdown",
   "metadata": {},
   "source": [
    "## Model Deployment\n",
    "\n",
    "Remember you have to deploy only one of the two models you trained.. Perform the steps in the rest of this notebook only if you wish to deploy this model.\n",
    "\n",
    "TODO: In the cell below, register the model, create an inference config and deploy the model as a web service."
   ]
  },
  {
   "cell_type": "code",
   "execution_count": 14,
   "metadata": {
    "gather": {
     "logged": 1610630492781
    },
    "jupyter": {
     "outputs_hidden": false,
     "source_hidden": false
    },
    "nteract": {
     "transient": {
      "deleting": false
     }
    }
   },
   "outputs": [],
   "source": [
    "best_run, fitted_model = remote_run.get_output()\n",
    "model_name = best_run.properties['model_name']\n",
    "\n",
    "script_file_name = './score.py'\n",
    "\n",
    "best_run.download_file('outputs/scoring_file_v_1_0_0.py', './score.py')\n"
   ]
  },
  {
   "cell_type": "code",
   "execution_count": 15,
   "metadata": {
    "gather": {
     "logged": 1610630502130
    }
   },
   "outputs": [
    {
     "data": {
      "text/plain": [
       "Model(workspace=Workspace.create(name='quick-starts-ws-134658', subscription_id='cdbe0b43-92a0-4715-838a-f2648cc7ad21', resource_group='aml-quickstarts-134658'), name=auto-ml, id=auto-ml:1, version=1, tags={}, properties={})"
      ]
     },
     "execution_count": 15,
     "metadata": {},
     "output_type": "execute_result"
    }
   ],
   "source": [
    "best_run.register_model(\"auto-ml\" , model_path = './outputs/')"
   ]
  },
  {
   "cell_type": "code",
   "execution_count": 16,
   "metadata": {
    "gather": {
     "logged": 1610630508092
    }
   },
   "outputs": [
    {
     "name": "stdout",
     "output_type": "stream",
     "text": [
      "AutoML89b76151e4\n"
     ]
    }
   ],
   "source": [
    "description = 'AutoML Model trained on MBA Placement data to predict if a student gets placed or not.'\n",
    "tags = None\n",
    "model = remote_run.register_model(model_name = model_name, description = description, tags = tags)\n",
    "\n",
    "print(remote_run.model_id) # This will be written to the script file later in the notebook."
   ]
  },
  {
   "cell_type": "markdown",
   "metadata": {
    "collapsed": true,
    "gather": {
     "logged": 1598431657736
    },
    "jupyter": {
     "outputs_hidden": false,
     "source_hidden": false
    },
    "nteract": {
     "transient": {
      "deleting": false
     }
    }
   },
   "source": [
    "TODO: In the cell below, send a request to the web service you deployed to test it."
   ]
  },
  {
   "cell_type": "code",
   "execution_count": 18,
   "metadata": {
    "gather": {
     "logged": 1610631502204
    },
    "jupyter": {
     "outputs_hidden": false,
     "source_hidden": false
    },
    "nteract": {
     "transient": {
      "deleting": false
     }
    }
   },
   "outputs": [
    {
     "name": "stdout",
     "output_type": "stream",
     "text": [
      "automl-mba-placement-all\n",
      "Tips: You can try get_logs(): https://aka.ms/debugimage#dockerlog or local deployment: https://aka.ms/debugimage#debug-locally to debug if deployment takes longer than 10 minutes.\n",
      "Running........................................................................................................................................................................\n",
      "Succeeded\n",
      "ACI service creation operation finished, operation \"Succeeded\"\n",
      "Healthy\n"
     ]
    }
   ],
   "source": [
    "from azureml.core.model import InferenceConfig\n",
    "from azureml.core.webservice import AciWebservice\n",
    "from azureml.core.webservice import Webservice\n",
    "from azureml.core.model import Model\n",
    "from azureml.core.environment import Environment\n",
    "\n",
    "#myenv = Environment.get(ws, name=\"cap-env\", version=None)\n",
    "inference_config = InferenceConfig(entry_script=script_file_name, environment=env)\n",
    "\n",
    "aciconfig = AciWebservice.deploy_configuration(cpu_cores = 1, \n",
    "                                               memory_gb = 1,\n",
    "                                               enable_app_insights=True, \n",
    "                                               tags = {'area': \"PlacementData\", 'type': \"automl_classification\"}, \n",
    "                                               description = 'sample service for Automl Classification')\n",
    "\n",
    "aci_service_name = 'automl-mba-placement-all'\n",
    "print(aci_service_name)\n",
    "aci_service = Model.deploy(ws, aci_service_name, [model], inference_config, aciconfig)\n",
    "aci_service.wait_for_deployment(True)\n",
    "print(aci_service.state)"
   ]
  },
  {
   "cell_type": "code",
   "execution_count": 19,
   "metadata": {
    "gather": {
     "logged": 1610631537697
    }
   },
   "outputs": [
    {
     "name": "stdout",
     "output_type": "stream",
     "text": [
      "http://c3c2e2db-cbd1-4407-8dc7-7bc2df423060.southcentralus.azurecontainer.io/score\n"
     ]
    }
   ],
   "source": [
    "print(aci_service.scoring_uri)"
   ]
  },
  {
   "cell_type": "code",
   "execution_count": 20,
   "metadata": {
    "gather": {
     "logged": 1610631543278
    }
   },
   "outputs": [],
   "source": [
    "# Load the mba placement datasets.\n",
    "import numpy as np\n",
    "from numpy import array"
   ]
  },
  {
   "cell_type": "code",
   "execution_count": 21,
   "metadata": {
    "gather": {
     "logged": 1610631546608
    }
   },
   "outputs": [],
   "source": [
    "import json\n",
    "import requests\n",
    "\n",
    "test_x_json = test_x.to_json(orient='records')\n",
    "data = \"{\\\"data\\\": \" + test_x_json +\"}\"\n",
    "headers = {'Content-Type': 'application/json'}\n",
    "\n",
    "resp = requests.post(aci_service.scoring_uri, data, headers=headers)\n",
    "\n",
    "y_pred = json.loads(json.loads(resp.text))['result']"
   ]
  },
  {
   "cell_type": "code",
   "execution_count": 22,
   "metadata": {
    "gather": {
     "logged": 1610631553215
    }
   },
   "outputs": [
    {
     "name": "stdout",
     "output_type": "stream",
     "text": [
      "[[ 9  6]\n",
      " [ 1 27]]\n",
      "Overall accuracy: 0.8372093023255814\n"
     ]
    }
   ],
   "source": [
    "from sklearn.metrics import confusion_matrix\n",
    "\n",
    "conf_mx = confusion_matrix(test_y, y_pred)\n",
    "print(conf_mx)\n",
    "print('Overall accuracy:', np.average(y_pred == test_y))"
   ]
  },
  {
   "cell_type": "code",
   "execution_count": 25,
   "metadata": {},
   "outputs": [
    {
     "ename": "IndexError",
     "evalue": "too many indices for array",
     "output_type": "error",
     "traceback": [
      "\u001b[0;31m---------------------------------------------------------------------------\u001b[0m",
      "\u001b[0;31mIndexError\u001b[0m                                Traceback (most recent call last)",
      "\u001b[0;32m<ipython-input-25-8b47818aea73>\u001b[0m in \u001b[0;36m<module>\u001b[0;34m\u001b[0m\n\u001b[1;32m      1\u001b[0m \u001b[0mactual\u001b[0m \u001b[0;34m=\u001b[0m \u001b[0marray\u001b[0m\u001b[0;34m(\u001b[0m\u001b[0mtest_y\u001b[0m\u001b[0;34m)\u001b[0m\u001b[0;34m\u001b[0m\u001b[0;34m\u001b[0m\u001b[0m\n\u001b[0;32m----> 2\u001b[0;31m \u001b[0mactual\u001b[0m \u001b[0;34m=\u001b[0m \u001b[0mactual\u001b[0m\u001b[0;34m[\u001b[0m\u001b[0;34m:\u001b[0m\u001b[0;34m,\u001b[0m\u001b[0;36m0\u001b[0m\u001b[0;34m]\u001b[0m\u001b[0;34m\u001b[0m\u001b[0;34m\u001b[0m\u001b[0m\n\u001b[0m\u001b[1;32m      3\u001b[0m \u001b[0mprint\u001b[0m\u001b[0;34m(\u001b[0m\u001b[0mlen\u001b[0m\u001b[0;34m(\u001b[0m\u001b[0my_pred\u001b[0m\u001b[0;34m)\u001b[0m\u001b[0;34m,\u001b[0m \u001b[0;34m\" \"\u001b[0m\u001b[0;34m,\u001b[0m \u001b[0mlen\u001b[0m\u001b[0;34m(\u001b[0m\u001b[0mactual\u001b[0m\u001b[0;34m)\u001b[0m\u001b[0;34m)\u001b[0m\u001b[0;34m\u001b[0m\u001b[0;34m\u001b[0m\u001b[0m\n",
      "\u001b[0;31mIndexError\u001b[0m: too many indices for array"
     ]
    }
   ],
   "source": [
    "actual = array(test_y)\n",
    "actual = actual[:,0]\n",
    "print(len(y_pred), \" \", len(actual))"
   ]
  },
  {
   "cell_type": "markdown",
   "metadata": {
    "collapsed": true,
    "gather": {
     "logged": 1598432765711
    },
    "jupyter": {
     "outputs_hidden": false,
     "source_hidden": false
    },
    "nteract": {
     "transient": {
      "deleting": false
     }
    }
   },
   "source": [
    "TODO: In the cell below, print the logs of the web service and delete the service"
   ]
  },
  {
   "cell_type": "code",
   "execution_count": 26,
   "metadata": {
    "gather": {
     "logged": 1610631615376
    },
    "jupyter": {
     "outputs_hidden": false,
     "source_hidden": false
    },
    "nteract": {
     "transient": {
      "deleting": false
     }
    }
   },
   "outputs": [
    {
     "data": {
      "text/plain": [
       "'2021-01-14T13:38:01,242283600+00:00 - iot-server/run \\n2021-01-14T13:38:01,246884500+00:00 - nginx/run \\n2021-01-14T13:38:01,244959700+00:00 - rsyslog/run \\n/usr/sbin/nginx: /azureml-envs/azureml_9c539d20199ae6be65c41c0382029684/lib/libcrypto.so.1.0.0: no version information available (required by /usr/sbin/nginx)\\n/usr/sbin/nginx: /azureml-envs/azureml_9c539d20199ae6be65c41c0382029684/lib/libcrypto.so.1.0.0: no version information available (required by /usr/sbin/nginx)\\n/usr/sbin/nginx: /azureml-envs/azureml_9c539d20199ae6be65c41c0382029684/lib/libssl.so.1.0.0: no version information available (required by /usr/sbin/nginx)\\n/usr/sbin/nginx: /azureml-envs/azureml_9c539d20199ae6be65c41c0382029684/lib/libssl.so.1.0.0: no version information available (required by /usr/sbin/nginx)\\n/usr/sbin/nginx: /azureml-envs/azureml_9c539d20199ae6be65c41c0382029684/lib/libssl.so.1.0.0: no version information available (required by /usr/sbin/nginx)\\n2021-01-14T13:38:01,263287700+00:00 - gunicorn/run \\nrsyslogd: /azureml-envs/azureml_9c539d20199ae6be65c41c0382029684/lib/libuuid.so.1: no version information available (required by rsyslogd)\\nEdgeHubConnectionString and IOTEDGE_IOTHUBHOSTNAME are not set. Exiting...\\n2021-01-14T13:38:02,588752700+00:00 - iot-server/finish 1 0\\n2021-01-14T13:38:02,598466700+00:00 - Exit code 1 is normal. Not restarting iot-server.\\nStarting gunicorn 19.9.0\\nListening at: http://127.0.0.1:31311 (59)\\nUsing worker: sync\\nworker timeout is set to 300\\nBooting worker with pid: 96\\nSPARK_HOME not set. Skipping PySpark Initialization.\\nGenerating new fontManager, this may take some time...\\nInitializing logger\\n2021-01-14 13:38:08,212 | root | INFO | Starting up app insights client\\nStarting up app insights client\\n2021-01-14 13:38:08,213 | root | INFO | Starting up request id generator\\nStarting up request id generator\\n2021-01-14 13:38:08,213 | root | INFO | Starting up app insight hooks\\nStarting up app insight hooks\\n2021-01-14 13:38:08,214 | root | INFO | Invoking user\\'s init function\\nInvoking user\\'s init function\\n2021-01-14 13:38:16,694 | root | INFO | Users\\'s init has completed successfully\\nUsers\\'s init has completed successfully\\n2021-01-14 13:38:16,702 | root | INFO | Skipping middleware: dbg_model_info as it\\'s not enabled.\\nSkipping middleware: dbg_model_info as it\\'s not enabled.\\n2021-01-14 13:38:16,702 | root | INFO | Skipping middleware: dbg_resource_usage as it\\'s not enabled.\\nSkipping middleware: dbg_resource_usage as it\\'s not enabled.\\n2021-01-14 13:38:16,704 | root | INFO | Scoring timeout is found from os.environ: 60000 ms\\nScoring timeout is found from os.environ: 60000 ms\\n2021-01-14 13:38:16,752 | root | INFO | 200\\n200\\n127.0.0.1 - - [14/Jan/2021:13:38:16 +0000] \"GET /swagger.json HTTP/1.0\" 200 3030 \"-\" \"Go-http-client/1.1\"\\n2021-01-14 13:38:17,888 | root | INFO | 200\\n200\\n127.0.0.1 - - [14/Jan/2021:13:38:17 +0000] \"GET /swagger.json HTTP/1.0\" 200 3030 \"-\" \"Go-http-client/1.1\"\\n2021-01-14 13:38:18,225 | root | INFO | 200\\n200\\n127.0.0.1 - - [14/Jan/2021:13:38:18 +0000] \"GET /swagger.json HTTP/1.0\" 200 3030 \"-\" \"Go-http-client/1.1\"\\n2021-01-14 13:38:21,950 | root | INFO | 200\\n200\\n127.0.0.1 - - [14/Jan/2021:13:38:21 +0000] \"GET /swagger.json HTTP/1.0\" 200 3030 \"-\" \"Go-http-client/1.1\"\\n2021-01-14 13:39:06,377 | root | INFO | Validation Request Content-Type\\nValidation Request Content-Type\\n2021-01-14 13:39:06,379 | root | INFO | \\tHost: localhost:5001\\n\\tHost: localhost:5001\\n2021-01-14 13:39:06,379 | root | INFO | \\tX-Real-Ip: 127.0.0.1\\n\\tX-Real-Ip: 127.0.0.1\\n2021-01-14 13:39:06,379 | root | INFO | \\tX-Forwarded-For: 127.0.0.1\\n\\tX-Forwarded-For: 127.0.0.1\\n2021-01-14 13:39:06,379 | root | INFO | \\tX-Forwarded-Proto: http\\n\\tX-Forwarded-Proto: http\\n2021-01-14 13:39:06,379 | root | INFO | \\tConnection: close\\n\\tConnection: close\\n2021-01-14 13:39:06,379 | root | INFO | \\tContent-Length: 10353\\n\\tContent-Length: 10353\\n2021-01-14 13:39:06,380 | root | INFO | \\tUser-Agent: python-requests/2.25.0\\n\\tUser-Agent: python-requests/2.25.0\\n2021-01-14 13:39:06,380 | root | INFO | \\tAccept: */*\\n\\tAccept: */*\\n2021-01-14 13:39:06,380 | root | INFO | \\tAccept-Encoding: gzip, deflate\\n\\tAccept-Encoding: gzip, deflate\\n2021-01-14 13:39:06,382 | root | INFO | \\tContent-Type: application/json\\n\\tContent-Type: application/json\\n2021-01-14 13:39:06,382 | root | INFO | \\tX-Ms-Request-Id: 9f5e56b6-7f55-48b3-a728-df7891224279\\n\\tX-Ms-Request-Id: 9f5e56b6-7f55-48b3-a728-df7891224279\\n2021-01-14 13:39:06,383 | root | INFO | Scoring Timer is set to 60.0 seconds\\nScoring Timer is set to 60.0 seconds\\n2021-01-14 13:39:06,511 | root | INFO | 200\\n200\\n127.0.0.1 - - [14/Jan/2021:13:39:06 +0000] \"POST /score HTTP/1.0\" 200 145 \"-\" \"python-requests/2.25.0\"\\n'"
      ]
     },
     "execution_count": 26,
     "metadata": {},
     "output_type": "execute_result"
    }
   ],
   "source": [
    "aci_service.get_logs()"
   ]
  },
  {
   "cell_type": "code",
   "execution_count": null,
   "metadata": {},
   "outputs": [],
   "source": [
    "aci_service.delete()"
   ]
  }
 ],
 "metadata": {
  "kernel_info": {
   "name": "python3"
  },
  "kernelspec": {
   "display_name": "Python 3",
   "language": "python",
   "name": "python3"
  },
  "language_info": {
   "codemirror_mode": {
    "name": "ipython",
    "version": 3
   },
   "file_extension": ".py",
   "mimetype": "text/x-python",
   "name": "python",
   "nbconvert_exporter": "python",
   "pygments_lexer": "ipython3",
   "version": "3.6.9"
  },
  "nteract": {
   "version": "nteract-front-end@1.0.0"
  }
 },
 "nbformat": 4,
 "nbformat_minor": 2
}
